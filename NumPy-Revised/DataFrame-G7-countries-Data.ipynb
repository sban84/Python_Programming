{
 "cells": [
  {
   "cell_type": "markdown",
   "metadata": {},
   "source": [
    "## Refer 3 - Pandas - DataFrames in the same dir. Examples\n"
   ]
  },
  {
   "cell_type": "code",
   "execution_count": 4,
   "metadata": {},
   "outputs": [
    {
     "data": {
      "text/html": [
       "<div>\n",
       "<style scoped>\n",
       "    .dataframe tbody tr th:only-of-type {\n",
       "        vertical-align: middle;\n",
       "    }\n",
       "\n",
       "    .dataframe tbody tr th {\n",
       "        vertical-align: top;\n",
       "    }\n",
       "\n",
       "    .dataframe thead th {\n",
       "        text-align: right;\n",
       "    }\n",
       "</style>\n",
       "<table border=\"1\" class=\"dataframe\">\n",
       "  <thead>\n",
       "    <tr style=\"text-align: right;\">\n",
       "      <th></th>\n",
       "      <th>Population</th>\n",
       "      <th>GDP</th>\n",
       "      <th>Surface Area</th>\n",
       "      <th>HDI</th>\n",
       "      <th>Continent</th>\n",
       "    </tr>\n",
       "  </thead>\n",
       "  <tbody>\n",
       "    <tr>\n",
       "      <th>Canada</th>\n",
       "      <td>35.467</td>\n",
       "      <td>1785387</td>\n",
       "      <td>9984670</td>\n",
       "      <td>0.913</td>\n",
       "      <td>America</td>\n",
       "    </tr>\n",
       "    <tr>\n",
       "      <th>France</th>\n",
       "      <td>63.951</td>\n",
       "      <td>2833687</td>\n",
       "      <td>640679</td>\n",
       "      <td>0.888</td>\n",
       "      <td>Europe</td>\n",
       "    </tr>\n",
       "    <tr>\n",
       "      <th>Germany</th>\n",
       "      <td>80.940</td>\n",
       "      <td>3874437</td>\n",
       "      <td>357114</td>\n",
       "      <td>0.916</td>\n",
       "      <td>Europe</td>\n",
       "    </tr>\n",
       "    <tr>\n",
       "      <th>Italy</th>\n",
       "      <td>60.665</td>\n",
       "      <td>2167744</td>\n",
       "      <td>301336</td>\n",
       "      <td>0.873</td>\n",
       "      <td>Europe</td>\n",
       "    </tr>\n",
       "    <tr>\n",
       "      <th>Japan</th>\n",
       "      <td>127.061</td>\n",
       "      <td>4602367</td>\n",
       "      <td>377930</td>\n",
       "      <td>0.891</td>\n",
       "      <td>Asia</td>\n",
       "    </tr>\n",
       "    <tr>\n",
       "      <th>United Kingdom</th>\n",
       "      <td>64.511</td>\n",
       "      <td>2950039</td>\n",
       "      <td>242495</td>\n",
       "      <td>0.907</td>\n",
       "      <td>Europe</td>\n",
       "    </tr>\n",
       "    <tr>\n",
       "      <th>United States</th>\n",
       "      <td>318.523</td>\n",
       "      <td>17348075</td>\n",
       "      <td>9525067</td>\n",
       "      <td>0.915</td>\n",
       "      <td>America</td>\n",
       "    </tr>\n",
       "  </tbody>\n",
       "</table>\n",
       "</div>"
      ],
      "text/plain": [
       "                Population       GDP  Surface Area    HDI Continent\n",
       "Canada              35.467   1785387       9984670  0.913   America\n",
       "France              63.951   2833687        640679  0.888    Europe\n",
       "Germany             80.940   3874437        357114  0.916    Europe\n",
       "Italy               60.665   2167744        301336  0.873    Europe\n",
       "Japan              127.061   4602367        377930  0.891      Asia\n",
       "United Kingdom      64.511   2950039        242495  0.907    Europe\n",
       "United States      318.523  17348075       9525067  0.915   America"
      ]
     },
     "execution_count": 4,
     "metadata": {},
     "output_type": "execute_result"
    }
   ],
   "source": [
    "import pandas as pd\n",
    "import numpy as np\n",
    "\n",
    "\n",
    "data = {\n",
    "    'Population': [35.467, 63.951, 80.94, 60.665, 127.061, 64.511, 318.523],\n",
    "    'GDP': [\n",
    "        1785387,\n",
    "        2833687,\n",
    "        3874437,\n",
    "        2167744,\n",
    "        4602367,\n",
    "        2950039,\n",
    "        17348075\n",
    "    ],\n",
    "    'Surface Area': [\n",
    "        9984670,\n",
    "        640679,\n",
    "        357114,\n",
    "        301336,\n",
    "        377930,\n",
    "        242495,\n",
    "        9525067\n",
    "    ],\n",
    "    'HDI': [\n",
    "        0.913,\n",
    "        0.888,\n",
    "        0.916,\n",
    "        0.873,\n",
    "        0.891,\n",
    "        0.907,\n",
    "        0.915\n",
    "    ],\n",
    "    'Continent': [\n",
    "        'America',\n",
    "        'Europe',\n",
    "        'Europe',\n",
    "        'Europe',\n",
    "        'Asia',\n",
    "        'Europe',\n",
    "        'America'\n",
    "    ]\n",
    "}\n",
    "\n",
    "# common_functions.sort_dictionary(data)\n",
    "index = ['Canada',\n",
    "         'France',\n",
    "         'Germany',\n",
    "         'Italy',\n",
    "         'Japan',\n",
    "         'United Kingdom',\n",
    "         'United States']\n",
    "col_names = ['Population', 'GDP', 'Surface Area', 'HDI', 'Continent']\n",
    "df = pd.DataFrame(data, index=index, columns=col_names)\n",
    "\n",
    "df\n",
    "\n"
   ]
  },
  {
   "cell_type": "code",
   "execution_count": 5,
   "metadata": {},
   "outputs": [
    {
     "name": "stdout",
     "output_type": "stream",
     "text": [
      "single_col \n",
      "Canada             35.467\n",
      "France             63.951\n",
      "Germany            80.940\n",
      "Italy              60.665\n",
      "Japan             127.061\n",
      "United Kingdom     64.511\n",
      "United States     318.523\n",
      "Name: Population, dtype: float64\n",
      "multiple_cols \n",
      "                Population       GDP  Surface Area\n",
      "Canada              35.467   1785387       9984670\n",
      "France              63.951   2833687        640679\n",
      "Germany             80.940   3874437        357114\n",
      "Italy               60.665   2167744        301336\n",
      "Japan              127.061   4602367        377930\n",
      "United Kingdom      64.511   2950039        242495\n",
      "United States      318.523  17348075       9525067\n"
     ]
    }
   ],
   "source": [
    "# 1. accessing items\n",
    "\n",
    "single_col = df[\"Population\"]\n",
    "multiple_cols = df[[\"Population\", \"GDP\", \"Surface Area\"]]\n",
    "print(f\"single_col \\n{single_col}\")\n",
    "print(f\"multiple_cols \\n{multiple_cols}\")\n",
    "\n",
    "\n"
   ]
  },
  {
   "cell_type": "code",
   "execution_count": 6,
   "metadata": {},
   "outputs": [
    {
     "name": "stdout",
     "output_type": "stream",
     "text": [
      "               Population       GDP  Surface Area    HDI Continent\n",
      "Germany            80.940   3874437        357114  0.916    Europe\n",
      "Japan             127.061   4602367        377930  0.891      Asia\n",
      "United States     318.523  17348075       9525067  0.915   America\n"
     ]
    }
   ],
   "source": [
    "\n",
    "\n",
    "# 2. SQLs\n",
    "# select * from table where Population > 70 and GDP > 2833687\n",
    "mask = (df[\"Population\"] > 70) & (df[\"GDP\"] > 2833687)\n",
    "sql_1 = df[mask]\n",
    "print(sql_1)\n",
    "\n",
    "\n",
    "\n"
   ]
  },
  {
   "cell_type": "code",
   "execution_count": 7,
   "metadata": {},
   "outputs": [
    {
     "name": "stdout",
     "output_type": "stream",
     "text": [
      "Population        80.94\n",
      "GDP             3874437\n",
      "Surface Area     357114\n",
      "HDI               0.916\n",
      "Continent        Europe\n",
      "Name: Germany, dtype: object\n"
     ]
    }
   ],
   "source": [
    "# select * from table where index_name = Canada\n",
    "# Remember to access rows by index we must need to use .loc[] / .iloc[]\n",
    "sql_2 = df.loc[\"Germany\"]\n",
    "print(sql_2)\n",
    "\n"
   ]
  },
  {
   "cell_type": "code",
   "execution_count": 10,
   "metadata": {},
   "outputs": [
    {
     "name": "stdout",
     "output_type": "stream",
     "text": [
      "         Population      GDP  Surface Area    HDI Continent\n",
      "France       63.951  2833687        640679  0.888    Europe\n",
      "Germany      80.940  3874437        357114  0.916    Europe\n"
     ]
    }
   ],
   "source": [
    "sql_3 = df.loc[[\"France\", \"Germany\"]]\n",
    "print(sql_3)\n",
    "\n"
   ]
  },
  {
   "cell_type": "code",
   "execution_count": 15,
   "metadata": {},
   "outputs": [
    {
     "name": "stdout",
     "output_type": "stream",
     "text": [
      "                Population       GDP  Surface Area    HDI\n",
      "Canada              35.467   1785387       9984670  0.913\n",
      "France              63.951   2833687        640679  0.888\n",
      "Germany             80.940   3874437        357114  0.916\n",
      "Italy               60.665   2167744        301336  0.873\n",
      "Japan              127.061   4602367        377930  0.891\n",
      "United Kingdom      64.511   2950039        242495  0.907\n",
      "United States      318.523  17348075       9525067  0.915\n",
      "         Population      GDP  Surface Area    HDI Continent\n",
      "France       63.951  2833687        640679  0.888    Europe\n",
      "Germany      80.940  3874437        357114  0.916    Europe\n",
      "Italy        60.665  2167744        301336  0.873    Europe\n",
      "Japan       127.061  4602367        377930  0.891      Asia\n"
     ]
    },
    {
     "data": {
      "text/html": [
       "<div>\n",
       "<style scoped>\n",
       "    .dataframe tbody tr th:only-of-type {\n",
       "        vertical-align: middle;\n",
       "    }\n",
       "\n",
       "    .dataframe tbody tr th {\n",
       "        vertical-align: top;\n",
       "    }\n",
       "\n",
       "    .dataframe thead th {\n",
       "        text-align: right;\n",
       "    }\n",
       "</style>\n",
       "<table border=\"1\" class=\"dataframe\">\n",
       "  <thead>\n",
       "    <tr style=\"text-align: right;\">\n",
       "      <th></th>\n",
       "      <th>Population</th>\n",
       "      <th>GDP</th>\n",
       "      <th>Surface Area</th>\n",
       "      <th>HDI</th>\n",
       "      <th>Continent</th>\n",
       "    </tr>\n",
       "  </thead>\n",
       "  <tbody>\n",
       "    <tr>\n",
       "      <th>Japan</th>\n",
       "      <td>127.061</td>\n",
       "      <td>4602367</td>\n",
       "      <td>377930</td>\n",
       "      <td>0.891</td>\n",
       "      <td>Asia</td>\n",
       "    </tr>\n",
       "    <tr>\n",
       "      <th>Italy</th>\n",
       "      <td>60.665</td>\n",
       "      <td>2167744</td>\n",
       "      <td>301336</td>\n",
       "      <td>0.873</td>\n",
       "      <td>Europe</td>\n",
       "    </tr>\n",
       "    <tr>\n",
       "      <th>Germany</th>\n",
       "      <td>80.940</td>\n",
       "      <td>3874437</td>\n",
       "      <td>357114</td>\n",
       "      <td>0.916</td>\n",
       "      <td>Europe</td>\n",
       "    </tr>\n",
       "    <tr>\n",
       "      <th>France</th>\n",
       "      <td>63.951</td>\n",
       "      <td>2833687</td>\n",
       "      <td>640679</td>\n",
       "      <td>0.888</td>\n",
       "      <td>Europe</td>\n",
       "    </tr>\n",
       "    <tr>\n",
       "      <th>Canada</th>\n",
       "      <td>35.467</td>\n",
       "      <td>1785387</td>\n",
       "      <td>9984670</td>\n",
       "      <td>0.913</td>\n",
       "      <td>America</td>\n",
       "    </tr>\n",
       "  </tbody>\n",
       "</table>\n",
       "</div>"
      ],
      "text/plain": [
       "         Population      GDP  Surface Area    HDI Continent\n",
       "Japan       127.061  4602367        377930  0.891      Asia\n",
       "Italy        60.665  2167744        301336  0.873    Europe\n",
       "Germany      80.940  3874437        357114  0.916    Europe\n",
       "France       63.951  2833687        640679  0.888    Europe\n",
       "Canada       35.467  1785387       9984670  0.913   America"
      ]
     },
     "execution_count": 15,
     "metadata": {},
     "output_type": "execute_result"
    }
   ],
   "source": [
    "# 3. range access from and to\n",
    "col_range_1 = df.loc[:,\"Population\" : \"HDI\"]\n",
    "print(col_range_1)\n",
    "row_range_1 = df.loc[\"France\" : \"Japan\"]\n",
    "print(row_range_1)\n",
    "\n",
    "row_range_2= df.loc[\"Japan\":\"Canada\":-1]\n",
    "row_range_2"
   ]
  },
  {
   "cell_type": "markdown",
   "metadata": {},
   "source": []
  },
  {
   "cell_type": "code",
   "execution_count": null,
   "metadata": {},
   "outputs": [],
   "source": []
  },
  {
   "cell_type": "code",
   "execution_count": null,
   "metadata": {},
   "outputs": [],
   "source": []
  },
  {
   "cell_type": "code",
   "execution_count": null,
   "metadata": {},
   "outputs": [],
   "source": []
  }
 ],
 "metadata": {
  "kernelspec": {
   "display_name": "Python 3",
   "language": "python",
   "name": "python3"
  },
  "language_info": {
   "codemirror_mode": {
    "name": "ipython",
    "version": 3
   },
   "file_extension": ".py",
   "mimetype": "text/x-python",
   "name": "python",
   "nbconvert_exporter": "python",
   "pygments_lexer": "ipython3",
   "version": "3.8.5"
  }
 },
 "nbformat": 4,
 "nbformat_minor": 4
}
