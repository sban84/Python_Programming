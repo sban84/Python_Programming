{
 "cells": [
  {
   "cell_type": "markdown",
   "metadata": {},
   "source": [
    "## DATA ANALYSIS\n",
    "## WHAT MAKES A STUDENT PREFER A UNIVERSITY?"
   ]
  },
  {
   "cell_type": "markdown",
   "metadata": {},
   "source": [
    "The aim of this project is to find out which are the most relevant features that students consider to choose the preferred American university. Some of the essential questions for developing this project are related to the number of applications, admissions, and enrollments, cost of tuition and fees, cost of living on campus, types of degrees offered, and features of the states where universities are located (population and GDP)."
   ]
  },
  {
   "cell_type": "markdown",
   "metadata": {},
   "source": [
    "# Let's import the requited library"
   ]
  },
  {
   "cell_type": "markdown",
   "metadata": {},
   "source": []
  },
  {
   "cell_type": "code",
   "execution_count": 37,
   "metadata": {
    "_cell_guid": "b1076dfc-b9ad-4769-8c92-a6c4dae69d19",
    "_uuid": "8f2839f25d086af736a60e9eeb907d3b93b6e0e5",
    "execution": {
     "iopub.execute_input": "2021-06-03T18:21:58.168422Z",
     "iopub.status.busy": "2021-06-03T18:21:58.167895Z",
     "iopub.status.idle": "2021-06-03T18:21:58.175134Z",
     "shell.execute_reply": "2021-06-03T18:21:58.174427Z",
     "shell.execute_reply.started": "2021-06-03T18:21:58.168388Z"
    }
   },
   "outputs": [
    {
     "name": "stdout",
     "output_type": "stream",
     "text": [
      "Setup Complete\n"
     ]
    }
   ],
   "source": [
    "import pandas as pd\n",
    "import matplotlib.pyplot as plt\n",
    "%matplotlib inline\n",
    "import seaborn as sns\n",
    "print(\"Setup Complete\")\n",
    "import random"
   ]
  },
  {
   "cell_type": "code",
   "execution_count": 38,
   "metadata": {
    "execution": {
     "iopub.execute_input": "2021-06-03T18:21:58.177356Z",
     "iopub.status.busy": "2021-06-03T18:21:58.176746Z",
     "iopub.status.idle": "2021-06-03T18:21:58.189384Z",
     "shell.execute_reply": "2021-06-03T18:21:58.188606Z",
     "shell.execute_reply.started": "2021-06-03T18:21:58.177321Z"
    }
   },
   "outputs": [],
   "source": [
    "#!pip install pyspark --upgrade"
   ]
  },
  {
   "cell_type": "code",
   "execution_count": 39,
   "metadata": {
    "execution": {
     "iopub.execute_input": "2021-06-03T18:21:58.191247Z",
     "iopub.status.busy": "2021-06-03T18:21:58.190827Z",
     "iopub.status.idle": "2021-06-03T18:21:58.215561Z",
     "shell.execute_reply": "2021-06-03T18:21:58.214135Z",
     "shell.execute_reply.started": "2021-06-03T18:21:58.191204Z"
    }
   },
   "outputs": [
    {
     "ename": "ModuleNotFoundError",
     "evalue": "No module named 'pyspark'",
     "output_type": "error",
     "traceback": [
      "\u001b[0;31m---------------------------------------------------------------------------\u001b[0m",
      "\u001b[0;31mModuleNotFoundError\u001b[0m                       Traceback (most recent call last)",
      "\u001b[0;32m<ipython-input-39-84bac4128168>\u001b[0m in \u001b[0;36m<module>\u001b[0;34m\u001b[0m\n\u001b[0;32m----> 1\u001b[0;31m \u001b[0;32mfrom\u001b[0m \u001b[0mpyspark\u001b[0m \u001b[0;32mimport\u001b[0m \u001b[0mSparkContext\u001b[0m\u001b[0;34m\u001b[0m\u001b[0;34m\u001b[0m\u001b[0m\n\u001b[0m\u001b[1;32m      2\u001b[0m \u001b[0;32mfrom\u001b[0m \u001b[0mpyspark\u001b[0m\u001b[0;34m.\u001b[0m\u001b[0msql\u001b[0m \u001b[0;32mimport\u001b[0m \u001b[0mSparkSession\u001b[0m\u001b[0;34m\u001b[0m\u001b[0;34m\u001b[0m\u001b[0m\n\u001b[1;32m      3\u001b[0m \u001b[0;32mfrom\u001b[0m \u001b[0mpyspark\u001b[0m\u001b[0;34m.\u001b[0m\u001b[0msql\u001b[0m\u001b[0;34m.\u001b[0m\u001b[0mfunctions\u001b[0m \u001b[0;32mimport\u001b[0m \u001b[0;34m*\u001b[0m\u001b[0;34m\u001b[0m\u001b[0;34m\u001b[0m\u001b[0m\n",
      "\u001b[0;31mModuleNotFoundError\u001b[0m: No module named 'pyspark'"
     ]
    }
   ],
   "source": [
    "from pyspark import SparkContext\n",
    "from pyspark.sql import SparkSession\n",
    "from pyspark.sql.functions import *"
   ]
  },
  {
   "cell_type": "markdown",
   "metadata": {},
   "source": [
    "## Load the file in Pandas DF "
   ]
  },
  {
   "cell_type": "code",
   "execution_count": null,
   "metadata": {
    "execution": {
     "iopub.status.busy": "2021-06-03T18:21:58.216658Z",
     "iopub.status.idle": "2021-06-03T18:21:58.217140Z"
    }
   },
   "outputs": [],
   "source": [
    "## starting the data analysis \n",
    "\n",
    "university_df = pd.read_csv(\"../input/university-selection-analysis/universities_data.csv\")\n",
    "university_df.head(5)"
   ]
  },
  {
   "cell_type": "markdown",
   "metadata": {},
   "source": [
    "# 2. DATA TREATMENT: CLEANING AND FORMATTING*\n",
    "\n",
    "Let's begin this step by looking at the shape (number of rows and columns) of the dataset."
   ]
  },
  {
   "cell_type": "code",
   "execution_count": null,
   "metadata": {
    "execution": {
     "iopub.status.busy": "2021-06-03T18:21:58.218610Z",
     "iopub.status.idle": "2021-06-03T18:21:58.219112Z"
    }
   },
   "outputs": [],
   "source": [
    "university_df.info()"
   ]
  },
  {
   "cell_type": "markdown",
   "metadata": {},
   "source": [
    "In this case, only three dtypes have been recognized: float64, int64, and object.\n",
    "\n",
    "If we take a look at the number of non-null elements of each column we can see that many columns, for example the column SAT Writing 75th percentile score, contain several null or NaN values."
   ]
  },
  {
   "cell_type": "code",
   "execution_count": null,
   "metadata": {
    "_kg_hide-input": true,
    "execution": {
     "iopub.status.busy": "2021-06-03T18:21:58.242397Z",
     "iopub.status.idle": "2021-06-03T18:21:58.242945Z"
    }
   },
   "outputs": [],
   "source": [
    "\n",
    "## NOTE : remember this useful code for cols analysis \n",
    "cols = university_df.columns\n",
    "[(c , len(university_df[c]) , university_df[c].notnull().sum() , university_df[c].isnull().sum()  ) for c in cols]"
   ]
  },
  {
   "cell_type": "code",
   "execution_count": null,
   "metadata": {
    "execution": {
     "iopub.status.busy": "2021-06-03T18:21:58.244547Z",
     "iopub.status.idle": "2021-06-03T18:21:58.245098Z"
    }
   },
   "outputs": [],
   "source": [
    "# !pip install jovian --upgrade -q\n",
    "# import jovian\n",
    "# jovian.commit(filename='universities_selection-kaggle',files=['universities_data.csv'])"
   ]
  },
  {
   "cell_type": "code",
   "execution_count": null,
   "metadata": {
    "execution": {
     "iopub.status.busy": "2021-06-03T18:21:58.247663Z",
     "iopub.status.idle": "2021-06-03T18:21:58.248351Z"
    }
   },
   "outputs": [],
   "source": [
    "university_df.describe()"
   ]
  },
  {
   "cell_type": "code",
   "execution_count": null,
   "metadata": {
    "execution": {
     "iopub.status.busy": "2021-06-03T18:21:58.250115Z",
     "iopub.status.idle": "2021-06-03T18:21:58.250772Z"
    }
   },
   "outputs": [],
   "source": [
    "university_df.shape"
   ]
  },
  {
   "cell_type": "markdown",
   "metadata": {
    "execution": {
     "iopub.execute_input": "2021-06-02T12:18:33.563126Z",
     "iopub.status.busy": "2021-06-02T12:18:33.562709Z",
     "iopub.status.idle": "2021-06-02T12:18:33.57162Z",
     "shell.execute_reply": "2021-06-02T12:18:33.569992Z",
     "shell.execute_reply.started": "2021-06-02T12:18:33.563092Z"
    }
   },
   "source": [
    "## 2.1 Working with missing, incorrect, and invalid data\n",
    "Missing, incorrect, and invalid data need to be addressed to avert possible misleading mathematical operations. There are pandas functions, for example mean(), that exclude NaN values by default; however, other numerical operations consider all values, including missing values, to perform those operations. This will lead to wrong results. Incorrect and invalid data will also result in wrong outcomes. For these reasons, it is vital to tackle these different types of data according to their case.\n",
    "\n",
    "# -Missing values (NaN values)\n",
    "Let's check the NaN values within the entire data frame. We will see a list of columns sorted according to the number of NaN values that they present."
   ]
  },
  {
   "cell_type": "code",
   "execution_count": 43,
   "metadata": {
    "execution": {
     "iopub.execute_input": "2021-06-03T18:22:25.195128Z",
     "iopub.status.busy": "2021-06-03T18:22:25.194773Z",
     "iopub.status.idle": "2021-06-03T18:22:25.236588Z",
     "shell.execute_reply": "2021-06-03T18:22:25.235528Z",
     "shell.execute_reply.started": "2021-06-03T18:22:25.195097Z"
    }
   },
   "outputs": [
    {
     "data": {
      "text/plain": [
       "ID number                                                 0.000000\n",
       "Name                                                      0.000000\n",
       "year                                                      0.000000\n",
       "ZIP code                                                  0.000000\n",
       "Highest degree offered                                    0.000000\n",
       "                                                           ...    \n",
       "Percent of freshmen receiving student loan aid            2.737940\n",
       "Percent of freshmen receiving federal student loans       2.737940\n",
       "Percent of freshmen receiving other loan aid              2.737940\n",
       "Endowment assets (year end) per FTE enrollment (GASB)    66.362451\n",
       "Endowment assets (year end) per FTE enrollment (FASB)    37.418514\n",
       "Length: 145, dtype: float64"
      ]
     },
     "execution_count": 43,
     "metadata": {},
     "output_type": "execute_result"
    }
   ],
   "source": [
    "percentage_null_mask = ( university_df.isnull().sum() / len(university_df) ) * 100\n",
    "percentage_null_mask"
   ]
  },
  {
   "cell_type": "code",
   "execution_count": 44,
   "metadata": {
    "execution": {
     "iopub.execute_input": "2021-06-03T18:22:28.260376Z",
     "iopub.status.busy": "2021-06-03T18:22:28.259761Z",
     "iopub.status.idle": "2021-06-03T18:22:28.266667Z",
     "shell.execute_reply": "2021-06-03T18:22:28.265768Z",
     "shell.execute_reply.started": "2021-06-03T18:22:28.260324Z"
    }
   },
   "outputs": [],
   "source": [
    "# filter > 20% null cols \n",
    "s_cols_higher_null = percentage_null_mask[percentage_null_mask >= 20 ].sort_values(ascending=False)\n"
   ]
  },
  {
   "cell_type": "code",
   "execution_count": 45,
   "metadata": {
    "execution": {
     "iopub.execute_input": "2021-06-03T18:22:30.699124Z",
     "iopub.status.busy": "2021-06-03T18:22:30.698466Z",
     "iopub.status.idle": "2021-06-03T18:22:30.706198Z",
     "shell.execute_reply": "2021-06-03T18:22:30.704981Z",
     "shell.execute_reply.started": "2021-06-03T18:22:30.699057Z"
    }
   },
   "outputs": [
    {
     "data": {
      "text/plain": [
       "18"
      ]
     },
     "execution_count": 45,
     "metadata": {},
     "output_type": "execute_result"
    }
   ],
   "source": [
    "s_cols_higher_null.count()"
   ]
  },
  {
   "cell_type": "markdown",
   "metadata": {},
   "source": [
    "# VISUALIZATION of cols and their percentage of null values\n",
    "X axis = col names\n",
    "y = % pf null"
   ]
  },
  {
   "cell_type": "code",
   "execution_count": 46,
   "metadata": {
    "execution": {
     "iopub.execute_input": "2021-06-03T18:22:33.927202Z",
     "iopub.status.busy": "2021-06-03T18:22:33.926660Z",
     "iopub.status.idle": "2021-06-03T18:22:34.328033Z",
     "shell.execute_reply": "2021-06-03T18:22:34.327090Z",
     "shell.execute_reply.started": "2021-06-03T18:22:33.927152Z"
    }
   },
   "outputs": [
    {
     "data": {
      "image/png": "[encoded data removed]",
      "text/plain": [
       "<Figure size 864x360 with 1 Axes>"
      ]
     },
     "metadata": {
      "needs_background": "light"
     },
     "output_type": "display_data"
    }
   ],
   "source": [
    "\n",
    "ax = s_cols_higher_null.plot.bar(title='Percentage of NaN values',figsize=(12,5));\n",
    "ax.set_ylabel('% of NaN elements');"
   ]
  },
  {
   "cell_type": "markdown",
   "metadata": {},
   "source": [
    "# All columns containing 20% of NaN values or more will be removed since those columns cannot be used as representative values. But before removing them, I'll create a copy of the data frame, and I'll continue working on this new data frame."
   ]
  },
  {
   "cell_type": "code",
   "execution_count": null,
   "metadata": {
    "execution": {
     "iopub.status.busy": "2021-06-03T18:21:58.267246Z",
     "iopub.status.idle": "2021-06-03T18:21:58.268012Z"
    }
   },
   "outputs": [],
   "source": [
    "type(s_cols_higher_null)\n",
    "s_cols_higher_null.values\n",
    "s_cols_higher_null.index\n",
    "s_cols_higher_null[\"Endowment assets (year end) per FTE enrollment (GASB)\"]"
   ]
  },
  {
   "cell_type": "markdown",
   "metadata": {},
   "source": [
    "All columns containing 20% of NaN values or more will be removed since those columns cannot be used as representative values. But before removing them, I'll create a copy of the data frame, and I'll continue working on this new data frame."
   ]
  },
  {
   "cell_type": "code",
   "execution_count": null,
   "metadata": {
    "execution": {
     "iopub.status.busy": "2021-06-03T18:21:58.269707Z",
     "iopub.status.idle": "2021-06-03T18:21:58.270184Z"
    }
   },
   "outputs": [],
   "source": [
    "# universitiesnw_df=university_df.copy()\n",
    "#universitiesnw_df.drop(list_colum_off,axis=1,inplace=True)\n",
    "after_drop_df = university_df.drop(columns=s_cols_higher_null.index, axis=1)"
   ]
  },
  {
   "cell_type": "code",
   "execution_count": null,
   "metadata": {
    "execution": {
     "iopub.status.busy": "2021-06-03T18:21:58.272019Z",
     "iopub.status.idle": "2021-06-03T18:21:58.272505Z"
    }
   },
   "outputs": [],
   "source": [
    "after_drop_df"
   ]
  },
  {
   "cell_type": "code",
   "execution_count": 40,
   "metadata": {
    "execution": {
     "iopub.execute_input": "2021-06-03T18:21:58.344579Z",
     "iopub.status.busy": "2021-06-03T18:21:58.344225Z",
     "iopub.status.idle": "2021-06-03T18:21:58.362768Z",
     "shell.execute_reply": "2021-06-03T18:21:58.360470Z",
     "shell.execute_reply.started": "2021-06-03T18:21:58.344537Z"
    }
   },
   "outputs": [
    {
     "ename": "NameError",
     "evalue": "name 'after_drop_df' is not defined",
     "output_type": "error",
     "traceback": [
      "\u001b[0;31m---------------------------------------------------------------------------\u001b[0m",
      "\u001b[0;31mNameError\u001b[0m                                 Traceback (most recent call last)",
      "\u001b[0;32m<ipython-input-40-16e14bdcea72>\u001b[0m in \u001b[0;36m<module>\u001b[0;34m\u001b[0m\n\u001b[1;32m      1\u001b[0m \u001b[0;31m#after_drop_df[\"Endowment assets (year end) per FTE enrollment (GASB)\"]\u001b[0m\u001b[0;34m\u001b[0m\u001b[0;34m\u001b[0m\u001b[0;34m\u001b[0m\u001b[0m\n\u001b[0;32m----> 2\u001b[0;31m \u001b[0mafter_drop_df\u001b[0m\u001b[0;34m.\u001b[0m\u001b[0mget\u001b[0m\u001b[0;34m(\u001b[0m\u001b[0;34m\"Endowment assets (year end) per FTE enrollment (GASB)\"\u001b[0m \u001b[0;34m,\u001b[0m \u001b[0mdefault\u001b[0m\u001b[0;34m=\u001b[0m\u001b[0;34m\"NotExist\"\u001b[0m\u001b[0;34m)\u001b[0m\u001b[0;34m\u001b[0m\u001b[0;34m\u001b[0m\u001b[0m\n\u001b[0m",
      "\u001b[0;31mNameError\u001b[0m: name 'after_drop_df' is not defined"
     ]
    }
   ],
   "source": [
    "#after_drop_df[\"Endowment assets (year end) per FTE enrollment (GASB)\"]\n",
    "after_drop_df.get(\"Endowment assets (year end) per FTE enrollment (GASB)\" , default=\"NotExist\")"
   ]
  },
  {
   "cell_type": "code",
   "execution_count": null,
   "metadata": {
    "execution": {
     "iopub.status.busy": "2021-06-03T18:21:58.363930Z",
     "iopub.status.idle": "2021-06-03T18:21:58.364352Z"
    }
   },
   "outputs": [],
   "source": [
    "after_drop_df.get(\"ID number\" , default=\"NotExist\")"
   ]
  },
  {
   "cell_type": "code",
   "execution_count": null,
   "metadata": {
    "execution": {
     "iopub.status.busy": "2021-06-03T18:21:58.365467Z",
     "iopub.status.idle": "2021-06-03T18:21:58.365932Z"
    }
   },
   "outputs": [],
   "source": [
    "after_drop_df[\"ID number\"]"
   ]
  },
  {
   "cell_type": "markdown",
   "metadata": {},
   "source": [
    "# Selecting required cols , column selection process"
   ]
  },
  {
   "cell_type": "code",
   "execution_count": null,
   "metadata": {
    "execution": {
     "iopub.status.busy": "2021-06-03T18:21:58.367182Z",
     "iopub.status.idle": "2021-06-03T18:21:58.367582Z"
    }
   },
   "outputs": [],
   "source": [
    "interesting_columns=['Name', 'year', 'Highest degree offered', \"Offers Bachelor's degree\",\n",
    "       \"Offers Master's degree\",\n",
    "       \"Offers Doctor's degree - research/scholarship\",\n",
    "       \"Offers Doctor's degree - professional practice\", 'Applicants total',\n",
    "       'Admissions total', 'Enrolled total', 'Estimated enrollment, total',\n",
    "       'Tuition and fees, 2013-14',\n",
    "       'Total price for in-state students living on campus 2013-14',\n",
    "       'Total price for out-of-state students living on campus 2013-14',\n",
    "       'State abbreviation', 'Control of institution', 'Total enrollment',\n",
    "       'Full-time enrollment', 'Part-time enrollment',\n",
    "       'Undergraduate enrollment', 'Graduate enrollment',\n",
    "       'Full-time undergraduate enrollment',\n",
    "       'Part-time undergraduate enrollment',\n",
    "       'Percent of total enrollment that are women',\n",
    "       'Percent of undergraduate enrollment that are women',\n",
    "       'Percent of graduate enrollment that are women',\n",
    "       'Graduation rate - Bachelor degree within 4 years, total',\n",
    "       'Graduation rate - Bachelor degree within 5 years, total',\n",
    "       'Graduation rate - Bachelor degree within 6 years, total',\n",
    "       ]\n"
   ]
  },
  {
   "cell_type": "code",
   "execution_count": null,
   "metadata": {
    "execution": {
     "iopub.status.busy": "2021-06-03T18:21:58.368750Z",
     "iopub.status.idle": "2021-06-03T18:21:58.369153Z"
    }
   },
   "outputs": [],
   "source": [
    "university_df_sel = university_df[interesting_columns]\n",
    "university_df_sel"
   ]
  },
  {
   "cell_type": "markdown",
   "metadata": {
    "execution": {
     "iopub.execute_input": "2021-06-02T12:20:30.294828Z",
     "iopub.status.busy": "2021-06-02T12:20:30.294334Z",
     "iopub.status.idle": "2021-06-02T12:20:30.303393Z",
     "shell.execute_reply": "2021-06-02T12:20:30.302013Z",
     "shell.execute_reply.started": "2021-06-02T12:20:30.294774Z"
    }
   },
   "source": [
    "# -Invalid values\n",
    "#### Now let's check if the data frame contains invalid values. These values can be more dangerous than missing values because they can produce errors that can be tricky to identify. First, we can try to find out if the data frame has negative values. It is supposed that, according to the context of this data frame, we will not find any negative value.\n",
    "\n",
    "To perform this, we need to identify which columns contain numerical values. Only those columns will be assessed."
   ]
  },
  {
   "cell_type": "code",
   "execution_count": null,
   "metadata": {
    "execution": {
     "iopub.status.busy": "2021-06-03T18:21:58.370790Z",
     "iopub.status.idle": "2021-06-03T18:21:58.371416Z"
    }
   },
   "outputs": [],
   "source": [
    "numeric_col=university_df_sel.select_dtypes(include=['float64','int64']).columns\n",
    "numeric_col"
   ]
  },
  {
   "cell_type": "code",
   "execution_count": null,
   "metadata": {
    "execution": {
     "iopub.status.busy": "2021-06-03T18:21:58.372600Z",
     "iopub.status.idle": "2021-06-03T18:21:58.373253Z"
    }
   },
   "outputs": [],
   "source": [
    "# find out any < 0 in any of the numric cols \n",
    "#[(university_df_sel[c] <0) for c in numeric_col]\n",
    "result =[]\n",
    "for c in numeric_col:\n",
    "    #print(university_df_sel[c])\n",
    "    if any(university_df_sel[c] < 0) == True:\n",
    "        result.append(c)\n",
    "result\n",
    "    "
   ]
  },
  {
   "cell_type": "code",
   "execution_count": null,
   "metadata": {
    "execution": {
     "iopub.status.busy": "2021-06-03T18:21:58.374608Z",
     "iopub.status.idle": "2021-06-03T18:21:58.375270Z"
    }
   },
   "outputs": [],
   "source": [
    "# just any test , will check if any item is 0 \n",
    "l = [1,0,2,3,4]\n",
    "any(i ==0  for i in l)\n",
    "\n",
    "    \n",
    "        "
   ]
  },
  {
   "cell_type": "markdown",
   "metadata": {},
   "source": [
    "# -Inconsistent values\n",
    "\n",
    "According to the description chart, there are some universities which, for example, in 2013, had 0 applications in total, 0 admissions in total, and 0 enrollments in total. These are inconsistent values, and they need to be handled.\n",
    "\n",
    "Let's find the total number of entries with 0 value."
   ]
  },
  {
   "cell_type": "code",
   "execution_count": null,
   "metadata": {
    "execution": {
     "iopub.status.busy": "2021-06-03T18:21:58.376920Z",
     "iopub.status.idle": "2021-06-03T18:21:58.377546Z"
    }
   },
   "outputs": [],
   "source": [
    "# below code will check all the each cell value for all rows and all col is = 0 or not and then count them.\n",
    "\n",
    "zero_value_count = university_df_sel[university_df_sel.loc[0:]==0].count().sum()\n",
    "print(f\"dataset has {zero_value_count} zero values \")\n",
    " \n",
    "    # dataset has 395 zero values\n"
   ]
  },
  {
   "cell_type": "markdown",
   "metadata": {},
   "source": [
    "In the specific case of this data set, the entries with a zero value do not have sense; in fact, the most probable reason for them is that the information was not available at that time, but it doesn't mean they are 0. Therefore, I prefer to replace those entries with NaN values. In this way, if a pandas function is applied, none of those NaN values will be considered."
   ]
  },
  {
   "cell_type": "code",
   "execution_count": null,
   "metadata": {
    "execution": {
     "iopub.status.busy": "2021-06-03T18:21:58.378931Z",
     "iopub.status.idle": "2021-06-03T18:21:58.379564Z"
    }
   },
   "outputs": [],
   "source": [
    "import numpy as np\n",
    "university_df_sel.replace(0,np.NaN,inplace=True)\n"
   ]
  },
  {
   "cell_type": "markdown",
   "metadata": {},
   "source": [
    "#  2.2.Giving format to the colums **\n",
    "mainly 3 things are very important\n",
    "* 1- make all col small case\n",
    "* 2- remove spaces\n",
    "* 3- remove - , space inbetween , start and ending space. \n",
    "* 4- replace - with _"
   ]
  },
  {
   "cell_type": "code",
   "execution_count": null,
   "metadata": {
    "execution": {
     "iopub.status.busy": "2021-06-03T18:21:58.380789Z",
     "iopub.status.idle": "2021-06-03T18:21:58.381411Z"
    }
   },
   "outputs": [],
   "source": [
    "def remove_special_char(col_names : str , char_set : list):\n",
    "    new_col_names=[]\n",
    "    for col in col_names:\n",
    "        for ch in char_set:\n",
    "            if ch == '\\\\' or ch == '-' or ch == '/' or ch == ' ':\n",
    "                col = col.replace(ch , '_')\n",
    "            elif ch in col:\n",
    "                col = col.replace(ch ,'')\n",
    "            col = col\n",
    "        new_col_names.append(col)\n",
    "    return new_col_names\n",
    "                \n",
    "   \n"
   ]
  },
  {
   "cell_type": "code",
   "execution_count": null,
   "metadata": {
    "execution": {
     "iopub.status.busy": "2021-06-03T18:21:58.382848Z",
     "iopub.status.idle": "2021-06-03T18:21:58.383466Z"
    }
   },
   "outputs": [],
   "source": [
    "def remove_space(list_headers,charact): #charact should be: charact=[' - ',' ']\n",
    "    new_headers=list()\n",
    "    for header in list_headers:\n",
    "        for char in charact:      \n",
    "            if char in header:\n",
    "                header=header.replace(char,'_')\n",
    "            header=header\n",
    "        new_headers.append(header)\n",
    "    return new_headers"
   ]
  },
  {
   "cell_type": "code",
   "execution_count": null,
   "metadata": {
    "execution": {
     "iopub.status.busy": "2021-06-03T18:21:58.385094Z",
     "iopub.status.idle": "2021-06-03T18:21:58.385780Z"
    }
   },
   "outputs": [],
   "source": [
    "remove_special_char([\"a/b c\" , \"a-b\"] , ['-','/' , ' '])\n",
    "remove_space(\"A b c \",[' - ',' '])"
   ]
  },
  {
   "cell_type": "code",
   "execution_count": null,
   "metadata": {
    "execution": {
     "iopub.status.busy": "2021-06-03T18:21:58.387234Z",
     "iopub.status.idle": "2021-06-03T18:21:58.387886Z"
    }
   },
   "outputs": [],
   "source": [
    "headers = remove_special_char(university_df_sel , ['-' ,' ', '/'])\n",
    "#header = remove_space(university_df_sel , [['-' ,' ', '/']])"
   ]
  },
  {
   "cell_type": "code",
   "execution_count": null,
   "metadata": {
    "execution": {
     "iopub.status.busy": "2021-06-03T18:21:58.389219Z",
     "iopub.status.idle": "2021-06-03T18:21:58.389860Z"
    }
   },
   "outputs": [],
   "source": [
    "university_df_sel.columns"
   ]
  },
  {
   "cell_type": "code",
   "execution_count": null,
   "metadata": {
    "execution": {
     "iopub.status.busy": "2021-06-03T18:21:58.391222Z",
     "iopub.status.idle": "2021-06-03T18:21:58.391915Z"
    }
   },
   "outputs": [],
   "source": [
    "university_df_sel.columns = headers"
   ]
  },
  {
   "cell_type": "markdown",
   "metadata": {},
   "source": [
    "* Besides removing spaces and replacing special characters, I'll change capitalized letters to avoid a typo of this kind."
   ]
  },
  {
   "cell_type": "code",
   "execution_count": null,
   "metadata": {
    "execution": {
     "iopub.status.busy": "2021-06-03T18:21:58.393176Z",
     "iopub.status.idle": "2021-06-03T18:21:58.393829Z"
    }
   },
   "outputs": [],
   "source": [
    "list_new_header=list()\n",
    "\n",
    "for header in headers:\n",
    "    header=header.casefold()   # All capitalized letters are changed.\n",
    "    \n",
    "    if \"degrese\" in header:    # One column name has a typo.  \n",
    "        header=header.replace(\"degrese\",'degrees')\n",
    "            \n",
    "    list_new_header.append(header)"
   ]
  },
  {
   "cell_type": "code",
   "execution_count": null,
   "metadata": {
    "execution": {
     "iopub.status.busy": "2021-06-03T18:21:58.395328Z",
     "iopub.status.idle": "2021-06-03T18:21:58.396007Z"
    }
   },
   "outputs": [],
   "source": [
    "university_df_sel.columns = list_new_header\n",
    "university_df_sel.columns"
   ]
  },
  {
   "cell_type": "code",
   "execution_count": null,
   "metadata": {
    "execution": {
     "iopub.status.busy": "2021-06-03T18:21:58.397506Z",
     "iopub.status.idle": "2021-06-03T18:21:58.398156Z"
    }
   },
   "outputs": [],
   "source": [
    "university_df_sel.rename(columns={'state_abbreviation':'state'}, inplace=True)\n",
    "university_df_sel['state'].to_frame().head(3)"
   ]
  },
  {
   "cell_type": "markdown",
   "metadata": {},
   "source": [
    "* ## 3. *Exploratory Data Analysis (EDA) and Visualization. Quantitative and qualitative analysis (Asking and Answering Questions).*"
   ]
  },
  {
   "cell_type": "code",
   "execution_count": null,
   "metadata": {},
   "outputs": [],
   "source": []
  },
  {
   "cell_type": "code",
   "execution_count": null,
   "metadata": {},
   "outputs": [],
   "source": []
  },
  {
   "cell_type": "code",
   "execution_count": null,
   "metadata": {},
   "outputs": [],
   "source": []
  },
  {
   "cell_type": "markdown",
   "metadata": {},
   "source": [
    "# Data Analysis - Count no of students for each University in descending order"
   ]
  },
  {
   "cell_type": "code",
   "execution_count": null,
   "metadata": {
    "execution": {
     "iopub.status.busy": "2021-06-03T18:21:58.399494Z",
     "iopub.status.idle": "2021-06-03T18:21:58.400199Z"
    }
   },
   "outputs": [],
   "source": [
    "university_df_sel.head(5)"
   ]
  },
  {
   "cell_type": "code",
   "execution_count": null,
   "metadata": {
    "execution": {
     "iopub.status.busy": "2021-06-03T18:21:58.402331Z",
     "iopub.status.idle": "2021-06-03T18:21:58.402846Z"
    }
   },
   "outputs": [],
   "source": [
    "university_df_sel[[\"Name\",\"year\" , \"Highest degree offered\" , \"Applicants total\"] ]\\\n",
    ".sort_values(by=\"Applicants total\" , ascending=False).head(5)\n"
   ]
  },
  {
   "cell_type": "code",
   "execution_count": null,
   "metadata": {
    "execution": {
     "iopub.status.busy": "2021-06-03T18:21:58.404092Z",
     "iopub.status.idle": "2021-06-03T18:21:58.404538Z"
    }
   },
   "outputs": [],
   "source": [
    "# lets see another way ascending order \n",
    "university_df_sel[ [\"Name\",\"year\" , \"Highest degree offered\" , \"Applicants total\"] ]\\\n",
    ".sort_values(by=\"Applicants total\" , ascending=True).head(5)"
   ]
  },
  {
   "cell_type": "code",
   "execution_count": null,
   "metadata": {},
   "outputs": [],
   "source": []
  },
  {
   "cell_type": "code",
   "execution_count": null,
   "metadata": {},
   "outputs": [],
   "source": []
  },
  {
   "cell_type": "code",
   "execution_count": null,
   "metadata": {},
   "outputs": [],
   "source": []
  },
  {
   "cell_type": "code",
   "execution_count": null,
   "metadata": {},
   "outputs": [],
   "source": []
  }
 ],
 "metadata": {
  "kernelspec": {
   "display_name": "Python 3",
   "language": "python",
   "name": "python3"
  },
  "language_info": {
   "codemirror_mode": {
    "name": "ipython",
    "version": 3
   },
   "file_extension": ".py",
   "mimetype": "text/x-python",
   "name": "python",
   "nbconvert_exporter": "python",
   "pygments_lexer": "ipython3",
   "version": "3.8.5"
  }
 },
 "nbformat": 4,
 "nbformat_minor": 4
}
