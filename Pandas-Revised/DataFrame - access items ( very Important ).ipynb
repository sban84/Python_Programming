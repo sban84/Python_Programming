{
 "cells": [
  {
   "cell_type": "code",
   "execution_count": 2,
   "metadata": {},
   "outputs": [],
   "source": [
    "import pandas as pd\n"
   ]
  },
  {
   "cell_type": "code",
   "execution_count": 3,
   "metadata": {},
   "outputs": [
    {
     "name": "stdout",
     "output_type": "stream",
     "text": [
      "             name        type  avg_bill  rating\n",
      "0  Foreign Cinema  Restaurant     289.0     5.2\n",
      "1       Liho Liho  Restaurant     224.0     4.3\n",
      "2      The Square         bar      80.5     3.9\n",
      "3        500 Club         bar      25.3     1.7\n",
      "4  Foreign Cinema    Rest&Bar     300.0     5.0\n",
      "                      type  avg_bill  rating\n",
      "name                                        \n",
      "500 Club               bar      25.3     1.7\n",
      "Foreign Cinema  Restaurant     289.0     5.2\n",
      "Foreign Cinema    Rest&Bar     300.0     5.0\n",
      "Liho Liho       Restaurant     224.0     4.3\n",
      "The Square             bar      80.5     3.9\n"
     ]
    }
   ],
   "source": [
    "# create dummmy data , many ways best way and remember this \n",
    "import pandas as pd\n",
    "my_data = {\n",
    "    \"name\": [\"Foreign Cinema\" , \"Liho Liho\" ,\"The Square\" , \"500 Club\", \"Foreign Cinema\"],\n",
    "    \"type\": [\"Restaurant\" ,\"Restaurant\" ,\"bar\",\"bar\" , \"Rest&Bar\"],\n",
    "    \"avg_bill\":[289.0,224.0,80.5,25.30 , 300],\n",
    "    \"rating\": [5.2,4.3,3.9,1.7 , 5.0]\n",
    "}\n",
    "\n",
    "data = pd.DataFrame(my_data)\n",
    "print(data)\n",
    "data.set_index(\"name\" , inplace=True)\n",
    "data.sort_index(inplace = True)\n",
    "print(data)"
   ]
  },
  {
   "cell_type": "markdown",
   "metadata": {},
   "source": [
    "## < ---------  Use cases --------->"
   ]
  },
  {
   "cell_type": "code",
   "execution_count": 5,
   "metadata": {},
   "outputs": [
    {
     "name": "stdout",
     "output_type": "stream",
     "text": [
      "<class 'numpy.float64'>\n",
      "1.7\n"
     ]
    }
   ],
   "source": [
    "\n",
    "# 1. access a cell one row one col\n",
    "one_row_one_col = data.loc[ \"500 Club\" , \"rating\" ]\n",
    "print(type(one_row_one_col))\n",
    "print(one_row_one_col)"
   ]
  },
  {
   "cell_type": "code",
   "execution_count": 6,
   "metadata": {},
   "outputs": [
    {
     "name": "stdout",
     "output_type": "stream",
     "text": [
      "name\n",
      "Foreign Cinema    289.0\n",
      "Liho Liho         224.0\n",
      "The Square         80.5\n",
      "500 Club           25.3\n",
      "Name: avg_bill, dtype: float64\n"
     ]
    }
   ],
   "source": [
    "# 2. find out avg bill for all names \n",
    "# select avg_bill from table ;\n",
    "\n",
    "avg_bill = data.loc[:, \"avg_bill\"]\n",
    "print(avg_bill)\n",
    "                    "
   ]
  },
  {
   "cell_type": "code",
   "execution_count": 7,
   "metadata": {},
   "outputs": [
    {
     "data": {
      "text/plain": [
       "289.0"
      ]
     },
     "execution_count": 7,
     "metadata": {},
     "output_type": "execute_result"
    }
   ],
   "source": [
    "# # 3. find out avg bill for  Foreign Cinema\n",
    "# select avg_bill from table where index_name = 'Foreign Cinema' ; same as cell value access \n",
    "\n",
    "data.loc[\"Foreign Cinema\" , \"avg_bill\"]"
   ]
  },
  {
   "cell_type": "code",
   "execution_count": 11,
   "metadata": {},
   "outputs": [
    {
     "name": "stdout",
     "output_type": "stream",
     "text": [
      "avg_bill    289\n",
      "rating      5.2\n",
      "Name: Foreign Cinema, dtype: object\n",
      "<class 'pandas.core.series.Series'>\n"
     ]
    },
    {
     "data": {
      "text/plain": [
       "5.2"
      ]
     },
     "execution_count": 11,
     "metadata": {},
     "output_type": "execute_result"
    }
   ],
   "source": [
    "# # 3. find out avg bill and ratings for  Foreign Cinema\n",
    "# select avg_bill , rating from table where index_name = 'Foreign Cinema' ; \n",
    "\n",
    "avg_bill_rating = data.loc[ \"Foreign Cinema\" , [\"avg_bill\",\"rating\"]]\n",
    "print(avg_bill_rating)\n",
    "print(type(avg_bill_rating))\n",
    "avg_bill_rating[\"rating\"]"
   ]
  },
  {
   "cell_type": "code",
   "execution_count": 22,
   "metadata": {},
   "outputs": [
    {
     "name": "stdout",
     "output_type": "stream",
     "text": [
      "                avg_bill  rating\n",
      "name                            \n",
      "Foreign Cinema     289.0     5.2\n",
      "The Square          80.5     3.9\n",
      "<class 'pandas.core.frame.DataFrame'>\n",
      "<class 'pandas.core.series.Series'>\n",
      "name\n",
      "Foreign Cinema    289.0\n",
      "The Square         80.5\n",
      "Name: avg_bill, dtype: float64\n"
     ]
    },
    {
     "data": {
      "text/plain": [
       "289.0"
      ]
     },
     "execution_count": 22,
     "metadata": {},
     "output_type": "execute_result"
    }
   ],
   "source": [
    "# # 3. find out avg bill and ratings for  Foreign Cinema and The Square\n",
    "\n",
    "# select avg_bill , rating from table where index_name in ('Foreign Cinema' and 'The Square'); \n",
    "\n",
    "avg_bill_rating = data.loc[ [\"Foreign Cinema\" , \"The Square\"], [\"avg_bill\" , \"rating\"]]\n",
    "print(avg_bill_rating)\n",
    "print(type(avg_bill_rating))\n",
    "\n",
    "avg_bill_for_Cinema_Square = avg_bill_rating.loc[:,\"avg_bill\"]\n",
    "print(type(avg_bill_for_Cinema_Square))\n",
    "print(avg_bill_for_Cinema_Square)\n",
    "\n",
    "\n",
    "\n",
    "\n",
    "\n",
    "## below are some ways to get acccess to the items , but that not important to remember\n",
    "# now find out the avg_bill and rating for \"Foreign Cinema\" and since avg_bill_rating is a DF , so we need DF.loc[] \n",
    "avg_bill_rating_for_Foreign_Cinema = avg_bill_rating.loc[\"Foreign Cinema\"] \n",
    "\n",
    "# now to get any col from avg_bill_rating_for_Foreign_Cinema we simply use [] as this is a series \n",
    "avg_bill_rating_for_Foreign_Cinema[\"avg_bill\"]\n",
    "\n",
    "## Note : remember when ever we are selecting more that 1 rows and 1 col the return data type is Dataframe\n",
    "# else it will be always Series only.\n"
   ]
  },
  {
   "cell_type": "code",
   "execution_count": 77,
   "metadata": {},
   "outputs": [],
   "source": [
    "# pd.set_option('display.height', 1000)\n",
    "pd.set_option('display.max_rows', 500)\n",
    "pd.set_option('display.max_columns', 500)\n",
    "pd.set_option('display.width', 1000)"
   ]
  },
  {
   "cell_type": "code",
   "execution_count": 10,
   "metadata": {},
   "outputs": [
    {
     "name": "stdout",
     "output_type": "stream",
     "text": [
      "                      type  avg_bill  rating\n",
      "name                                        \n",
      "Foreign Cinema  Restaurant     289.0     5.2\n",
      "Foreign Cinema    Rest&Bar     300.0     5.0\n",
      "Liho Liho       Restaurant     224.0     4.3\n",
      "The Square             bar      80.5     3.9\n",
      "                      type  avg_bill  rating\n",
      "name                                        \n",
      "Foreign Cinema  Restaurant     289.0     5.2\n",
      "Liho Liho       Restaurant     224.0     4.3\n",
      "                avg_bill        type  rating\n",
      "name                                        \n",
      "Foreign Cinema     289.0  Restaurant     5.2\n",
      "Liho Liho          224.0  Restaurant     4.3\n"
     ]
    }
   ],
   "source": [
    "# 4. select rows for conditional col \n",
    "# select all rows and all cols for which the rating > 3.0\n",
    "# select * from table where rating > 3 ;\n",
    "\n",
    "result1 = data.loc[data[\"rating\"] > 3]\n",
    "print(result1)\n",
    "\n",
    "# # select * from table where type='Restaurant' and rating >3.0 ;\n",
    "result_4 = data.loc[ (data[\"type\"] == \"Restaurant\") & (data[\"rating\"] > 3.0 ) ]\n",
    "print(result_4)\n",
    "\n",
    "# # select avg_bill, type, rating from table where type='Restaurant' and rating in (5.2,4.3) ;\n",
    "result_5 = data.loc[ (data[\"type\"] == 'Restaurant') & (data[\"rating\"].isin([5.2,4.3]) ) , [\"avg_bill\" , \"type\" , \"rating\"] ]\n",
    "print(result_5)\n",
    "\n",
    "\n",
    "\n",
    "\n",
    "\n",
    "\n",
    "\n",
    "\n",
    "\n",
    "### below are some ways to get acccess to the items , but that not important to remember\n",
    "\n",
    "# # now select all rows and all cols for which the rating > 3.0 and index = \"Foreign Cinema\"\n",
    "# result2 = data.loc[data[\"rating\"] > 3].loc[\"Foreign Cinema\"]\n",
    "# print(type(result2))\n",
    "\n",
    "# # now select all rows and all cols for which the rating > 3.0 and index = \"Foreign Cinema\" and type = \"Restaurant\"\n",
    "# result = data.loc[ data[\"rating\"] > 3.0  ].loc[\"Foreign Cinema\"]\n",
    "# # now this returns a series so access an item from series by [] or . operator\n",
    "# print(result)\n",
    "# print(type(result))\n",
    "\n",
    "\n",
    "# # now select all rows and all cols for which the rating > 3.0 and index = \"Foreign Cinema\" and \"Liho liho\" and type = \"Restaurant\"\n",
    "# result = data.loc[ (data[\"type\"] == \"Restaurant\") & (data[\"rating\"] > 3.0 ) ].loc[ [\"Foreign Cinema\" , \"Liho Liho\"] ]\n",
    "# print(result.loc[result[\"avg_bill\"] > 250])\n",
    "\n",
    "# good_rest = data.loc[(data[\"rating\"] > 3) , [\"avg_bill\" ,\"rating\"] ]\n",
    "# print(type(good_rest))\n",
    "# print(good_rest)"
   ]
  },
  {
   "cell_type": "code",
   "execution_count": null,
   "metadata": {},
   "outputs": [],
   "source": []
  },
  {
   "cell_type": "code",
   "execution_count": null,
   "metadata": {},
   "outputs": [],
   "source": []
  },
  {
   "cell_type": "code",
   "execution_count": null,
   "metadata": {},
   "outputs": [],
   "source": []
  },
  {
   "cell_type": "code",
   "execution_count": null,
   "metadata": {},
   "outputs": [],
   "source": []
  }
 ],
 "metadata": {
  "kernelspec": {
   "display_name": "Python 3",
   "language": "python",
   "name": "python3"
  },
  "language_info": {
   "codemirror_mode": {
    "name": "ipython",
    "version": 3
   },
   "file_extension": ".py",
   "mimetype": "text/x-python",
   "name": "python",
   "nbconvert_exporter": "python",
   "pygments_lexer": "ipython3",
   "version": "3.8.5"
  }
 },
 "nbformat": 4,
 "nbformat_minor": 4
}
