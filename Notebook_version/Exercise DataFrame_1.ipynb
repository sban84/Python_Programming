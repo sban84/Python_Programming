{
 "cells": [
  {
   "cell_type": "markdown",
   "metadata": {},
   "source": [
    "# Useful code on Pandas DataFrame"
   ]
  },
  {
   "cell_type": "markdown",
   "metadata": {},
   "source": [
    "## Data Analysis on Salaries_By_College_Major Challenge ."
   ]
  },
  {
   "cell_type": "code",
   "execution_count": 2,
   "metadata": {},
   "outputs": [
    {
     "data": {
      "text/html": [
       "<div>\n",
       "<style scoped>\n",
       "    .dataframe tbody tr th:only-of-type {\n",
       "        vertical-align: middle;\n",
       "    }\n",
       "\n",
       "    .dataframe tbody tr th {\n",
       "        vertical-align: top;\n",
       "    }\n",
       "\n",
       "    .dataframe thead th {\n",
       "        text-align: right;\n",
       "    }\n",
       "</style>\n",
       "<table border=\"1\" class=\"dataframe\">\n",
       "  <thead>\n",
       "    <tr style=\"text-align: right;\">\n",
       "      <th></th>\n",
       "      <th>Undergraduate Major</th>\n",
       "      <th>Starting Median Salary</th>\n",
       "      <th>Mid-Career Median Salary</th>\n",
       "      <th>Mid-Career 10th Percentile Salary</th>\n",
       "      <th>Mid-Career 90th Percentile Salary</th>\n",
       "      <th>Group</th>\n",
       "    </tr>\n",
       "  </thead>\n",
       "  <tbody>\n",
       "    <tr>\n",
       "      <th>0</th>\n",
       "      <td>Accounting</td>\n",
       "      <td>46000.0</td>\n",
       "      <td>77100.0</td>\n",
       "      <td>42200.0</td>\n",
       "      <td>152000.0</td>\n",
       "      <td>Business</td>\n",
       "    </tr>\n",
       "    <tr>\n",
       "      <th>1</th>\n",
       "      <td>Aerospace Engineering</td>\n",
       "      <td>57700.0</td>\n",
       "      <td>101000.0</td>\n",
       "      <td>64300.0</td>\n",
       "      <td>161000.0</td>\n",
       "      <td>STEM</td>\n",
       "    </tr>\n",
       "    <tr>\n",
       "      <th>2</th>\n",
       "      <td>Agriculture</td>\n",
       "      <td>42600.0</td>\n",
       "      <td>71900.0</td>\n",
       "      <td>36300.0</td>\n",
       "      <td>150000.0</td>\n",
       "      <td>Business</td>\n",
       "    </tr>\n",
       "    <tr>\n",
       "      <th>3</th>\n",
       "      <td>Anthropology</td>\n",
       "      <td>36800.0</td>\n",
       "      <td>61500.0</td>\n",
       "      <td>33800.0</td>\n",
       "      <td>138000.0</td>\n",
       "      <td>HASS</td>\n",
       "    </tr>\n",
       "    <tr>\n",
       "      <th>4</th>\n",
       "      <td>Architecture</td>\n",
       "      <td>41600.0</td>\n",
       "      <td>76800.0</td>\n",
       "      <td>50600.0</td>\n",
       "      <td>136000.0</td>\n",
       "      <td>Business</td>\n",
       "    </tr>\n",
       "  </tbody>\n",
       "</table>\n",
       "</div>"
      ],
      "text/plain": [
       "     Undergraduate Major  Starting Median Salary  Mid-Career Median Salary  \\\n",
       "0             Accounting                 46000.0                   77100.0   \n",
       "1  Aerospace Engineering                 57700.0                  101000.0   \n",
       "2            Agriculture                 42600.0                   71900.0   \n",
       "3           Anthropology                 36800.0                   61500.0   \n",
       "4           Architecture                 41600.0                   76800.0   \n",
       "\n",
       "   Mid-Career 10th Percentile Salary  Mid-Career 90th Percentile Salary  \\\n",
       "0                            42200.0                           152000.0   \n",
       "1                            64300.0                           161000.0   \n",
       "2                            36300.0                           150000.0   \n",
       "3                            33800.0                           138000.0   \n",
       "4                            50600.0                           136000.0   \n",
       "\n",
       "      Group  \n",
       "0  Business  \n",
       "1      STEM  \n",
       "2  Business  \n",
       "3      HASS  \n",
       "4  Business  "
      ]
     },
     "execution_count": 2,
     "metadata": {},
     "output_type": "execute_result"
    }
   ],
   "source": [
    "import pandas as pd\n",
    "pd.set_option('display.width', 400)\n",
    "pd.set_option('display.max_columns', 12)\n",
    "pd.options.display.width=None\n",
    "pd.set_option('display.max_columns', None)\n",
    "\n",
    "data = pd.read_csv(\"../data/salaries_by_college_major.csv\")\n",
    "data.head(5)\n",
    "\n",
    "# print(len(data))\n",
    "#len(data.drop_duplicates([\"Undergraduate Major\"]) )\n",
    "\n"
   ]
  },
  {
   "cell_type": "markdown",
   "metadata": {},
   "source": [
    "## Task 1 to examine / understand the data first before doing any analysis"
   ]
  },
  {
   "cell_type": "code",
   "execution_count": 4,
   "metadata": {},
   "outputs": [
    {
     "name": "stdout",
     "output_type": "stream",
     "text": [
      "      Undergraduate Major  Starting Median Salary  Mid-Career Median Salary  \\\n",
      "46             Psychology                 35900.0                   60400.0   \n",
      "47               Religion                 34100.0                   52000.0   \n",
      "48              Sociology                 36500.0                   58200.0   \n",
      "49                Spanish                 34000.0                   53100.0   \n",
      "50  Source: PayScale Inc.                     NaN                       NaN   \n",
      "\n",
      "    Mid-Career 10th Percentile Salary  Mid-Career 90th Percentile Salary Group  \n",
      "46                            31600.0                           127000.0  HASS  \n",
      "47                            29700.0                            96400.0  HASS  \n",
      "48                            30700.0                           118000.0  HASS  \n",
      "49                            31000.0                            96400.0  HASS  \n",
      "50                                NaN                                NaN   NaN  \n"
     ]
    }
   ],
   "source": [
    "# Steps to understand the data more, some useful api are \n",
    "data.shape\n",
    "# if there any duplicates on a col \n",
    "len(data.drop_duplicates([\"Undergraduate Major\"])) # len is same so no dup\n",
    "cols_has_any_null = [ col for col in data.columns if data[col].isnull().any() ]\n",
    "#print(cols_has_any_null)\n",
    "\n",
    "col_has_all_null = [ col for col in data.columns if data[col].isnull().all()]\n",
    "#print(col_has_all_null)\n",
    "\n",
    "\n",
    "# First drop the row/record which all col as null \n",
    "valid_data = data.dropna(how=\"all\")\n",
    "print(valid_data.tail(5))\n",
    "\n",
    "after_dropping_col_with_any_null = valid_data.dropna( how=\"any\" ,subset=[\"Undergraduate Major\" , \"Group\"], \n",
    "                                                inplace=False)\n",
    "#print(after_dropping_col_with_any_null)\n"
   ]
  },
  {
   "cell_type": "markdown",
   "metadata": {},
   "source": [
    "## 1. Find College Major with Highest Starting Salaries"
   ]
  },
  {
   "cell_type": "code",
   "execution_count": 5,
   "metadata": {},
   "outputs": [
    {
     "name": "stdout",
     "output_type": "stream",
     "text": [
      "max_start_sal 74300.0\n",
      "+----+---------------------+------------------------+--------------------------+-----------------------------------+-----------------------------------+-------+\n",
      "|    | Undergraduate Major | Starting Median Salary | Mid-Career Median Salary | Mid-Career 10th Percentile Salary | Mid-Career 90th Percentile Salary | Group |\n",
      "+----+---------------------+------------------------+--------------------------+-----------------------------------+-----------------------------------+-------+\n",
      "| 43 | Physician Assistant |        74300.0         |         91700.0          |              66400.0              |             124000.0              | STEM  |\n",
      "+----+---------------------+------------------------+--------------------------+-----------------------------------+-----------------------------------+-------+\n",
      "<class 'pandas.core.frame.DataFrame'>\n"
     ]
    },
    {
     "data": {
      "text/html": [
       "<div>\n",
       "<style scoped>\n",
       "    .dataframe tbody tr th:only-of-type {\n",
       "        vertical-align: middle;\n",
       "    }\n",
       "\n",
       "    .dataframe tbody tr th {\n",
       "        vertical-align: top;\n",
       "    }\n",
       "\n",
       "    .dataframe thead th {\n",
       "        text-align: right;\n",
       "    }\n",
       "</style>\n",
       "<table border=\"1\" class=\"dataframe\">\n",
       "  <thead>\n",
       "    <tr style=\"text-align: right;\">\n",
       "      <th></th>\n",
       "      <th>Undergraduate Major</th>\n",
       "      <th>Starting Median Salary</th>\n",
       "      <th>Mid-Career Median Salary</th>\n",
       "      <th>Mid-Career 10th Percentile Salary</th>\n",
       "      <th>Mid-Career 90th Percentile Salary</th>\n",
       "      <th>Group</th>\n",
       "    </tr>\n",
       "  </thead>\n",
       "  <tbody>\n",
       "    <tr>\n",
       "      <th>43</th>\n",
       "      <td>Physician Assistant</td>\n",
       "      <td>74300.0</td>\n",
       "      <td>91700.0</td>\n",
       "      <td>66400.0</td>\n",
       "      <td>124000.0</td>\n",
       "      <td>STEM</td>\n",
       "    </tr>\n",
       "  </tbody>\n",
       "</table>\n",
       "</div>"
      ],
      "text/plain": [
       "    Undergraduate Major  Starting Median Salary  Mid-Career Median Salary  \\\n",
       "43  Physician Assistant                 74300.0                   91700.0   \n",
       "\n",
       "    Mid-Career 10th Percentile Salary  Mid-Career 90th Percentile Salary Group  \n",
       "43                            66400.0                           124000.0  STEM  "
      ]
     },
     "execution_count": 5,
     "metadata": {},
     "output_type": "execute_result"
    }
   ],
   "source": [
    "from tabulate import tabulate\n",
    "\n",
    "max_start_sal = valid_data[\"Starting Median Salary\"].max()\n",
    "print(f\"max_start_sal {max_start_sal}\")\n",
    "college_highest_start_sal = valid_data[ valid_data[\"Starting Median Salary\"] == max_start_sal ]\n",
    "#print(college_highest_start_sal)\n",
    "cols = valid_data.columns\n",
    "print(tabulate(college_highest_start_sal,headers=\"keys\" , tablefmt=\"pretty\"))\n",
    "#print(tabulate(valid_data))\n",
    "print(type(college_highest_start_sal))\n",
    "type(college_highest_start_sal.index)\n",
    "college_highest_start_sal.loc[college_highest_start_sal.index]\n"
   ]
  },
  {
   "cell_type": "code",
   "execution_count": 6,
   "metadata": {},
   "outputs": [
    {
     "name": "stdout",
     "output_type": "stream",
     "text": [
      "           Undergraduate Major  Mid-Career Median Salary     Group\n",
      "0                   Accounting                   77100.0  Business\n",
      "2                  Agriculture                   71900.0  Business\n",
      "4                 Architecture                   76800.0  Business\n",
      "7          Business Management                   72100.0  Business\n",
      "14                Construction                   88900.0  Business\n",
      "17                   Economics                   98600.0  Business\n",
      "22                     Finance                   88300.0  Business\n",
      "23                    Forestry                   62600.0  Business\n",
      "27  Health Care Administration                   60600.0  Business\n",
      "29       Hospitality & Tourism                   57500.0  Business\n",
      "36                   Marketing                   79600.0  Business\n",
      "40                     Nursing                   67000.0  Business\n"
     ]
    },
    {
     "data": {
      "text/html": [
       "<div>\n",
       "<style scoped>\n",
       "    .dataframe tbody tr th:only-of-type {\n",
       "        vertical-align: middle;\n",
       "    }\n",
       "\n",
       "    .dataframe tbody tr th {\n",
       "        vertical-align: top;\n",
       "    }\n",
       "\n",
       "    .dataframe thead th {\n",
       "        text-align: right;\n",
       "    }\n",
       "</style>\n",
       "<table border=\"1\" class=\"dataframe\">\n",
       "  <thead>\n",
       "    <tr style=\"text-align: right;\">\n",
       "      <th></th>\n",
       "      <th>Starting Median Salary</th>\n",
       "      <th>Mid-Career Median Salary</th>\n",
       "    </tr>\n",
       "    <tr>\n",
       "      <th>Group</th>\n",
       "      <th></th>\n",
       "      <th></th>\n",
       "    </tr>\n",
       "  </thead>\n",
       "  <tbody>\n",
       "    <tr>\n",
       "      <th>Business</th>\n",
       "      <td>535600.0</td>\n",
       "      <td>901000.0</td>\n",
       "    </tr>\n",
       "    <tr>\n",
       "      <th>HASS</th>\n",
       "      <td>818100.0</td>\n",
       "      <td>1385300.0</td>\n",
       "    </tr>\n",
       "    <tr>\n",
       "      <th>STEM</th>\n",
       "      <td>861800.0</td>\n",
       "      <td>1453000.0</td>\n",
       "    </tr>\n",
       "  </tbody>\n",
       "</table>\n",
       "</div>"
      ],
      "text/plain": [
       "          Starting Median Salary  Mid-Career Median Salary\n",
       "Group                                                     \n",
       "Business                535600.0                  901000.0\n",
       "HASS                    818100.0                 1385300.0\n",
       "STEM                    861800.0                 1453000.0"
      ]
     },
     "execution_count": 6,
     "metadata": {},
     "output_type": "execute_result"
    }
   ],
   "source": [
    "## some random test on selecting cols on DF\n",
    "\n",
    "select_1 = valid_data.loc[ valid_data[\"Group\"] == \"Business\" , [\"Undergraduate Major\" , \"Mid-Career Median Salary\" , \"Group\"] ]\n",
    "print(select_1)\n",
    "\n",
    "valid_data[\"Group\"].unique()\n",
    "\n",
    "valid_data.groupby(\"Group\", dropna=False).count()\n",
    "\n",
    "# grouping on multiple col , compisite key \n",
    "# valid_data.groupby(by=[\"Group\" , \"Undergraduate Major\"] , dropna=False).count()\n",
    "\n",
    "sum_result = valid_data.groupby(by=[\"Group\"]).sum()\n",
    "sum_result.loc[:, [\"Starting Median Salary\" , \"Mid-Career Median Salary\"] ]"
   ]
  },
  {
   "cell_type": "markdown",
   "metadata": {},
   "source": [
    "## 2. What college major has the highest mid-career salary? How much do graduates with this major earn?"
   ]
  },
  {
   "cell_type": "code",
   "execution_count": 7,
   "metadata": {},
   "outputs": [
    {
     "name": "stdout",
     "output_type": "stream",
     "text": [
      "max_start_sal 107000.0\n",
      "    Undergraduate Major  Starting Median Salary  Mid-Career Median Salary  \\\n",
      "8  Chemical Engineering                 63200.0                  107000.0   \n",
      "\n",
      "   Mid-Career 10th Percentile Salary  Mid-Career 90th Percentile Salary Group  \n",
      "8                            71900.0                           194000.0  STEM  \n"
     ]
    }
   ],
   "source": [
    "max_start_sal = valid_data[\"Mid-Career Median Salary\"].max()\n",
    "print(f\"max_start_sal {max_start_sal}\")\n",
    "college_highest_start_sal = valid_data[ valid_data[\"Mid-Career Median Salary\"] == max_start_sal ]\n",
    "print(college_highest_start_sal)"
   ]
  },
  {
   "cell_type": "markdown",
   "metadata": {},
   "source": [
    "## 3. Lowest Risk Majors\n",
    "### A low-risk major is a degree where there is a small difference between the lowest and highest salaries. In other words, if the difference between the 10th percentile and the 90th percentile earnings of your major is small, then you can be more certain about your salary after you graduate."
   ]
  },
  {
   "cell_type": "code",
   "execution_count": 8,
   "metadata": {},
   "outputs": [
    {
     "name": "stdout",
     "output_type": "stream",
     "text": [
      "     Undergraduate Major  Starting Median Salary  Mid-Career Median Salary  \\\n",
      "0             Accounting                 46000.0                   77100.0   \n",
      "1  Aerospace Engineering                 57700.0                  101000.0   \n",
      "2            Agriculture                 42600.0                   71900.0   \n",
      "3           Anthropology                 36800.0                   61500.0   \n",
      "4           Architecture                 41600.0                   76800.0   \n",
      "\n",
      "   Mid-Career 10th Percentile Salary  Mid-Career 90th Percentile Salary  \\\n",
      "0                            42200.0                           152000.0   \n",
      "1                            64300.0                           161000.0   \n",
      "2                            36300.0                           150000.0   \n",
      "3                            33800.0                           138000.0   \n",
      "4                            50600.0                           136000.0   \n",
      "\n",
      "      Group  diff_between_percentile  \n",
      "0  Business                 109800.0  \n",
      "1      STEM                  96700.0  \n",
      "2  Business                 113700.0  \n",
      "3      HASS                 104200.0  \n",
      "4  Business                  85400.0  \n",
      "******\n",
      "   Undergraduate Major  Starting Median Salary  Mid-Career Median Salary  \\\n",
      "40             Nursing                 54200.0                   67000.0   \n",
      "\n",
      "    Mid-Career 10th Percentile Salary  Mid-Career 90th Percentile Salary  \\\n",
      "40                            47600.0                            98300.0   \n",
      "\n",
      "       Group  diff_between_percentile  \n",
      "40  Business                  50700.0  \n"
     ]
    }
   ],
   "source": [
    "valid_data[\"diff_between_percentile\"] = valid_data[\"Mid-Career 90th Percentile Salary\"] - valid_data[\"Mid-Career 10th Percentile Salary\"]\n",
    "\n",
    "print(valid_data.head(5))\n",
    "\n",
    "print(\"******\")\n",
    "valid_data.sort_values(by=\"diff_between_percentile\" , ascending=True, inplace=True)\n",
    "print(valid_data.head(1))"
   ]
  },
  {
   "cell_type": "markdown",
   "metadata": {},
   "source": [
    "## 4. find the degrees with the highest potential? Find the top 5 degrees with the highest values in the 90th percentile. "
   ]
  },
  {
   "cell_type": "code",
   "execution_count": 9,
   "metadata": {},
   "outputs": [
    {
     "name": "stdout",
     "output_type": "stream",
     "text": [
      "     Undergraduate Major  Starting Median Salary  Mid-Career Median Salary  \\\n",
      "17             Economics                 50100.0                   98600.0   \n",
      "22               Finance                 47900.0                   88300.0   \n",
      "8   Chemical Engineering                 63200.0                  107000.0   \n",
      "37                  Math                 45400.0                   92400.0   \n",
      "44               Physics                 50300.0                   97300.0   \n",
      "\n",
      "    Mid-Career 10th Percentile Salary  Mid-Career 90th Percentile Salary  \\\n",
      "17                            50600.0                           210000.0   \n",
      "22                            47200.0                           195000.0   \n",
      "8                             71900.0                           194000.0   \n",
      "37                            45200.0                           183000.0   \n",
      "44                            56000.0                           178000.0   \n",
      "\n",
      "       Group  diff_between_percentile  \n",
      "17  Business                 159400.0  \n",
      "22  Business                 147800.0  \n",
      "8       STEM                 122100.0  \n",
      "37      STEM                 137800.0  \n",
      "44      STEM                 122000.0  \n"
     ]
    }
   ],
   "source": [
    "valid_data.sort_values(by=\"Mid-Career 90th Percentile Salary\" , ascending=False , inplace=True)\n",
    "print(valid_data.head(5))"
   ]
  },
  {
   "cell_type": "markdown",
   "metadata": {},
   "source": [
    "## Grouping & Pivoting\n",
    "which category of degrees has the highest average salary? Is it STEM, Business or HASS (Humanities, Arts, and Social Science)?"
   ]
  },
  {
   "cell_type": "code",
   "execution_count": 10,
   "metadata": {},
   "outputs": [
    {
     "name": "stdout",
     "output_type": "stream",
     "text": [
      "          Mid-Career 10th Percentile Salary  \\\n",
      "Group                                         \n",
      "Business                       43566.666667   \n",
      "HASS                           34145.454545   \n",
      "STEM                           56025.000000   \n",
      "\n",
      "          Mid-Career 90th Percentile Salary  Mid-Career Median Salary  \\\n",
      "Group                                                                   \n",
      "Business                      147525.000000              75083.333333   \n",
      "HASS                          129363.636364              62968.181818   \n",
      "STEM                          157625.000000              90812.500000   \n",
      "\n",
      "          Starting Median Salary  Undergraduate Major  diff_between_percentile  \n",
      "Group                                                                           \n",
      "Business            44633.333333                  NaN            103958.333333  \n",
      "HASS                37186.363636                  NaN             95218.181818  \n",
      "STEM                53862.500000                  NaN            101600.000000  \n"
     ]
    }
   ],
   "source": [
    "#valid_data.drop(columns=\"diff_between_percentile\" , inplace=True)\n",
    "group_wise_avg_sal = valid_data.groupby(by=\"Group\").sum() / valid_data.groupby(by=\"Group\").count()\n",
    "\n",
    "print(group_wise_avg_sal)\n",
    "\n",
    "#valid_data.groupby(by=\"Group\").mean()"
   ]
  },
  {
   "cell_type": "code",
   "execution_count": null,
   "metadata": {},
   "outputs": [],
   "source": []
  },
  {
   "cell_type": "code",
   "execution_count": null,
   "metadata": {},
   "outputs": [],
   "source": []
  },
  {
   "cell_type": "code",
   "execution_count": null,
   "metadata": {},
   "outputs": [],
   "source": []
  },
  {
   "cell_type": "code",
   "execution_count": null,
   "metadata": {},
   "outputs": [],
   "source": []
  },
  {
   "cell_type": "code",
   "execution_count": null,
   "metadata": {},
   "outputs": [],
   "source": []
  },
  {
   "cell_type": "code",
   "execution_count": null,
   "metadata": {},
   "outputs": [],
   "source": []
  },
  {
   "cell_type": "code",
   "execution_count": null,
   "metadata": {},
   "outputs": [],
   "source": []
  },
  {
   "cell_type": "code",
   "execution_count": null,
   "metadata": {},
   "outputs": [],
   "source": [
    "## Samples of creating DF manually - Data Preparation"
   ]
  },
  {
   "cell_type": "code",
   "execution_count": null,
   "metadata": {},
   "outputs": [],
   "source": [
    "# 1. \n",
    "cars = {'Brand': ['Honda Civic','Toyota Corolla','Ford Focus','Audi A4'],\n",
    "        'Price': [22000,25000,27000,35000],\n",
    "        'Year': [2015,2013,2018,2018]\n",
    "        }\n",
    " \n",
    "df = pd.DataFrame(cars)\n",
    "df"
   ]
  },
  {
   "cell_type": "code",
   "execution_count": null,
   "metadata": {},
   "outputs": [],
   "source": []
  }
 ],
 "metadata": {
  "kernelspec": {
   "display_name": "Python 3",
   "language": "python",
   "name": "python3"
  },
  "language_info": {
   "codemirror_mode": {
    "name": "ipython",
    "version": 3
   },
   "file_extension": ".py",
   "mimetype": "text/x-python",
   "name": "python",
   "nbconvert_exporter": "python",
   "pygments_lexer": "ipython3",
   "version": "3.8.5"
  }
 },
 "nbformat": 4,
 "nbformat_minor": 4
}
