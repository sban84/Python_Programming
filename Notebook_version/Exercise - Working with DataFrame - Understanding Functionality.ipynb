{
 "cells": [
  {
   "cell_type": "code",
   "execution_count": 2,
   "metadata": {},
   "outputs": [],
   "source": [
    "import pandas as pd\n"
   ]
  },
  {
   "cell_type": "code",
   "execution_count": 3,
   "metadata": {},
   "outputs": [],
   "source": [
    "# pd.set_option('display.height', 1000)\n",
    "pd.set_option('display.max_rows', 500)\n",
    "pd.set_option('display.max_columns', 500)\n",
    "pd.set_option('display.width', 1000)"
   ]
  },
  {
   "cell_type": "code",
   "execution_count": 4,
   "metadata": {},
   "outputs": [
    {
     "name": "stdout",
     "output_type": "stream",
     "text": [
      "             name        type  avg_bill  rating\n",
      "0  Foreign Cinema  Restaurant     289.0     5.2\n",
      "1       Liho Liho  Restaurant     224.0     4.3\n",
      "2      The Square         bar      80.5     3.9\n",
      "3        500 Club         bar      25.3     1.7\n",
      "4  Foreign Cinema    Rest&Bar     300.0     5.0\n",
      "\n",
      "After sorting based on index col name\n",
      "                      type  avg_bill  rating\n",
      "name                                        \n",
      "500 Club               bar      25.3     1.7\n",
      "Foreign Cinema  Restaurant     289.0     5.2\n",
      "Foreign Cinema    Rest&Bar     300.0     5.0\n",
      "Liho Liho       Restaurant     224.0     4.3\n",
      "The Square             bar      80.5     3.9\n"
     ]
    }
   ],
   "source": [
    "# create dummmy data , many ways best way and remember this \n",
    "import pandas as pd\n",
    "my_data = {\n",
    "    \"name\": [\"Foreign Cinema\" , \"Liho Liho\" ,\"The Square\" , \"500 Club\", \"Foreign Cinema\"],\n",
    "    \"type\": [\"Restaurant\" ,\"Restaurant\" ,\"bar\",\"bar\" , \"Rest&Bar\"],\n",
    "    \"avg_bill\":[289.0,224.0,80.5,25.30 , 300],\n",
    "    \"rating\": [5.2,4.3,3.9,1.7 , 5.0]\n",
    "}\n",
    "\n",
    "data = pd.DataFrame(my_data)\n",
    "print(data)\n",
    "data.set_index(\"name\" , inplace=True)\n",
    "\n",
    "print(\"\\nAfter sorting based on index col name\")\n",
    "data.sort_index(inplace = True)\n",
    "print(data)"
   ]
  },
  {
   "cell_type": "code",
   "execution_count": 43,
   "metadata": {},
   "outputs": [
    {
     "name": "stdout",
     "output_type": "stream",
     "text": [
      "['bar' 'Restaurant' 'Rest&Bar']\n",
      "                      type  rating\n",
      "name                              \n",
      "500 Club               bar     1.7\n",
      "Foreign Cinema  Restaurant     5.2\n",
      "Foreign Cinema    Rest&Bar     5.0\n",
      "Liho Liho       Restaurant     4.3\n",
      "The Square             bar     3.9\n"
     ]
    },
    {
     "data": {
      "text/plain": [
       "array([  1.7,   3.9,   4.3,   5. ,   5.2,  25.3,  80.5, 224. , 289. ,\n",
       "       300. ])"
      ]
     },
     "execution_count": 43,
     "metadata": {},
     "output_type": "execute_result"
    }
   ],
   "source": [
    "import numpy as np\n",
    "data.index.unique()\n",
    "print(data[\"type\"].unique())\n",
    "print(data[[\"type\",\"rating\"]])\n",
    "pd.unique(data[\"type\"])\n",
    "#pd.unique(data[ [\"type\",\"rating\"] ].values)\n",
    "np.unique(data[['avg_bill', 'rating']].values)\n",
    "\n",
    "\n",
    "# for i in data[\"type\"].unique():\n",
    "#     print(\"hello \" , i)"
   ]
  },
  {
   "cell_type": "code",
   "execution_count": 18,
   "metadata": {},
   "outputs": [],
   "source": [
    "## Samples of creating DF manually - Data Preparation"
   ]
  },
  {
   "cell_type": "code",
   "execution_count": 6,
   "metadata": {},
   "outputs": [
    {
     "data": {
      "text/html": [
       "<div>\n",
       "<style scoped>\n",
       "    .dataframe tbody tr th:only-of-type {\n",
       "        vertical-align: middle;\n",
       "    }\n",
       "\n",
       "    .dataframe tbody tr th {\n",
       "        vertical-align: top;\n",
       "    }\n",
       "\n",
       "    .dataframe thead th {\n",
       "        text-align: right;\n",
       "    }\n",
       "</style>\n",
       "<table border=\"1\" class=\"dataframe\">\n",
       "  <thead>\n",
       "    <tr style=\"text-align: right;\">\n",
       "      <th></th>\n",
       "      <th>Brand</th>\n",
       "      <th>Price</th>\n",
       "      <th>Year</th>\n",
       "    </tr>\n",
       "  </thead>\n",
       "  <tbody>\n",
       "    <tr>\n",
       "      <th>0</th>\n",
       "      <td>Honda Civic</td>\n",
       "      <td>22000</td>\n",
       "      <td>2015</td>\n",
       "    </tr>\n",
       "    <tr>\n",
       "      <th>1</th>\n",
       "      <td>Toyota Corolla</td>\n",
       "      <td>25000</td>\n",
       "      <td>2013</td>\n",
       "    </tr>\n",
       "    <tr>\n",
       "      <th>2</th>\n",
       "      <td>Ford Focus</td>\n",
       "      <td>27000</td>\n",
       "      <td>2018</td>\n",
       "    </tr>\n",
       "    <tr>\n",
       "      <th>3</th>\n",
       "      <td>Audi A4</td>\n",
       "      <td>35000</td>\n",
       "      <td>2018</td>\n",
       "    </tr>\n",
       "  </tbody>\n",
       "</table>\n",
       "</div>"
      ],
      "text/plain": [
       "            Brand  Price  Year\n",
       "0     Honda Civic  22000  2015\n",
       "1  Toyota Corolla  25000  2013\n",
       "2      Ford Focus  27000  2018\n",
       "3         Audi A4  35000  2018"
      ]
     },
     "execution_count": 6,
     "metadata": {},
     "output_type": "execute_result"
    }
   ],
   "source": [
    "# way 1. Refer this \n",
    "import pandas as pd\n",
    "cars = {'Brand': ['Honda Civic','Toyota Corolla','Ford Focus','Audi A4'],\n",
    "        'Price': [22000,25000,27000,35000],\n",
    "        'Year': [2015,2013,2018,2018]\n",
    "        }\n",
    " \n",
    "df = pd.DataFrame(cars)\n",
    "df\n",
    "\n"
   ]
  },
  {
   "cell_type": "code",
   "execution_count": 12,
   "metadata": {},
   "outputs": [
    {
     "data": {
      "text/html": [
       "<div>\n",
       "<style scoped>\n",
       "    .dataframe tbody tr th:only-of-type {\n",
       "        vertical-align: middle;\n",
       "    }\n",
       "\n",
       "    .dataframe tbody tr th {\n",
       "        vertical-align: top;\n",
       "    }\n",
       "\n",
       "    .dataframe thead th {\n",
       "        text-align: right;\n",
       "    }\n",
       "</style>\n",
       "<table border=\"1\" class=\"dataframe\">\n",
       "  <thead>\n",
       "    <tr style=\"text-align: right;\">\n",
       "      <th></th>\n",
       "      <th>Brand</th>\n",
       "      <th>Price</th>\n",
       "      <th>Year</th>\n",
       "      <th>avg_price</th>\n",
       "    </tr>\n",
       "  </thead>\n",
       "  <tbody>\n",
       "    <tr>\n",
       "      <th>0</th>\n",
       "      <td>Honda Civic</td>\n",
       "      <td>22000</td>\n",
       "      <td>2015</td>\n",
       "      <td>100</td>\n",
       "    </tr>\n",
       "    <tr>\n",
       "      <th>1</th>\n",
       "      <td>Toyota Corolla</td>\n",
       "      <td>25000</td>\n",
       "      <td>2013</td>\n",
       "      <td>100</td>\n",
       "    </tr>\n",
       "    <tr>\n",
       "      <th>2</th>\n",
       "      <td>Ford Focus</td>\n",
       "      <td>27000</td>\n",
       "      <td>2018</td>\n",
       "      <td>100</td>\n",
       "    </tr>\n",
       "    <tr>\n",
       "      <th>3</th>\n",
       "      <td>Audi A4</td>\n",
       "      <td>35000</td>\n",
       "      <td>2018</td>\n",
       "      <td>100</td>\n",
       "    </tr>\n",
       "  </tbody>\n",
       "</table>\n",
       "</div>"
      ],
      "text/plain": [
       "            Brand  Price  Year  avg_price\n",
       "0     Honda Civic  22000  2015        100\n",
       "1  Toyota Corolla  25000  2013        100\n",
       "2      Ford Focus  27000  2018        100\n",
       "3         Audi A4  35000  2018        100"
      ]
     },
     "execution_count": 12,
     "metadata": {},
     "output_type": "execute_result"
    }
   ],
   "source": [
    "\n",
    "df[\"avg_price\"] =  df[\"Price\"].mean()\n",
    "df\n"
   ]
  },
  {
   "cell_type": "markdown",
   "metadata": {},
   "source": [
    "## < --------- DataFrame - access items ( very Important ) --------->"
   ]
  },
  {
   "cell_type": "code",
   "execution_count": 20,
   "metadata": {},
   "outputs": [
    {
     "name": "stdout",
     "output_type": "stream",
     "text": [
      "<class 'numpy.float64'>\n",
      "1.7\n"
     ]
    }
   ],
   "source": [
    "# 1. access a cell one row one col\n",
    "one_row_one_col = data.loc[ \"500 Club\" , \"rating\" ]\n",
    "print(type(one_row_one_col))\n",
    "print(one_row_one_col)"
   ]
  },
  {
   "cell_type": "code",
   "execution_count": 21,
   "metadata": {},
   "outputs": [
    {
     "name": "stdout",
     "output_type": "stream",
     "text": [
      "name\n",
      "500 Club           25.3\n",
      "Foreign Cinema    289.0\n",
      "Foreign Cinema    300.0\n",
      "Liho Liho         224.0\n",
      "The Square         80.5\n",
      "Name: avg_bill, dtype: float64\n"
     ]
    }
   ],
   "source": [
    "# 2. find out avg bill for all names \n",
    "# select avg_bill from table ;\n",
    "\n",
    "avg_bill = data.loc[:, \"avg_bill\"]\n",
    "print(avg_bill)"
   ]
  },
  {
   "cell_type": "code",
   "execution_count": 22,
   "metadata": {},
   "outputs": [
    {
     "data": {
      "text/plain": [
       "name\n",
       "Foreign Cinema    289.0\n",
       "Foreign Cinema    300.0\n",
       "Name: avg_bill, dtype: float64"
      ]
     },
     "execution_count": 22,
     "metadata": {},
     "output_type": "execute_result"
    }
   ],
   "source": [
    "# # 3. find out avg bill for  Foreign Cinema\n",
    "# select avg_bill from table where index_name = 'Foreign Cinema' ; same as cell value access \n",
    "\n",
    "data.loc[\"Foreign Cinema\" , \"avg_bill\"]"
   ]
  },
  {
   "cell_type": "code",
   "execution_count": 23,
   "metadata": {},
   "outputs": [
    {
     "name": "stdout",
     "output_type": "stream",
     "text": [
      "                avg_bill  rating\n",
      "name                            \n",
      "Foreign Cinema     289.0     5.2\n",
      "Foreign Cinema     300.0     5.0\n",
      "<class 'pandas.core.frame.DataFrame'>\n"
     ]
    },
    {
     "data": {
      "text/plain": [
       "name\n",
       "Foreign Cinema    5.2\n",
       "Foreign Cinema    5.0\n",
       "Name: rating, dtype: float64"
      ]
     },
     "execution_count": 23,
     "metadata": {},
     "output_type": "execute_result"
    }
   ],
   "source": [
    "# # 3. find out avg bill and ratings for  Foreign Cinema\n",
    "# select avg_bill , rating from table where index_name = 'Foreign Cinema' ; \n",
    "\n",
    "avg_bill_rating = data.loc[ \"Foreign Cinema\" , [\"avg_bill\",\"rating\"]]\n",
    "print(avg_bill_rating)\n",
    "print(type(avg_bill_rating))\n",
    "avg_bill_rating[\"rating\"]"
   ]
  },
  {
   "cell_type": "code",
   "execution_count": 24,
   "metadata": {},
   "outputs": [
    {
     "name": "stdout",
     "output_type": "stream",
     "text": [
      "                avg_bill  rating\n",
      "name                            \n",
      "Foreign Cinema     289.0     5.2\n",
      "Foreign Cinema     300.0     5.0\n",
      "The Square          80.5     3.9\n",
      "<class 'pandas.core.frame.DataFrame'>\n",
      "<class 'pandas.core.series.Series'>\n",
      "name\n",
      "Foreign Cinema    289.0\n",
      "Foreign Cinema    300.0\n",
      "The Square         80.5\n",
      "Name: avg_bill, dtype: float64\n"
     ]
    },
    {
     "data": {
      "text/plain": [
       "name\n",
       "Foreign Cinema    289.0\n",
       "Foreign Cinema    300.0\n",
       "Name: avg_bill, dtype: float64"
      ]
     },
     "execution_count": 24,
     "metadata": {},
     "output_type": "execute_result"
    }
   ],
   "source": [
    "# # 3. find out avg bill and ratings for  Foreign Cinema and The Square\n",
    "\n",
    "# select avg_bill , rating from table where index_name in ('Foreign Cinema' and 'The Square'); \n",
    "\n",
    "avg_bill_rating = data.loc[ [\"Foreign Cinema\" , \"The Square\"], [\"avg_bill\" , \"rating\"]]\n",
    "print(avg_bill_rating)\n",
    "print(type(avg_bill_rating))\n",
    "\n",
    "avg_bill_for_Cinema_Square = avg_bill_rating.loc[:,\"avg_bill\"]\n",
    "print(type(avg_bill_for_Cinema_Square))\n",
    "print(avg_bill_for_Cinema_Square)\n",
    "\n",
    "\n",
    "\n",
    "\n",
    "\n",
    "## below are some ways to get acccess to the items , but that not important to remember\n",
    "# now find out the avg_bill and rating for \"Foreign Cinema\" and since avg_bill_rating is a DF , so we need DF.loc[] \n",
    "avg_bill_rating_for_Foreign_Cinema = avg_bill_rating.loc[\"Foreign Cinema\"] \n",
    "\n",
    "# now to get any col from avg_bill_rating_for_Foreign_Cinema we simply use [] as this is a series \n",
    "avg_bill_rating_for_Foreign_Cinema[\"avg_bill\"]\n",
    "\n",
    "## Note : remember when ever we are selecting more that 1 rows and 1 col the return data type is Dataframe\n",
    "# else it will be always Series only."
   ]
  },
  {
   "cell_type": "code",
   "execution_count": 25,
   "metadata": {},
   "outputs": [
    {
     "name": "stdout",
     "output_type": "stream",
     "text": [
      "                      type  avg_bill  rating\n",
      "name                                        \n",
      "Foreign Cinema  Restaurant     289.0     5.2\n",
      "Foreign Cinema    Rest&Bar     300.0     5.0\n",
      "Liho Liho       Restaurant     224.0     4.3\n",
      "The Square             bar      80.5     3.9\n",
      "                      type  avg_bill  rating\n",
      "name                                        \n",
      "Foreign Cinema  Restaurant     289.0     5.2\n",
      "Liho Liho       Restaurant     224.0     4.3\n",
      "                avg_bill        type  rating\n",
      "name                                        \n",
      "Foreign Cinema     289.0  Restaurant     5.2\n",
      "Liho Liho          224.0  Restaurant     4.3\n"
     ]
    }
   ],
   "source": [
    "# 4. select rows for conditional col \n",
    "# select all rows and all cols for which the rating > 3.0\n",
    "# select * from table where rating > 3 ;\n",
    "\n",
    "result1 = data.loc[data[\"rating\"] > 3]\n",
    "print(result1)\n",
    "\n",
    "# # select * from table where type='Restaurant' and rating >3.0 ;\n",
    "result_4 = data.loc[ (data[\"type\"] == \"Restaurant\") & (data[\"rating\"] > 3.0 ) ]\n",
    "print(result_4)\n",
    "\n",
    "# # select avg_bill, type, rating from table where type='Restaurant' and rating in (5.2,4.3) ;\n",
    "result_5 = data.loc[ (data[\"type\"] == 'Restaurant') & (data[\"rating\"].isin([5.2,4.3]) ) , [\"avg_bill\" , \"type\" , \"rating\"] ]\n",
    "print(result_5)\n",
    "\n",
    "\n",
    "\n",
    "\n",
    "\n",
    "\n",
    "\n",
    "\n",
    "\n",
    "### below are some ways to get acccess to the items , but that not important to remember\n",
    "\n",
    "# # now select all rows and all cols for which the rating > 3.0 and index = \"Foreign Cinema\"\n",
    "# result2 = data.loc[data[\"rating\"] > 3].loc[\"Foreign Cinema\"]\n",
    "# print(type(result2))\n",
    "\n",
    "# # now select all rows and all cols for which the rating > 3.0 and index = \"Foreign Cinema\" and type = \"Restaurant\"\n",
    "# result = data.loc[ data[\"rating\"] > 3.0  ].loc[\"Foreign Cinema\"]\n",
    "# # now this returns a series so access an item from series by [] or . operator\n",
    "# print(result)\n",
    "# print(type(result))\n",
    "\n",
    "\n",
    "# # now select all rows and all cols for which the rating > 3.0 and index = \"Foreign Cinema\" and \"Liho liho\" and type = \"Restaurant\"\n",
    "# result = data.loc[ (data[\"type\"] == \"Restaurant\") & (data[\"rating\"] > 3.0 ) ].loc[ [\"Foreign Cinema\" , \"Liho Liho\"] ]\n",
    "# print(result.loc[result[\"avg_bill\"] > 250])\n",
    "\n",
    "# good_rest = data.loc[(data[\"rating\"] > 3) , [\"avg_bill\" ,\"rating\"] ]\n",
    "# print(type(good_rest))\n",
    "# print(good_rest)"
   ]
  },
  {
   "cell_type": "markdown",
   "metadata": {},
   "source": [
    "## <---------- Droping rows / cols based on Null ( Very IMPORTANT ) ------->"
   ]
  },
  {
   "cell_type": "code",
   "execution_count": 26,
   "metadata": {},
   "outputs": [
    {
     "name": "stdout",
     "output_type": "stream",
     "text": [
      "   app  rating  Installs\n",
      "0    a     1.0       0.0\n",
      "1    b     NaN      10.0\n",
      "2    c     NaN       NaN\n",
      "3  NaN     NaN       NaN\n"
     ]
    }
   ],
   "source": [
    "import numpy as np\n",
    "from numpy import NaN\n",
    "\n",
    "my_dict = {\n",
    "    \"app\" : [\"a\",\"b\",\"c\",NaN],\n",
    "    \"rating\" : [1,NaN,NaN, NaN ],\n",
    "    \"Installs\" : [0,10,NaN , NaN]\n",
    "} \n",
    "data = pd.DataFrame(my_dict)\n",
    "print(data)"
   ]
  },
  {
   "cell_type": "code",
   "execution_count": 27,
   "metadata": {},
   "outputs": [
    {
     "data": {
      "text/html": [
       "<div>\n",
       "<style scoped>\n",
       "    .dataframe tbody tr th:only-of-type {\n",
       "        vertical-align: middle;\n",
       "    }\n",
       "\n",
       "    .dataframe tbody tr th {\n",
       "        vertical-align: top;\n",
       "    }\n",
       "\n",
       "    .dataframe thead th {\n",
       "        text-align: right;\n",
       "    }\n",
       "</style>\n",
       "<table border=\"1\" class=\"dataframe\">\n",
       "  <thead>\n",
       "    <tr style=\"text-align: right;\">\n",
       "      <th></th>\n",
       "      <th>app</th>\n",
       "      <th>rating</th>\n",
       "      <th>Installs</th>\n",
       "    </tr>\n",
       "  </thead>\n",
       "  <tbody>\n",
       "    <tr>\n",
       "      <th>0</th>\n",
       "      <td>a</td>\n",
       "      <td>1.0</td>\n",
       "      <td>0.0</td>\n",
       "    </tr>\n",
       "  </tbody>\n",
       "</table>\n",
       "</div>"
      ],
      "text/plain": [
       "  app  rating  Installs\n",
       "0   a     1.0       0.0"
      ]
     },
     "execution_count": 27,
     "metadata": {},
     "output_type": "execute_result"
    }
   ],
   "source": [
    "# drop rows with any col has any null\n",
    "\n",
    "data.dropna(axis = 0 , how =\"any\")"
   ]
  },
  {
   "cell_type": "code",
   "execution_count": 28,
   "metadata": {},
   "outputs": [
    {
     "data": {
      "text/html": [
       "<div>\n",
       "<style scoped>\n",
       "    .dataframe tbody tr th:only-of-type {\n",
       "        vertical-align: middle;\n",
       "    }\n",
       "\n",
       "    .dataframe tbody tr th {\n",
       "        vertical-align: top;\n",
       "    }\n",
       "\n",
       "    .dataframe thead th {\n",
       "        text-align: right;\n",
       "    }\n",
       "</style>\n",
       "<table border=\"1\" class=\"dataframe\">\n",
       "  <thead>\n",
       "    <tr style=\"text-align: right;\">\n",
       "      <th></th>\n",
       "      <th>app</th>\n",
       "      <th>rating</th>\n",
       "      <th>Installs</th>\n",
       "    </tr>\n",
       "  </thead>\n",
       "  <tbody>\n",
       "    <tr>\n",
       "      <th>0</th>\n",
       "      <td>a</td>\n",
       "      <td>1.0</td>\n",
       "      <td>0.0</td>\n",
       "    </tr>\n",
       "  </tbody>\n",
       "</table>\n",
       "</div>"
      ],
      "text/plain": [
       "  app  rating  Installs\n",
       "0   a     1.0       0.0"
      ]
     },
     "execution_count": 28,
     "metadata": {},
     "output_type": "execute_result"
    }
   ],
   "source": [
    "# drop rows with a perticular col has any null val\n",
    "\n",
    "data.dropna(axis=0 , how=\"any\" , subset=[\"rating\"])\n"
   ]
  },
  {
   "cell_type": "code",
   "execution_count": 29,
   "metadata": {},
   "outputs": [],
   "source": [
    "## not important to remember ...\n",
    "\n",
    "# data.dropna(axis=0, how=\"any\" , subset=[\"rating\" , \"Installs\"]) # OR condition \n",
    "# data.dropna(axis=0, how=\"all\" , subset=[\"rating\" , \"Installs\"]) # both the col will be checked and condition"
   ]
  },
  {
   "cell_type": "code",
   "execution_count": null,
   "metadata": {},
   "outputs": [],
   "source": []
  },
  {
   "cell_type": "code",
   "execution_count": 41,
   "metadata": {},
   "outputs": [
    {
     "name": "stdout",
     "output_type": "stream",
     "text": [
      "[5, 1]\n"
     ]
    },
    {
     "data": {
      "text/plain": [
       "2"
      ]
     },
     "execution_count": 41,
     "metadata": {},
     "output_type": "execute_result"
    }
   ],
   "source": [
    "pythonList1 = [5,1]\n",
    "print(pythonList1)\n",
    "pythonList1.extend([1,2,3])\n",
    "pythonList1\n",
    "sorted_list = sorted(pythonList1)\n",
    "sorted(sorted_list)\n",
    "\n",
    "sorted_list.count(1)"
   ]
  },
  {
   "cell_type": "code",
   "execution_count": 33,
   "metadata": {},
   "outputs": [
    {
     "data": {
      "text/plain": [
       "str"
      ]
     },
     "execution_count": 33,
     "metadata": {},
     "output_type": "execute_result"
    }
   ],
   "source": []
  },
  {
   "cell_type": "code",
   "execution_count": null,
   "metadata": {},
   "outputs": [],
   "source": []
  },
  {
   "cell_type": "code",
   "execution_count": null,
   "metadata": {},
   "outputs": [],
   "source": []
  },
  {
   "cell_type": "code",
   "execution_count": null,
   "metadata": {},
   "outputs": [],
   "source": []
  },
  {
   "cell_type": "code",
   "execution_count": null,
   "metadata": {},
   "outputs": [],
   "source": []
  },
  {
   "cell_type": "code",
   "execution_count": null,
   "metadata": {},
   "outputs": [],
   "source": []
  },
  {
   "cell_type": "code",
   "execution_count": 30,
   "metadata": {},
   "outputs": [
    {
     "data": {
      "text/html": [
       "<div>\n",
       "<style scoped>\n",
       "    .dataframe tbody tr th:only-of-type {\n",
       "        vertical-align: middle;\n",
       "    }\n",
       "\n",
       "    .dataframe tbody tr th {\n",
       "        vertical-align: top;\n",
       "    }\n",
       "\n",
       "    .dataframe thead th {\n",
       "        text-align: right;\n",
       "    }\n",
       "</style>\n",
       "<table border=\"1\" class=\"dataframe\">\n",
       "  <thead>\n",
       "    <tr style=\"text-align: right;\">\n",
       "      <th></th>\n",
       "      <th>type</th>\n",
       "      <th>AvgBill</th>\n",
       "      <th>Rating</th>\n",
       "    </tr>\n",
       "    <tr>\n",
       "      <th>name</th>\n",
       "      <th></th>\n",
       "      <th></th>\n",
       "      <th></th>\n",
       "    </tr>\n",
       "  </thead>\n",
       "  <tbody>\n",
       "    <tr>\n",
       "      <th>Foreign Cinema</th>\n",
       "      <td>Restaurant</td>\n",
       "      <td>289.0</td>\n",
       "      <td>5.2</td>\n",
       "    </tr>\n",
       "    <tr>\n",
       "      <th>Liho Liho</th>\n",
       "      <td>Restaurant</td>\n",
       "      <td>224.0</td>\n",
       "      <td>4.3</td>\n",
       "    </tr>\n",
       "    <tr>\n",
       "      <th>500 Club</th>\n",
       "      <td>bar</td>\n",
       "      <td>80.5</td>\n",
       "      <td>3.9</td>\n",
       "    </tr>\n",
       "    <tr>\n",
       "      <th>The Square</th>\n",
       "      <td>bar</td>\n",
       "      <td>25.3</td>\n",
       "      <td>1.7</td>\n",
       "    </tr>\n",
       "  </tbody>\n",
       "</table>\n",
       "</div>"
      ],
      "text/plain": [
       "                      type  AvgBill  Rating\n",
       "name                                       \n",
       "Foreign Cinema  Restaurant    289.0     5.2\n",
       "Liho Liho       Restaurant    224.0     4.3\n",
       "500 Club               bar     80.5     3.9\n",
       "The Square             bar     25.3     1.7"
      ]
     },
     "execution_count": 30,
     "metadata": {},
     "output_type": "execute_result"
    }
   ],
   "source": [
    "# way 2. list if tuples / list \n",
    "df = pd.DataFrame([('Foreign Cinema', 'Restaurant', 289.0, 5.2),\n",
    "                   ('Liho Liho', 'Restaurant', 224.0, 4.3),\n",
    "                   ('500 Club', 'bar', 80.5, 3.9),\n",
    "                   ('The Square', 'bar', 25.30, 1.7)],\n",
    "           columns=('name', 'type', 'AvgBill', 'Rating')\n",
    "                 )\n",
    "df.set_index('name', inplace=True)\n",
    "df"
   ]
  },
  {
   "cell_type": "code",
   "execution_count": null,
   "metadata": {},
   "outputs": [],
   "source": []
  },
  {
   "cell_type": "code",
   "execution_count": null,
   "metadata": {},
   "outputs": [],
   "source": []
  },
  {
   "cell_type": "code",
   "execution_count": null,
   "metadata": {},
   "outputs": [],
   "source": []
  },
  {
   "cell_type": "code",
   "execution_count": null,
   "metadata": {},
   "outputs": [],
   "source": []
  }
 ],
 "metadata": {
  "kernelspec": {
   "display_name": "Python 3",
   "language": "python",
   "name": "python3"
  },
  "language_info": {
   "codemirror_mode": {
    "name": "ipython",
    "version": 3
   },
   "file_extension": ".py",
   "mimetype": "text/x-python",
   "name": "python",
   "nbconvert_exporter": "python",
   "pygments_lexer": "ipython3",
   "version": "3.8.5"
  }
 },
 "nbformat": 4,
 "nbformat_minor": 4
}
