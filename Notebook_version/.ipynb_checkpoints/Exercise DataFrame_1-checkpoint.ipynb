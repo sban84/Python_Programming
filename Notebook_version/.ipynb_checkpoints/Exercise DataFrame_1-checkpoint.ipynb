{
 "cells": [
  {
   "cell_type": "markdown",
   "metadata": {},
   "source": [
    "# Useful code on Pandas DataFrame"
   ]
  },
  {
   "cell_type": "markdown",
   "metadata": {},
   "source": [
    "## Data Analysis on Salaries_By_College_Major Challenge ."
   ]
  },
  {
   "cell_type": "code",
   "execution_count": null,
   "metadata": {},
   "outputs": [],
   "source": [
    "import pandas as pd\n",
    "pd.set_option('display.width', 400)\n",
    "pd.set_option('display.max_columns', 12)\n",
    "pd.options.display.width=None\n",
    "pd.set_option('display.max_columns', None)\n",
    "\n",
    "data = pd.read_csv(\"./salaries_by_college_major.csv\")\n",
    "data.head(5)\n",
    "\n",
    "# print(len(data))\n",
    "#len(data.drop_duplicates([\"Undergraduate Major\"]) )\n",
    "\n"
   ]
  },
  {
   "cell_type": "code",
   "execution_count": null,
   "metadata": {},
   "outputs": [],
   "source": []
  }
 ],
 "metadata": {
  "kernelspec": {
   "display_name": "Python 3",
   "language": "python",
   "name": "python3"
  },
  "language_info": {
   "codemirror_mode": {
    "name": "ipython",
    "version": 3
   },
   "file_extension": ".py",
   "mimetype": "text/x-python",
   "name": "python",
   "nbconvert_exporter": "python",
   "pygments_lexer": "ipython3",
   "version": "3.8.5"
  }
 },
 "nbformat": 4,
 "nbformat_minor": 4
}
