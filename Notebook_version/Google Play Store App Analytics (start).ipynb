{
 "cells": [
  {
   "cell_type": "markdown",
   "metadata": {
    "dc": {
     "key": "4"
    },
    "id": "-Sxae4jbdiT2",
    "run_control": {
     "frozen": true
    },
    "tags": [
     "context"
    ]
   },
   "source": [
    "# Introduction\n",
    "\n",
    "In this notebook, we will do a comprehensive analysis of the Android app market by comparing thousands of apps in the Google Play store."
   ]
  },
  {
   "cell_type": "markdown",
   "metadata": {
    "id": "sDT5lMxadiT3"
   },
   "source": [
    "# About the Dataset of Google Play Store Apps & Reviews"
   ]
  },
  {
   "cell_type": "markdown",
   "metadata": {
    "id": "5CiydsdNdiT3"
   },
   "source": [
    "**Data Source:** <br>\n",
    "App and review data was scraped from the Google Play Store by Lavanya Gupta in 2018. Original files listed [here](\n",
    "https://www.kaggle.com/lava18/google-play-store-apps)."
   ]
  },
  {
   "cell_type": "markdown",
   "metadata": {
    "id": "BBKBNy4UdiT4"
   },
   "source": [
    "# Import Statements"
   ]
  },
  {
   "cell_type": "code",
   "execution_count": 118,
   "metadata": {
    "executionInfo": {
     "elapsed": 594,
     "status": "ok",
     "timestamp": 1602234478794,
     "user": {
      "displayName": "Philipp Muellauer",
      "photoUrl": "https://lh3.googleusercontent.com/a-/AOh14GjjWitgsmZ0M9Wmzf-SRYD005WcMGhejWWHMUiZnFw=s64",
      "userId": "02749974243016517270"
     },
     "user_tz": -60
    },
    "id": "_5mfFH4_diT4"
   },
   "outputs": [],
   "source": [
    "import pandas as pd\n"
   ]
  },
  {
   "cell_type": "markdown",
   "metadata": {
    "id": "KegC9nPDdiT7"
   },
   "source": [
    "# Notebook Presentation"
   ]
  },
  {
   "cell_type": "code",
   "execution_count": 119,
   "metadata": {
    "id": "WPL7rhJndiT7"
   },
   "outputs": [],
   "source": [
    "# Show numeric output in decimal format e.g., 2.15\n",
    "pd.options.display.float_format = '{:,.2f}'.format"
   ]
  },
  {
   "cell_type": "markdown",
   "metadata": {
    "id": "Uc9LOZu9diT-"
   },
   "source": [
    "# Read the Dataset"
   ]
  },
  {
   "cell_type": "code",
   "execution_count": 120,
   "metadata": {
    "colab": {
     "base_uri": "https://localhost:8080/",
     "height": 375
    },
    "executionInfo": {
     "elapsed": 441,
     "status": "error",
     "timestamp": 1602234486357,
     "user": {
      "displayName": "Philipp Muellauer",
      "photoUrl": "https://lh3.googleusercontent.com/a-/AOh14GjjWitgsmZ0M9Wmzf-SRYD005WcMGhejWWHMUiZnFw=s64",
      "userId": "02749974243016517270"
     },
     "user_tz": -60
    },
    "id": "zU0Zisv_diT-",
    "outputId": "f88a917e-30a1-45a4-b17a-ab21e557913c"
   },
   "outputs": [
    {
     "name": "stdout",
     "output_type": "stream",
     "text": [
      "(10841, 12)\n"
     ]
    },
    {
     "data": {
      "text/plain": [
       "Index(['App', 'Category', 'Rating', 'Reviews', 'Size_MBs', 'Installs', 'Type',\n",
       "       'Price', 'Content_Rating', 'Genres', 'Last_Updated', 'Android_Ver'],\n",
       "      dtype='object')"
      ]
     },
     "execution_count": 120,
     "metadata": {},
     "output_type": "execute_result"
    }
   ],
   "source": [
    "df_apps = pd.read_csv('../data/apps.csv')\n",
    "df_apps\n",
    "\n",
    "print(df_apps.shape)\n",
    "df_apps.columns\n"
   ]
  },
  {
   "cell_type": "code",
   "execution_count": 121,
   "metadata": {},
   "outputs": [
    {
     "data": {
      "text/html": [
       "<div>\n",
       "<style scoped>\n",
       "    .dataframe tbody tr th:only-of-type {\n",
       "        vertical-align: middle;\n",
       "    }\n",
       "\n",
       "    .dataframe tbody tr th {\n",
       "        vertical-align: top;\n",
       "    }\n",
       "\n",
       "    .dataframe thead th {\n",
       "        text-align: right;\n",
       "    }\n",
       "</style>\n",
       "<table border=\"1\" class=\"dataframe\">\n",
       "  <thead>\n",
       "    <tr style=\"text-align: right;\">\n",
       "      <th></th>\n",
       "      <th>App</th>\n",
       "      <th>Category</th>\n",
       "      <th>Rating</th>\n",
       "      <th>Reviews</th>\n",
       "      <th>Size_MBs</th>\n",
       "      <th>Installs</th>\n",
       "      <th>Type</th>\n",
       "      <th>Price</th>\n",
       "      <th>Content_Rating</th>\n",
       "      <th>Genres</th>\n",
       "      <th>Last_Updated</th>\n",
       "      <th>Android_Ver</th>\n",
       "    </tr>\n",
       "  </thead>\n",
       "  <tbody>\n",
       "    <tr>\n",
       "      <th>6428</th>\n",
       "      <td>OnePlus Icon Pack</td>\n",
       "      <td>PERSONALIZATION</td>\n",
       "      <td>4.80</td>\n",
       "      <td>440</td>\n",
       "      <td>0.90</td>\n",
       "      <td>500,000</td>\n",
       "      <td>Free</td>\n",
       "      <td>0</td>\n",
       "      <td>Everyone</td>\n",
       "      <td>Personalization</td>\n",
       "      <td>May 23, 2018</td>\n",
       "      <td>5.0 and up</td>\n",
       "    </tr>\n",
       "    <tr>\n",
       "      <th>933</th>\n",
       "      <td>BX Mobile TMC for SAP B1</td>\n",
       "      <td>BUSINESS</td>\n",
       "      <td>4.70</td>\n",
       "      <td>3</td>\n",
       "      <td>11.00</td>\n",
       "      <td>100</td>\n",
       "      <td>Free</td>\n",
       "      <td>0</td>\n",
       "      <td>Everyone</td>\n",
       "      <td>Business</td>\n",
       "      <td>January 20, 2015</td>\n",
       "      <td>4.0.3 and up</td>\n",
       "    </tr>\n",
       "    <tr>\n",
       "      <th>7933</th>\n",
       "      <td>Tokyo Ghoul: Dark War</td>\n",
       "      <td>GAME</td>\n",
       "      <td>4.30</td>\n",
       "      <td>25094</td>\n",
       "      <td>82.00</td>\n",
       "      <td>1,000,000</td>\n",
       "      <td>Free</td>\n",
       "      <td>0</td>\n",
       "      <td>Teen</td>\n",
       "      <td>Role Playing</td>\n",
       "      <td>July 6, 2018</td>\n",
       "      <td>4.3 and up</td>\n",
       "    </tr>\n",
       "    <tr>\n",
       "      <th>5289</th>\n",
       "      <td>AE GTO Racing</td>\n",
       "      <td>GAME</td>\n",
       "      <td>3.90</td>\n",
       "      <td>6988</td>\n",
       "      <td>35.00</td>\n",
       "      <td>100,000</td>\n",
       "      <td>Free</td>\n",
       "      <td>0</td>\n",
       "      <td>Everyone 10+</td>\n",
       "      <td>Racing</td>\n",
       "      <td>September 24, 2015</td>\n",
       "      <td>Varies with device</td>\n",
       "    </tr>\n",
       "    <tr>\n",
       "      <th>7062</th>\n",
       "      <td>Yahoo! Weather for SH Forecast for understandi...</td>\n",
       "      <td>WEATHER</td>\n",
       "      <td>4.20</td>\n",
       "      <td>7457</td>\n",
       "      <td>4.75</td>\n",
       "      <td>1,000,000</td>\n",
       "      <td>Free</td>\n",
       "      <td>0</td>\n",
       "      <td>Everyone</td>\n",
       "      <td>Weather</td>\n",
       "      <td>August 2, 2018</td>\n",
       "      <td>Varies with device</td>\n",
       "    </tr>\n",
       "    <tr>\n",
       "      <th>2560</th>\n",
       "      <td>My Virtual Boyfriend</td>\n",
       "      <td>FAMILY</td>\n",
       "      <td>4.30</td>\n",
       "      <td>105</td>\n",
       "      <td>51.00</td>\n",
       "      <td>1,000</td>\n",
       "      <td>Paid</td>\n",
       "      <td>$0.99</td>\n",
       "      <td>Teen</td>\n",
       "      <td>Casual</td>\n",
       "      <td>February 17, 2017</td>\n",
       "      <td>2.3.3 and up</td>\n",
       "    </tr>\n",
       "    <tr>\n",
       "      <th>5534</th>\n",
       "      <td>BD CRICKET LIVE</td>\n",
       "      <td>SPORTS</td>\n",
       "      <td>4.60</td>\n",
       "      <td>1238</td>\n",
       "      <td>9.50</td>\n",
       "      <td>100,000</td>\n",
       "      <td>Free</td>\n",
       "      <td>0</td>\n",
       "      <td>Everyone</td>\n",
       "      <td>Sports</td>\n",
       "      <td>January 15, 2018</td>\n",
       "      <td>4.0.3 and up</td>\n",
       "    </tr>\n",
       "    <tr>\n",
       "      <th>10419</th>\n",
       "      <td>Tumblr</td>\n",
       "      <td>SOCIAL</td>\n",
       "      <td>4.40</td>\n",
       "      <td>2955326</td>\n",
       "      <td>5.30</td>\n",
       "      <td>100,000,000</td>\n",
       "      <td>Free</td>\n",
       "      <td>0</td>\n",
       "      <td>Mature 17+</td>\n",
       "      <td>Social</td>\n",
       "      <td>August 1, 2018</td>\n",
       "      <td>Varies with device</td>\n",
       "    </tr>\n",
       "    <tr>\n",
       "      <th>1846</th>\n",
       "      <td>G-REMOTE</td>\n",
       "      <td>HOUSE_AND_HOME</td>\n",
       "      <td>4.50</td>\n",
       "      <td>30</td>\n",
       "      <td>25.00</td>\n",
       "      <td>1,000</td>\n",
       "      <td>Free</td>\n",
       "      <td>0</td>\n",
       "      <td>Everyone</td>\n",
       "      <td>House &amp; Home</td>\n",
       "      <td>August 1, 2018</td>\n",
       "      <td>4.0.3 and up</td>\n",
       "    </tr>\n",
       "    <tr>\n",
       "      <th>3991</th>\n",
       "      <td>Study AP World History</td>\n",
       "      <td>FAMILY</td>\n",
       "      <td>4.60</td>\n",
       "      <td>513</td>\n",
       "      <td>1.60</td>\n",
       "      <td>10,000</td>\n",
       "      <td>Free</td>\n",
       "      <td>0</td>\n",
       "      <td>Everyone</td>\n",
       "      <td>Education</td>\n",
       "      <td>July 18, 2016</td>\n",
       "      <td>4.0.3 and up</td>\n",
       "    </tr>\n",
       "  </tbody>\n",
       "</table>\n",
       "</div>"
      ],
      "text/plain": [
       "                                                     App         Category  \\\n",
       "6428                                   OnePlus Icon Pack  PERSONALIZATION   \n",
       "933                             BX Mobile TMC for SAP B1         BUSINESS   \n",
       "7933                               Tokyo Ghoul: Dark War             GAME   \n",
       "5289                                       AE GTO Racing             GAME   \n",
       "7062   Yahoo! Weather for SH Forecast for understandi...          WEATHER   \n",
       "2560                                My Virtual Boyfriend           FAMILY   \n",
       "5534                                     BD CRICKET LIVE           SPORTS   \n",
       "10419                                             Tumblr           SOCIAL   \n",
       "1846                                            G-REMOTE   HOUSE_AND_HOME   \n",
       "3991                              Study AP World History           FAMILY   \n",
       "\n",
       "       Rating  Reviews  Size_MBs     Installs  Type  Price Content_Rating  \\\n",
       "6428     4.80      440      0.90      500,000  Free      0       Everyone   \n",
       "933      4.70        3     11.00          100  Free      0       Everyone   \n",
       "7933     4.30    25094     82.00    1,000,000  Free      0           Teen   \n",
       "5289     3.90     6988     35.00      100,000  Free      0   Everyone 10+   \n",
       "7062     4.20     7457      4.75    1,000,000  Free      0       Everyone   \n",
       "2560     4.30      105     51.00        1,000  Paid  $0.99           Teen   \n",
       "5534     4.60     1238      9.50      100,000  Free      0       Everyone   \n",
       "10419    4.40  2955326      5.30  100,000,000  Free      0     Mature 17+   \n",
       "1846     4.50       30     25.00        1,000  Free      0       Everyone   \n",
       "3991     4.60      513      1.60       10,000  Free      0       Everyone   \n",
       "\n",
       "                Genres        Last_Updated         Android_Ver  \n",
       "6428   Personalization        May 23, 2018          5.0 and up  \n",
       "933           Business    January 20, 2015        4.0.3 and up  \n",
       "7933      Role Playing        July 6, 2018          4.3 and up  \n",
       "5289            Racing  September 24, 2015  Varies with device  \n",
       "7062           Weather      August 2, 2018  Varies with device  \n",
       "2560            Casual   February 17, 2017        2.3.3 and up  \n",
       "5534            Sports    January 15, 2018        4.0.3 and up  \n",
       "10419           Social      August 1, 2018  Varies with device  \n",
       "1846      House & Home      August 1, 2018        4.0.3 and up  \n",
       "3991         Education       July 18, 2016        4.0.3 and up  "
      ]
     },
     "execution_count": 121,
     "metadata": {},
     "output_type": "execute_result"
    }
   ],
   "source": [
    "df_apps.head(10)\n",
    "df_apps.sample(10)"
   ]
  },
  {
   "cell_type": "markdown",
   "metadata": {},
   "source": [
    "## <---------- Droping rows / cols based on Null ( Very IMPORTANT ) ------->"
   ]
  },
  {
   "cell_type": "code",
   "execution_count": 122,
   "metadata": {},
   "outputs": [],
   "source": [
    "# simple scnario to drop a col with name \n",
    "df_app_clean =df_apps.drop([\"Last_Updated\", \"Android_Ver\" ], axis=\"columns\")\n",
    "\n"
   ]
  },
  {
   "cell_type": "code",
   "execution_count": 123,
   "metadata": {},
   "outputs": [
    {
     "name": "stdout",
     "output_type": "stream",
     "text": [
      "                                                App         Category  Rating  \\\n",
      "0                           Ak Parti Yardım Toplama           SOCIAL     nan   \n",
      "1                        Ain Arabic Kids Alif Ba ta           FAMILY     nan   \n",
      "2      Popsicle Launcher for Android P 9.0 launcher  PERSONALIZATION     nan   \n",
      "3                         Command & Conquer: Rivals           FAMILY     nan   \n",
      "4                                        CX Network         BUSINESS     nan   \n",
      "...                                             ...              ...     ...   \n",
      "10836                                Subway Surfers             GAME    4.50   \n",
      "10837                                Subway Surfers             GAME    4.50   \n",
      "10838                                Subway Surfers             GAME    4.50   \n",
      "10839                                Subway Surfers             GAME    4.50   \n",
      "10840                                Subway Surfers             GAME    4.50   \n",
      "\n",
      "        Reviews  Size_MBs       Installs  Type   Price Content_Rating  \\\n",
      "0             0      8.70              0  Paid  $13.99           Teen   \n",
      "1             0     33.00              0  Paid   $2.99       Everyone   \n",
      "2             0      5.50              0  Paid   $1.49       Everyone   \n",
      "3             0     19.00              0   NaN       0   Everyone 10+   \n",
      "4             0     10.00              0  Free       0       Everyone   \n",
      "...         ...       ...            ...   ...     ...            ...   \n",
      "10836  27723193     76.00  1,000,000,000  Free       0   Everyone 10+   \n",
      "10837  27724094     76.00  1,000,000,000  Free       0   Everyone 10+   \n",
      "10838  27725352     76.00  1,000,000,000  Free       0   Everyone 10+   \n",
      "10839  27725352     76.00  1,000,000,000  Free       0   Everyone 10+   \n",
      "10840  27711703     76.00  1,000,000,000  Free       0   Everyone 10+   \n",
      "\n",
      "                Genres    Last_Updated         Android_Ver  \n",
      "0               Social   July 28, 2017          4.1 and up  \n",
      "1            Education  April 15, 2016          3.0 and up  \n",
      "2      Personalization   July 11, 2018          4.2 and up  \n",
      "3             Strategy   June 28, 2018  Varies with device  \n",
      "4             Business  August 6, 2018          4.1 and up  \n",
      "...                ...             ...                 ...  \n",
      "10836           Arcade   July 12, 2018          4.1 and up  \n",
      "10837           Arcade   July 12, 2018          4.1 and up  \n",
      "10838           Arcade   July 12, 2018          4.1 and up  \n",
      "10839           Arcade   July 12, 2018          4.1 and up  \n",
      "10840           Arcade   July 12, 2018          4.1 and up  \n",
      "\n",
      "[10841 rows x 12 columns]\n"
     ]
    },
    {
     "data": {
      "text/plain": [
       "False"
      ]
     },
     "execution_count": 123,
     "metadata": {},
     "output_type": "execute_result"
    }
   ],
   "source": [
    "# drop the rows whose any col has any null value \n",
    "df_apps = pd.read_csv('../data/apps.csv')\n",
    "print(df_apps)\n",
    "\n",
    "after_drop_rows_having_any_col_null = df_apps.dropna(axis=0, how = \"any\")\n",
    "after_drop_rows_having_any_col_null\n",
    "\n",
    "# check if we have any col with null value \n",
    "after_drop_rows_having_any_col_null.isnull().any()\n",
    "after_drop_rows_having_any_col_null[\"Reviews\"].isnull().any()"
   ]
  },
  {
   "cell_type": "code",
   "execution_count": 124,
   "metadata": {
    "collapsed": true
   },
   "outputs": [
    {
     "name": "stdout",
     "output_type": "stream",
     "text": [
      "\n",
      " before dropping_rows_with_rating_null ------> \n",
      "                                               App            Category  \\\n",
      "0                          Ak Parti Yardım Toplama              SOCIAL   \n",
      "1                       Ain Arabic Kids Alif Ba ta              FAMILY   \n",
      "2     Popsicle Launcher for Android P 9.0 launcher     PERSONALIZATION   \n",
      "3                        Command & Conquer: Rivals              FAMILY   \n",
      "4                                       CX Network            BUSINESS   \n",
      "...                                            ...                 ...   \n",
      "5840                                Em Fuga Brasil              FAMILY   \n",
      "5862                    Voice Tables - no internet           PARENTING   \n",
      "6141                                Young Speeches  LIBRARIES_AND_DEMO   \n",
      "7035                                SD card backup               TOOLS   \n",
      "7175                     Android TV Remote Service               TOOLS   \n",
      "\n",
      "      Rating  Reviews  Size_MBs   Installs  Type   Price Content_Rating  \\\n",
      "0        nan        0      8.70          0  Paid  $13.99           Teen   \n",
      "1        nan        0     33.00          0  Paid   $2.99       Everyone   \n",
      "2        nan        0      5.50          0  Paid   $1.49       Everyone   \n",
      "3        nan        0     19.00          0   NaN       0   Everyone 10+   \n",
      "4        nan        0     10.00          0  Free       0       Everyone   \n",
      "...      ...      ...       ...        ...   ...     ...            ...   \n",
      "5840     nan     1317     60.00    100,000  Free       0       Everyone   \n",
      "5862     nan      970     71.00    100,000  Free       0       Everyone   \n",
      "6141     nan     2221      2.40    500,000  Free       0       Everyone   \n",
      "7035     nan      142      3.40  1,000,000  Free       0       Everyone   \n",
      "7175     nan        1      3.70  1,000,000  Free       0       Everyone   \n",
      "\n",
      "                Genres      Last_Updated         Android_Ver  \n",
      "0               Social     July 28, 2017          4.1 and up  \n",
      "1            Education    April 15, 2016          3.0 and up  \n",
      "2      Personalization     July 11, 2018          4.2 and up  \n",
      "3             Strategy     June 28, 2018  Varies with device  \n",
      "4             Business    August 6, 2018          4.1 and up  \n",
      "...                ...               ...                 ...  \n",
      "5840        Simulation    April 22, 2018          4.1 and up  \n",
      "5862         Parenting      May 28, 2018        4.0.3 and up  \n",
      "6141  Libraries & Demo   January 8, 2017          2.3 and up  \n",
      "7035             Tools    March 27, 2017  Varies with device  \n",
      "7175             Tools  January 17, 2018          7.0 and up  \n",
      "\n",
      "[1474 rows x 12 columns]\n",
      "\n",
      " after_dropping_rows_with_rating_null ------> \n",
      "                                                   App Category  Rating  \\\n",
      "21                                 KBA-EZ Health Guide  MEDICAL    5.00   \n",
      "28                                            Ra Ga Ba     GAME    5.00   \n",
      "47                                             Mu.F.O.     GAME    5.00   \n",
      "82                                    Brick Breaker BR     GAME    5.00   \n",
      "99     Anatomy & Physiology Vocabulary Exam Review App  MEDICAL    5.00   \n",
      "...                                                ...      ...     ...   \n",
      "10836                                   Subway Surfers     GAME    4.50   \n",
      "10837                                   Subway Surfers     GAME    4.50   \n",
      "10838                                   Subway Surfers     GAME    4.50   \n",
      "10839                                   Subway Surfers     GAME    4.50   \n",
      "10840                                   Subway Surfers     GAME    4.50   \n",
      "\n",
      "        Reviews  Size_MBs       Installs  Type  Price Content_Rating   Genres  \\\n",
      "21            4     25.00              1  Free      0       Everyone  Medical   \n",
      "28            2     20.00              1  Paid  $1.49       Everyone   Arcade   \n",
      "47            2     16.00              1  Paid  $0.99       Everyone   Arcade   \n",
      "82            7     19.00              5  Free      0       Everyone   Arcade   \n",
      "99            1      4.60              5  Free      0       Everyone  Medical   \n",
      "...         ...       ...            ...   ...    ...            ...      ...   \n",
      "10836  27723193     76.00  1,000,000,000  Free      0   Everyone 10+   Arcade   \n",
      "10837  27724094     76.00  1,000,000,000  Free      0   Everyone 10+   Arcade   \n",
      "10838  27725352     76.00  1,000,000,000  Free      0   Everyone 10+   Arcade   \n",
      "10839  27725352     76.00  1,000,000,000  Free      0   Everyone 10+   Arcade   \n",
      "10840  27711703     76.00  1,000,000,000  Free      0   Everyone 10+   Arcade   \n",
      "\n",
      "           Last_Updated   Android_Ver  \n",
      "21       August 2, 2018  4.0.3 and up  \n",
      "28     February 8, 2017    2.3 and up  \n",
      "47        March 3, 2017    2.3 and up  \n",
      "82        July 23, 2018    4.1 and up  \n",
      "99       August 2, 2018    4.0 and up  \n",
      "...                 ...           ...  \n",
      "10836     July 12, 2018    4.1 and up  \n",
      "10837     July 12, 2018    4.1 and up  \n",
      "10838     July 12, 2018    4.1 and up  \n",
      "10839     July 12, 2018    4.1 and up  \n",
      "10840     July 12, 2018    4.1 and up  \n",
      "\n",
      "[9367 rows x 12 columns]\n"
     ]
    },
    {
     "data": {
      "text/html": [
       "<div>\n",
       "<style scoped>\n",
       "    .dataframe tbody tr th:only-of-type {\n",
       "        vertical-align: middle;\n",
       "    }\n",
       "\n",
       "    .dataframe tbody tr th {\n",
       "        vertical-align: top;\n",
       "    }\n",
       "\n",
       "    .dataframe thead th {\n",
       "        text-align: right;\n",
       "    }\n",
       "</style>\n",
       "<table border=\"1\" class=\"dataframe\">\n",
       "  <thead>\n",
       "    <tr style=\"text-align: right;\">\n",
       "      <th></th>\n",
       "      <th>App</th>\n",
       "      <th>Category</th>\n",
       "      <th>Rating</th>\n",
       "      <th>Reviews</th>\n",
       "      <th>Size_MBs</th>\n",
       "      <th>Installs</th>\n",
       "      <th>Type</th>\n",
       "      <th>Price</th>\n",
       "      <th>Content_Rating</th>\n",
       "      <th>Genres</th>\n",
       "      <th>Last_Updated</th>\n",
       "      <th>Android_Ver</th>\n",
       "    </tr>\n",
       "  </thead>\n",
       "  <tbody>\n",
       "  </tbody>\n",
       "</table>\n",
       "</div>"
      ],
      "text/plain": [
       "Empty DataFrame\n",
       "Columns: [App, Category, Rating, Reviews, Size_MBs, Installs, Type, Price, Content_Rating, Genres, Last_Updated, Android_Ver]\n",
       "Index: []"
      ]
     },
     "execution_count": 124,
     "metadata": {},
     "output_type": "execute_result"
    }
   ],
   "source": [
    "# loading the data once again, so that we can get initial data to explore....\n",
    "df_apps = pd.read_csv('../data/apps.csv')\n",
    "#print(df_apps)\n",
    "\n",
    "# first try to check wheter \"Rating\" has null value in it ?\n",
    "\n",
    "df_apps[\"Rating\"].isnull().any()\n",
    "df_apps.loc[df_apps[\"Rating\"].isna()]\n",
    "\n",
    "print(\"\\n before dropping_rows_with_rating_null ------> \")\n",
    "print(df_apps.loc[df_apps[\"Rating\"].isna()] )\n",
    "\n",
    "# drop the rows whose Rating col value is NaN atleast one\n",
    "print(\"\\n after_dropping_rows_with_rating_null ------> \")\n",
    "after_dropping_rows_with_rating_null = df_apps.dropna(axis =0 , how=\"any\" ,subset=[\"Rating\"]) \n",
    "print(after_dropping_rows_with_rating_null)\n",
    "after_dropping_rows_with_rating_null.loc[df_apps[\"Rating\"].isna()]"
   ]
  },
  {
   "cell_type": "code",
   "execution_count": 155,
   "metadata": {},
   "outputs": [
    {
     "name": "stdout",
     "output_type": "stream",
     "text": [
      "                                                   App Category  Rating  \\\n",
      "21                                 KBA-EZ Health Guide  MEDICAL    5.00   \n",
      "28                                            Ra Ga Ba     GAME    5.00   \n",
      "47                                             Mu.F.O.     GAME    5.00   \n",
      "82                                    Brick Breaker BR     GAME    5.00   \n",
      "99     Anatomy & Physiology Vocabulary Exam Review App  MEDICAL    5.00   \n",
      "...                                                ...      ...     ...   \n",
      "10836                                   Subway Surfers     GAME    4.50   \n",
      "10837                                   Subway Surfers     GAME    4.50   \n",
      "10838                                   Subway Surfers     GAME    4.50   \n",
      "10839                                   Subway Surfers     GAME    4.50   \n",
      "10840                                   Subway Surfers     GAME    4.50   \n",
      "\n",
      "        Reviews  Size_MBs       Installs  Type  Price Content_Rating   Genres  \\\n",
      "21            4     25.00              1  Free      0       Everyone  Medical   \n",
      "28            2     20.00              1  Paid  $1.49       Everyone   Arcade   \n",
      "47            2     16.00              1  Paid  $0.99       Everyone   Arcade   \n",
      "82            7     19.00              5  Free      0       Everyone   Arcade   \n",
      "99            1      4.60              5  Free      0       Everyone  Medical   \n",
      "...         ...       ...            ...   ...    ...            ...      ...   \n",
      "10836  27723193     76.00  1,000,000,000  Free      0   Everyone 10+   Arcade   \n",
      "10837  27724094     76.00  1,000,000,000  Free      0   Everyone 10+   Arcade   \n",
      "10838  27725352     76.00  1,000,000,000  Free      0   Everyone 10+   Arcade   \n",
      "10839  27725352     76.00  1,000,000,000  Free      0   Everyone 10+   Arcade   \n",
      "10840  27711703     76.00  1,000,000,000  Free      0   Everyone 10+   Arcade   \n",
      "\n",
      "           Last_Updated   Android_Ver  \n",
      "21       August 2, 2018  4.0.3 and up  \n",
      "28     February 8, 2017    2.3 and up  \n",
      "47        March 3, 2017    2.3 and up  \n",
      "82        July 23, 2018    4.1 and up  \n",
      "99       August 2, 2018    4.0 and up  \n",
      "...                 ...           ...  \n",
      "10836     July 12, 2018    4.1 and up  \n",
      "10837     July 12, 2018    4.1 and up  \n",
      "10838     July 12, 2018    4.1 and up  \n",
      "10839     July 12, 2018    4.1 and up  \n",
      "10840     July 12, 2018    4.1 and up  \n",
      "\n",
      "[9367 rows x 12 columns]\n"
     ]
    },
    {
     "data": {
      "text/plain": [
       "False"
      ]
     },
     "execution_count": 155,
     "metadata": {},
     "output_type": "execute_result"
    }
   ],
   "source": [
    "## Another good way to drop null rec is dont drop just create new DF with filtering non null vals\n",
    "df_apps = pd.read_csv('../data/apps.csv')\n",
    "df_with_non_null = df_apps.loc[ df_apps[\"Rating\"].notnull()]\n",
    "print(df_with_non_null)\n",
    "\n",
    "df_with_non_null[\"Rating\"].isnull().any() ## false no null in this col. so worked ..."
   ]
  },
  {
   "cell_type": "code",
   "execution_count": 126,
   "metadata": {
    "collapsed": true
   },
   "outputs": [
    {
     "data": {
      "text/html": [
       "<div>\n",
       "<style scoped>\n",
       "    .dataframe tbody tr th:only-of-type {\n",
       "        vertical-align: middle;\n",
       "    }\n",
       "\n",
       "    .dataframe tbody tr th {\n",
       "        vertical-align: top;\n",
       "    }\n",
       "\n",
       "    .dataframe thead th {\n",
       "        text-align: right;\n",
       "    }\n",
       "</style>\n",
       "<table border=\"1\" class=\"dataframe\">\n",
       "  <thead>\n",
       "    <tr style=\"text-align: right;\">\n",
       "      <th></th>\n",
       "      <th>App</th>\n",
       "      <th>Category</th>\n",
       "      <th>Reviews</th>\n",
       "      <th>Size_MBs</th>\n",
       "      <th>Installs</th>\n",
       "      <th>Type</th>\n",
       "      <th>Price</th>\n",
       "      <th>Content_Rating</th>\n",
       "      <th>Genres</th>\n",
       "      <th>Last_Updated</th>\n",
       "      <th>Android_Ver</th>\n",
       "    </tr>\n",
       "  </thead>\n",
       "  <tbody>\n",
       "    <tr>\n",
       "      <th>0</th>\n",
       "      <td>Ak Parti Yardım Toplama</td>\n",
       "      <td>SOCIAL</td>\n",
       "      <td>0</td>\n",
       "      <td>8.70</td>\n",
       "      <td>0</td>\n",
       "      <td>Paid</td>\n",
       "      <td>$13.99</td>\n",
       "      <td>Teen</td>\n",
       "      <td>Social</td>\n",
       "      <td>July 28, 2017</td>\n",
       "      <td>4.1 and up</td>\n",
       "    </tr>\n",
       "    <tr>\n",
       "      <th>1</th>\n",
       "      <td>Ain Arabic Kids Alif Ba ta</td>\n",
       "      <td>FAMILY</td>\n",
       "      <td>0</td>\n",
       "      <td>33.00</td>\n",
       "      <td>0</td>\n",
       "      <td>Paid</td>\n",
       "      <td>$2.99</td>\n",
       "      <td>Everyone</td>\n",
       "      <td>Education</td>\n",
       "      <td>April 15, 2016</td>\n",
       "      <td>3.0 and up</td>\n",
       "    </tr>\n",
       "    <tr>\n",
       "      <th>2</th>\n",
       "      <td>Popsicle Launcher for Android P 9.0 launcher</td>\n",
       "      <td>PERSONALIZATION</td>\n",
       "      <td>0</td>\n",
       "      <td>5.50</td>\n",
       "      <td>0</td>\n",
       "      <td>Paid</td>\n",
       "      <td>$1.49</td>\n",
       "      <td>Everyone</td>\n",
       "      <td>Personalization</td>\n",
       "      <td>July 11, 2018</td>\n",
       "      <td>4.2 and up</td>\n",
       "    </tr>\n",
       "    <tr>\n",
       "      <th>3</th>\n",
       "      <td>Command &amp; Conquer: Rivals</td>\n",
       "      <td>FAMILY</td>\n",
       "      <td>0</td>\n",
       "      <td>19.00</td>\n",
       "      <td>0</td>\n",
       "      <td>NaN</td>\n",
       "      <td>0</td>\n",
       "      <td>Everyone 10+</td>\n",
       "      <td>Strategy</td>\n",
       "      <td>June 28, 2018</td>\n",
       "      <td>Varies with device</td>\n",
       "    </tr>\n",
       "    <tr>\n",
       "      <th>4</th>\n",
       "      <td>CX Network</td>\n",
       "      <td>BUSINESS</td>\n",
       "      <td>0</td>\n",
       "      <td>10.00</td>\n",
       "      <td>0</td>\n",
       "      <td>Free</td>\n",
       "      <td>0</td>\n",
       "      <td>Everyone</td>\n",
       "      <td>Business</td>\n",
       "      <td>August 6, 2018</td>\n",
       "      <td>4.1 and up</td>\n",
       "    </tr>\n",
       "    <tr>\n",
       "      <th>...</th>\n",
       "      <td>...</td>\n",
       "      <td>...</td>\n",
       "      <td>...</td>\n",
       "      <td>...</td>\n",
       "      <td>...</td>\n",
       "      <td>...</td>\n",
       "      <td>...</td>\n",
       "      <td>...</td>\n",
       "      <td>...</td>\n",
       "      <td>...</td>\n",
       "      <td>...</td>\n",
       "    </tr>\n",
       "    <tr>\n",
       "      <th>10836</th>\n",
       "      <td>Subway Surfers</td>\n",
       "      <td>GAME</td>\n",
       "      <td>27723193</td>\n",
       "      <td>76.00</td>\n",
       "      <td>1,000,000,000</td>\n",
       "      <td>Free</td>\n",
       "      <td>0</td>\n",
       "      <td>Everyone 10+</td>\n",
       "      <td>Arcade</td>\n",
       "      <td>July 12, 2018</td>\n",
       "      <td>4.1 and up</td>\n",
       "    </tr>\n",
       "    <tr>\n",
       "      <th>10837</th>\n",
       "      <td>Subway Surfers</td>\n",
       "      <td>GAME</td>\n",
       "      <td>27724094</td>\n",
       "      <td>76.00</td>\n",
       "      <td>1,000,000,000</td>\n",
       "      <td>Free</td>\n",
       "      <td>0</td>\n",
       "      <td>Everyone 10+</td>\n",
       "      <td>Arcade</td>\n",
       "      <td>July 12, 2018</td>\n",
       "      <td>4.1 and up</td>\n",
       "    </tr>\n",
       "    <tr>\n",
       "      <th>10838</th>\n",
       "      <td>Subway Surfers</td>\n",
       "      <td>GAME</td>\n",
       "      <td>27725352</td>\n",
       "      <td>76.00</td>\n",
       "      <td>1,000,000,000</td>\n",
       "      <td>Free</td>\n",
       "      <td>0</td>\n",
       "      <td>Everyone 10+</td>\n",
       "      <td>Arcade</td>\n",
       "      <td>July 12, 2018</td>\n",
       "      <td>4.1 and up</td>\n",
       "    </tr>\n",
       "    <tr>\n",
       "      <th>10839</th>\n",
       "      <td>Subway Surfers</td>\n",
       "      <td>GAME</td>\n",
       "      <td>27725352</td>\n",
       "      <td>76.00</td>\n",
       "      <td>1,000,000,000</td>\n",
       "      <td>Free</td>\n",
       "      <td>0</td>\n",
       "      <td>Everyone 10+</td>\n",
       "      <td>Arcade</td>\n",
       "      <td>July 12, 2018</td>\n",
       "      <td>4.1 and up</td>\n",
       "    </tr>\n",
       "    <tr>\n",
       "      <th>10840</th>\n",
       "      <td>Subway Surfers</td>\n",
       "      <td>GAME</td>\n",
       "      <td>27711703</td>\n",
       "      <td>76.00</td>\n",
       "      <td>1,000,000,000</td>\n",
       "      <td>Free</td>\n",
       "      <td>0</td>\n",
       "      <td>Everyone 10+</td>\n",
       "      <td>Arcade</td>\n",
       "      <td>July 12, 2018</td>\n",
       "      <td>4.1 and up</td>\n",
       "    </tr>\n",
       "  </tbody>\n",
       "</table>\n",
       "<p>10841 rows × 11 columns</p>\n",
       "</div>"
      ],
      "text/plain": [
       "                                                App         Category  \\\n",
       "0                           Ak Parti Yardım Toplama           SOCIAL   \n",
       "1                        Ain Arabic Kids Alif Ba ta           FAMILY   \n",
       "2      Popsicle Launcher for Android P 9.0 launcher  PERSONALIZATION   \n",
       "3                         Command & Conquer: Rivals           FAMILY   \n",
       "4                                        CX Network         BUSINESS   \n",
       "...                                             ...              ...   \n",
       "10836                                Subway Surfers             GAME   \n",
       "10837                                Subway Surfers             GAME   \n",
       "10838                                Subway Surfers             GAME   \n",
       "10839                                Subway Surfers             GAME   \n",
       "10840                                Subway Surfers             GAME   \n",
       "\n",
       "        Reviews  Size_MBs       Installs  Type   Price Content_Rating  \\\n",
       "0             0      8.70              0  Paid  $13.99           Teen   \n",
       "1             0     33.00              0  Paid   $2.99       Everyone   \n",
       "2             0      5.50              0  Paid   $1.49       Everyone   \n",
       "3             0     19.00              0   NaN       0   Everyone 10+   \n",
       "4             0     10.00              0  Free       0       Everyone   \n",
       "...         ...       ...            ...   ...     ...            ...   \n",
       "10836  27723193     76.00  1,000,000,000  Free       0   Everyone 10+   \n",
       "10837  27724094     76.00  1,000,000,000  Free       0   Everyone 10+   \n",
       "10838  27725352     76.00  1,000,000,000  Free       0   Everyone 10+   \n",
       "10839  27725352     76.00  1,000,000,000  Free       0   Everyone 10+   \n",
       "10840  27711703     76.00  1,000,000,000  Free       0   Everyone 10+   \n",
       "\n",
       "                Genres    Last_Updated         Android_Ver  \n",
       "0               Social   July 28, 2017          4.1 and up  \n",
       "1            Education  April 15, 2016          3.0 and up  \n",
       "2      Personalization   July 11, 2018          4.2 and up  \n",
       "3             Strategy   June 28, 2018  Varies with device  \n",
       "4             Business  August 6, 2018          4.1 and up  \n",
       "...                ...             ...                 ...  \n",
       "10836           Arcade   July 12, 2018          4.1 and up  \n",
       "10837           Arcade   July 12, 2018          4.1 and up  \n",
       "10838           Arcade   July 12, 2018          4.1 and up  \n",
       "10839           Arcade   July 12, 2018          4.1 and up  \n",
       "10840           Arcade   July 12, 2018          4.1 and up  \n",
       "\n",
       "[10841 rows x 11 columns]"
      ]
     },
     "execution_count": 126,
     "metadata": {},
     "output_type": "execute_result"
    }
   ],
   "source": [
    "# till now we have see dropiing rows , now drop the col \n",
    "df_apps = pd.read_csv('../data/apps.csv')\n",
    "after_drop_col_with_null = df_apps.dropna(axis=1 , how=\"any\" , subset=[1] )\n",
    "after_drop_col_with_null"
   ]
  },
  {
   "cell_type": "code",
   "execution_count": 128,
   "metadata": {},
   "outputs": [
    {
     "data": {
      "text/plain": [
       "(10841, 12)"
      ]
     },
     "execution_count": 128,
     "metadata": {},
     "output_type": "execute_result"
    }
   ],
   "source": [
    "df_app_clean.duplicated()\n",
    "df_app_clean.shape\n",
    "df_apps.shape"
   ]
  },
  {
   "cell_type": "code",
   "execution_count": null,
   "metadata": {},
   "outputs": [],
   "source": []
  },
  {
   "cell_type": "markdown",
   "metadata": {},
   "source": [
    "## Find and drop null from DF and any specific col ( Note : Very Important)"
   ]
  },
  {
   "cell_type": "code",
   "execution_count": 3,
   "metadata": {},
   "outputs": [
    {
     "data": {
      "text/html": [
       "<div>\n",
       "<style scoped>\n",
       "    .dataframe tbody tr th:only-of-type {\n",
       "        vertical-align: middle;\n",
       "    }\n",
       "\n",
       "    .dataframe tbody tr th {\n",
       "        vertical-align: top;\n",
       "    }\n",
       "\n",
       "    .dataframe thead th {\n",
       "        text-align: right;\n",
       "    }\n",
       "</style>\n",
       "<table border=\"1\" class=\"dataframe\">\n",
       "  <thead>\n",
       "    <tr style=\"text-align: right;\">\n",
       "      <th></th>\n",
       "      <th>App</th>\n",
       "      <th>Category</th>\n",
       "      <th>Rating</th>\n",
       "      <th>Reviews</th>\n",
       "      <th>Size_MBs</th>\n",
       "      <th>Installs</th>\n",
       "      <th>Type</th>\n",
       "      <th>Price</th>\n",
       "      <th>Content_Rating</th>\n",
       "      <th>Genres</th>\n",
       "      <th>Last_Updated</th>\n",
       "      <th>Android_Ver</th>\n",
       "    </tr>\n",
       "  </thead>\n",
       "  <tbody>\n",
       "    <tr>\n",
       "      <th>0</th>\n",
       "      <td>Ak Parti Yardım Toplama</td>\n",
       "      <td>SOCIAL</td>\n",
       "      <td>NaN</td>\n",
       "      <td>0</td>\n",
       "      <td>8.7</td>\n",
       "      <td>0</td>\n",
       "      <td>Paid</td>\n",
       "      <td>$13.99</td>\n",
       "      <td>Teen</td>\n",
       "      <td>Social</td>\n",
       "      <td>July 28, 2017</td>\n",
       "      <td>4.1 and up</td>\n",
       "    </tr>\n",
       "    <tr>\n",
       "      <th>1</th>\n",
       "      <td>Ain Arabic Kids Alif Ba ta</td>\n",
       "      <td>FAMILY</td>\n",
       "      <td>NaN</td>\n",
       "      <td>0</td>\n",
       "      <td>33.0</td>\n",
       "      <td>0</td>\n",
       "      <td>Paid</td>\n",
       "      <td>$2.99</td>\n",
       "      <td>Everyone</td>\n",
       "      <td>Education</td>\n",
       "      <td>April 15, 2016</td>\n",
       "      <td>3.0 and up</td>\n",
       "    </tr>\n",
       "    <tr>\n",
       "      <th>2</th>\n",
       "      <td>Popsicle Launcher for Android P 9.0 launcher</td>\n",
       "      <td>PERSONALIZATION</td>\n",
       "      <td>NaN</td>\n",
       "      <td>0</td>\n",
       "      <td>5.5</td>\n",
       "      <td>0</td>\n",
       "      <td>Paid</td>\n",
       "      <td>$1.49</td>\n",
       "      <td>Everyone</td>\n",
       "      <td>Personalization</td>\n",
       "      <td>July 11, 2018</td>\n",
       "      <td>4.2 and up</td>\n",
       "    </tr>\n",
       "    <tr>\n",
       "      <th>3</th>\n",
       "      <td>Command &amp; Conquer: Rivals</td>\n",
       "      <td>FAMILY</td>\n",
       "      <td>NaN</td>\n",
       "      <td>0</td>\n",
       "      <td>19.0</td>\n",
       "      <td>0</td>\n",
       "      <td>NaN</td>\n",
       "      <td>0</td>\n",
       "      <td>Everyone 10+</td>\n",
       "      <td>Strategy</td>\n",
       "      <td>June 28, 2018</td>\n",
       "      <td>Varies with device</td>\n",
       "    </tr>\n",
       "    <tr>\n",
       "      <th>4</th>\n",
       "      <td>CX Network</td>\n",
       "      <td>BUSINESS</td>\n",
       "      <td>NaN</td>\n",
       "      <td>0</td>\n",
       "      <td>10.0</td>\n",
       "      <td>0</td>\n",
       "      <td>Free</td>\n",
       "      <td>0</td>\n",
       "      <td>Everyone</td>\n",
       "      <td>Business</td>\n",
       "      <td>August 6, 2018</td>\n",
       "      <td>4.1 and up</td>\n",
       "    </tr>\n",
       "  </tbody>\n",
       "</table>\n",
       "</div>"
      ],
      "text/plain": [
       "                                            App         Category  Rating  \\\n",
       "0                       Ak Parti Yardım Toplama           SOCIAL     NaN   \n",
       "1                    Ain Arabic Kids Alif Ba ta           FAMILY     NaN   \n",
       "2  Popsicle Launcher for Android P 9.0 launcher  PERSONALIZATION     NaN   \n",
       "3                     Command & Conquer: Rivals           FAMILY     NaN   \n",
       "4                                    CX Network         BUSINESS     NaN   \n",
       "\n",
       "   Reviews  Size_MBs Installs  Type   Price Content_Rating           Genres  \\\n",
       "0        0       8.7        0  Paid  $13.99           Teen           Social   \n",
       "1        0      33.0        0  Paid   $2.99       Everyone        Education   \n",
       "2        0       5.5        0  Paid   $1.49       Everyone  Personalization   \n",
       "3        0      19.0        0   NaN       0   Everyone 10+         Strategy   \n",
       "4        0      10.0        0  Free       0       Everyone         Business   \n",
       "\n",
       "     Last_Updated         Android_Ver  \n",
       "0   July 28, 2017          4.1 and up  \n",
       "1  April 15, 2016          3.0 and up  \n",
       "2   July 11, 2018          4.2 and up  \n",
       "3   June 28, 2018  Varies with device  \n",
       "4  August 6, 2018          4.1 and up  "
      ]
     },
     "execution_count": 3,
     "metadata": {},
     "output_type": "execute_result"
    }
   ],
   "source": [
    "import pandas as pd\n",
    "df_apps = pd.read_csv('../data/apps.csv')\n",
    "df_apps.head()"
   ]
  },
  {
   "cell_type": "code",
   "execution_count": 4,
   "metadata": {},
   "outputs": [
    {
     "ename": "ModuleNotFoundError",
     "evalue": "No module named 'pyspark'",
     "output_type": "error",
     "traceback": [
      "\u001b[0;31m---------------------------------------------------------------------------\u001b[0m",
      "\u001b[0;31mModuleNotFoundError\u001b[0m                       Traceback (most recent call last)",
      "\u001b[0;32m<ipython-input-4-61fbc0d156c2>\u001b[0m in \u001b[0;36m<module>\u001b[0;34m\u001b[0m\n\u001b[0;32m----> 1\u001b[0;31m \u001b[0;32mfrom\u001b[0m \u001b[0mpyspark\u001b[0m\u001b[0;34m.\u001b[0m\u001b[0msql\u001b[0m \u001b[0;32mimport\u001b[0m \u001b[0mSparkSession\u001b[0m\u001b[0;34m\u001b[0m\u001b[0;34m\u001b[0m\u001b[0m\n\u001b[0m",
      "\u001b[0;31mModuleNotFoundError\u001b[0m: No module named 'pyspark'"
     ]
    }
   ],
   "source": [
    "from pyspark.sql import SparkSession"
   ]
  },
  {
   "cell_type": "code",
   "execution_count": null,
   "metadata": {},
   "outputs": [],
   "source": []
  },
  {
   "cell_type": "code",
   "execution_count": null,
   "metadata": {},
   "outputs": [],
   "source": []
  },
  {
   "cell_type": "code",
   "execution_count": null,
   "metadata": {},
   "outputs": [],
   "source": []
  },
  {
   "cell_type": "code",
   "execution_count": null,
   "metadata": {},
   "outputs": [],
   "source": []
  },
  {
   "cell_type": "code",
   "execution_count": null,
   "metadata": {},
   "outputs": [],
   "source": []
  },
  {
   "cell_type": "code",
   "execution_count": null,
   "metadata": {},
   "outputs": [],
   "source": []
  },
  {
   "cell_type": "code",
   "execution_count": null,
   "metadata": {},
   "outputs": [],
   "source": []
  },
  {
   "cell_type": "code",
   "execution_count": null,
   "metadata": {},
   "outputs": [],
   "source": []
  },
  {
   "cell_type": "code",
   "execution_count": null,
   "metadata": {},
   "outputs": [],
   "source": []
  },
  {
   "cell_type": "markdown",
   "metadata": {
    "id": "iKvSUwQldiUA"
   },
   "source": [
    "# Data Cleaning"
   ]
  },
  {
   "cell_type": "markdown",
   "metadata": {
    "id": "MWTzYZIds5L9"
   },
   "source": [
    "**Challenge**: How many rows and columns does `df_apps` have? What are the column names? Look at a random sample of 5 different rows with [.sample()](https://pandas.pydata.org/pandas-docs/stable/reference/api/pandas.DataFrame.sample.html)."
   ]
  },
  {
   "cell_type": "code",
   "execution_count": 156,
   "metadata": {
    "id": "HJI7UsPrnuRf"
   },
   "outputs": [
    {
     "data": {
      "text/plain": [
       "0        False\n",
       "1        False\n",
       "2        False\n",
       "3        False\n",
       "4        False\n",
       "         ...  \n",
       "10836    False\n",
       "10837    False\n",
       "10838    False\n",
       "10839     True\n",
       "10840    False\n",
       "Length: 10841, dtype: bool"
      ]
     },
     "execution_count": 156,
     "metadata": {},
     "output_type": "execute_result"
    }
   ],
   "source": [
    "# simple scnario to drop a col with name \n",
    "df_app_clean =df_apps.drop([\"Last_Updated\", \"Android_Ver\" ], axis=\"columns\")\n",
    "\n"
   ]
  },
  {
   "cell_type": "code",
   "execution_count": 166,
   "metadata": {},
   "outputs": [
    {
     "name": "stdout",
     "output_type": "stream",
     "text": [
      "                                App Category  Rating  Reviews  Size_MBs  \\\n",
      "190                      RT 516 VET  MEDICAL     nan        0     29.00   \n",
      "741      Penn State Health OnDemand  MEDICAL     nan        0     40.00   \n",
      "803                     Maricopa AH  MEDICAL     nan        0     29.00   \n",
      "914  Breastfeeding Tracker Baby Log  MEDICAL     nan        6     23.00   \n",
      "946          420 BZ Budeze Delivery  MEDICAL    5.00        2     11.00   \n",
      "\n",
      "    Installs  Type Price Content_Rating   Genres  \n",
      "190       10  Free     0       Everyone  Medical  \n",
      "741       50  Free     0       Everyone  Medical  \n",
      "803      100  Free     0       Everyone  Medical  \n",
      "914      100  Free     0       Everyone  Medical  \n",
      "946      100  Free     0     Mature 17+  Medical  \n"
     ]
    },
    {
     "data": {
      "text/html": [
       "<div>\n",
       "<style scoped>\n",
       "    .dataframe tbody tr th:only-of-type {\n",
       "        vertical-align: middle;\n",
       "    }\n",
       "\n",
       "    .dataframe tbody tr th {\n",
       "        vertical-align: top;\n",
       "    }\n",
       "\n",
       "    .dataframe thead th {\n",
       "        text-align: right;\n",
       "    }\n",
       "</style>\n",
       "<table border=\"1\" class=\"dataframe\">\n",
       "  <thead>\n",
       "    <tr style=\"text-align: right;\">\n",
       "      <th></th>\n",
       "      <th>App</th>\n",
       "      <th>Category</th>\n",
       "      <th>Rating</th>\n",
       "      <th>Reviews</th>\n",
       "      <th>Size_MBs</th>\n",
       "      <th>Installs</th>\n",
       "      <th>Type</th>\n",
       "      <th>Price</th>\n",
       "      <th>Content_Rating</th>\n",
       "      <th>Genres</th>\n",
       "    </tr>\n",
       "  </thead>\n",
       "  <tbody>\n",
       "    <tr>\n",
       "      <th>189</th>\n",
       "      <td>RT 516 VET</td>\n",
       "      <td>MEDICAL</td>\n",
       "      <td>nan</td>\n",
       "      <td>0</td>\n",
       "      <td>29.00</td>\n",
       "      <td>10</td>\n",
       "      <td>Free</td>\n",
       "      <td>0</td>\n",
       "      <td>Everyone</td>\n",
       "      <td>Medical</td>\n",
       "    </tr>\n",
       "    <tr>\n",
       "      <th>190</th>\n",
       "      <td>RT 516 VET</td>\n",
       "      <td>MEDICAL</td>\n",
       "      <td>nan</td>\n",
       "      <td>0</td>\n",
       "      <td>29.00</td>\n",
       "      <td>10</td>\n",
       "      <td>Free</td>\n",
       "      <td>0</td>\n",
       "      <td>Everyone</td>\n",
       "      <td>Medical</td>\n",
       "    </tr>\n",
       "  </tbody>\n",
       "</table>\n",
       "</div>"
      ],
      "text/plain": [
       "            App Category  Rating  Reviews  Size_MBs Installs  Type Price  \\\n",
       "189  RT 516 VET  MEDICAL     nan        0     29.00       10  Free     0   \n",
       "190  RT 516 VET  MEDICAL     nan        0     29.00       10  Free     0   \n",
       "\n",
       "    Content_Rating   Genres  \n",
       "189       Everyone  Medical  \n",
       "190       Everyone  Medical  "
      ]
     },
     "execution_count": 166,
     "metadata": {},
     "output_type": "execute_result"
    }
   ],
   "source": [
    "# Find the duplicated rows \n",
    "\n",
    "complete_row_duplicated_rows = df_app_clean[df_app_clean.duplicated()] # will have the firs row and drop al the duplicated ros subsequently.\n",
    "print(complete_row_duplicated_rows.head())\n",
    "\n",
    "df_app_clean.loc[df_app_clean[\"App\"] == \"RT 516 VET\"]"
   ]
  },
  {
   "cell_type": "code",
   "execution_count": 164,
   "metadata": {
    "id": "fKXFjPkmnuYA"
   },
   "outputs": [
    {
     "name": "stdout",
     "output_type": "stream",
     "text": [
      "                  App Category  Rating   Reviews  Size_MBs       Installs  \\\n",
      "10835  Subway Surfers     GAME    4.50  27722264     76.00  1,000,000,000   \n",
      "10836  Subway Surfers     GAME    4.50  27723193     76.00  1,000,000,000   \n",
      "10837  Subway Surfers     GAME    4.50  27724094     76.00  1,000,000,000   \n",
      "10838  Subway Surfers     GAME    4.50  27725352     76.00  1,000,000,000   \n",
      "10839  Subway Surfers     GAME    4.50  27725352     76.00  1,000,000,000   \n",
      "10840  Subway Surfers     GAME    4.50  27711703     76.00  1,000,000,000   \n",
      "\n",
      "       Type Price Content_Rating  Genres  \n",
      "10835  Free     0   Everyone 10+  Arcade  \n",
      "10836  Free     0   Everyone 10+  Arcade  \n",
      "10837  Free     0   Everyone 10+  Arcade  \n",
      "10838  Free     0   Everyone 10+  Arcade  \n",
      "10839  Free     0   Everyone 10+  Arcade  \n",
      "10840  Free     0   Everyone 10+  Arcade  \n"
     ]
    }
   ],
   "source": [
    "#df_app_clean.iloc[10839]\n",
    "\n",
    "df_app_clean.drop_duplicates(inplace=True)\n",
    "#df_app_clean.shape\n"
   ]
  },
  {
   "cell_type": "code",
   "execution_count": null,
   "metadata": {
    "id": "MUluaHF5nueH"
   },
   "outputs": [],
   "source": []
  },
  {
   "cell_type": "markdown",
   "metadata": {
    "id": "Hh81sMcvdiUI"
   },
   "source": [
    "### Drop Unused Columns\n",
    "\n",
    "**Challenge**: Remove the columns called `Last_Updated` and `Android_Version` from the DataFrame. We will not use these columns. "
   ]
  },
  {
   "cell_type": "code",
   "execution_count": null,
   "metadata": {
    "id": "t7EMSKAOnyzI"
   },
   "outputs": [],
   "source": []
  },
  {
   "cell_type": "markdown",
   "metadata": {
    "id": "YQGe1DIKdiUM"
   },
   "source": [
    "### Find and Remove NaN values in Ratings\n",
    "\n",
    "**Challenge**: How may rows have a NaN value (not-a-number) in the Ratings column? Create DataFrame called `df_apps_clean` that does not include these rows. "
   ]
  },
  {
   "cell_type": "code",
   "execution_count": null,
   "metadata": {
    "id": "grcP1IOZn1Wv"
   },
   "outputs": [],
   "source": []
  },
  {
   "cell_type": "code",
   "execution_count": null,
   "metadata": {
    "id": "IbQnnPaUn1Pw"
   },
   "outputs": [],
   "source": []
  },
  {
   "cell_type": "markdown",
   "metadata": {
    "id": "pD26SWlxdiUV"
   },
   "source": [
    "### Find and Remove Duplicates\n",
    "\n",
    "**Challenge**: Are there any duplicates in data? Check for duplicates using the [.duplicated()](https://pandas.pydata.org/pandas-docs/stable/reference/api/pandas.DataFrame.duplicated.html) function. How many entries can you find for the \"Instagram\" app? Use [.drop_duplicates()](https://pandas.pydata.org/pandas-docs/stable/reference/api/pandas.DataFrame.drop_duplicates.html) to remove any duplicates from `df_apps_clean`. \n"
   ]
  },
  {
   "cell_type": "code",
   "execution_count": null,
   "metadata": {
    "id": "lE7X6KG3n5pR"
   },
   "outputs": [],
   "source": []
  },
  {
   "cell_type": "code",
   "execution_count": null,
   "metadata": {
    "id": "GK2rP7wgn53-"
   },
   "outputs": [],
   "source": []
  },
  {
   "cell_type": "code",
   "execution_count": null,
   "metadata": {
    "id": "Wtt09kiRn6GS"
   },
   "outputs": [],
   "source": []
  },
  {
   "cell_type": "code",
   "execution_count": null,
   "metadata": {
    "id": "30yZCwtKn5xC"
   },
   "outputs": [],
   "source": []
  },
  {
   "cell_type": "code",
   "execution_count": null,
   "metadata": {
    "id": "AagS_wgWn5ib"
   },
   "outputs": [],
   "source": []
  },
  {
   "cell_type": "markdown",
   "metadata": {
    "id": "GJrM69CfdiUh"
   },
   "source": [
    "# Find Highest Rated Apps\n",
    "\n",
    "**Challenge**: Identify which apps are the highest rated. What problem might you encounter if you rely exclusively on ratings alone to determine the quality of an app?"
   ]
  },
  {
   "cell_type": "code",
   "execution_count": 131,
   "metadata": {
    "id": "rp7vFHBMn7st"
   },
   "outputs": [
    {
     "data": {
      "text/html": [
       "<div>\n",
       "<style scoped>\n",
       "    .dataframe tbody tr th:only-of-type {\n",
       "        vertical-align: middle;\n",
       "    }\n",
       "\n",
       "    .dataframe tbody tr th {\n",
       "        vertical-align: top;\n",
       "    }\n",
       "\n",
       "    .dataframe thead th {\n",
       "        text-align: right;\n",
       "    }\n",
       "</style>\n",
       "<table border=\"1\" class=\"dataframe\">\n",
       "  <thead>\n",
       "    <tr style=\"text-align: right;\">\n",
       "      <th></th>\n",
       "      <th>App</th>\n",
       "      <th>Category</th>\n",
       "      <th>Rating</th>\n",
       "      <th>Reviews</th>\n",
       "      <th>Size_MBs</th>\n",
       "      <th>Installs</th>\n",
       "      <th>Type</th>\n",
       "      <th>Price</th>\n",
       "      <th>Content_Rating</th>\n",
       "      <th>Genres</th>\n",
       "    </tr>\n",
       "  </thead>\n",
       "  <tbody>\n",
       "    <tr>\n",
       "      <th>0</th>\n",
       "      <td>Ak Parti Yardım Toplama</td>\n",
       "      <td>SOCIAL</td>\n",
       "      <td>nan</td>\n",
       "      <td>0</td>\n",
       "      <td>8.70</td>\n",
       "      <td>0</td>\n",
       "      <td>Paid</td>\n",
       "      <td>$13.99</td>\n",
       "      <td>Teen</td>\n",
       "      <td>Social</td>\n",
       "    </tr>\n",
       "    <tr>\n",
       "      <th>1</th>\n",
       "      <td>Ain Arabic Kids Alif Ba ta</td>\n",
       "      <td>FAMILY</td>\n",
       "      <td>nan</td>\n",
       "      <td>0</td>\n",
       "      <td>33.00</td>\n",
       "      <td>0</td>\n",
       "      <td>Paid</td>\n",
       "      <td>$2.99</td>\n",
       "      <td>Everyone</td>\n",
       "      <td>Education</td>\n",
       "    </tr>\n",
       "    <tr>\n",
       "      <th>2</th>\n",
       "      <td>Popsicle Launcher for Android P 9.0 launcher</td>\n",
       "      <td>PERSONALIZATION</td>\n",
       "      <td>nan</td>\n",
       "      <td>0</td>\n",
       "      <td>5.50</td>\n",
       "      <td>0</td>\n",
       "      <td>Paid</td>\n",
       "      <td>$1.49</td>\n",
       "      <td>Everyone</td>\n",
       "      <td>Personalization</td>\n",
       "    </tr>\n",
       "    <tr>\n",
       "      <th>3</th>\n",
       "      <td>Command &amp; Conquer: Rivals</td>\n",
       "      <td>FAMILY</td>\n",
       "      <td>nan</td>\n",
       "      <td>0</td>\n",
       "      <td>19.00</td>\n",
       "      <td>0</td>\n",
       "      <td>NaN</td>\n",
       "      <td>0</td>\n",
       "      <td>Everyone 10+</td>\n",
       "      <td>Strategy</td>\n",
       "    </tr>\n",
       "    <tr>\n",
       "      <th>4</th>\n",
       "      <td>CX Network</td>\n",
       "      <td>BUSINESS</td>\n",
       "      <td>nan</td>\n",
       "      <td>0</td>\n",
       "      <td>10.00</td>\n",
       "      <td>0</td>\n",
       "      <td>Free</td>\n",
       "      <td>0</td>\n",
       "      <td>Everyone</td>\n",
       "      <td>Business</td>\n",
       "    </tr>\n",
       "  </tbody>\n",
       "</table>\n",
       "</div>"
      ],
      "text/plain": [
       "                                            App         Category  Rating  \\\n",
       "0                       Ak Parti Yardım Toplama           SOCIAL     nan   \n",
       "1                    Ain Arabic Kids Alif Ba ta           FAMILY     nan   \n",
       "2  Popsicle Launcher for Android P 9.0 launcher  PERSONALIZATION     nan   \n",
       "3                     Command & Conquer: Rivals           FAMILY     nan   \n",
       "4                                    CX Network         BUSINESS     nan   \n",
       "\n",
       "   Reviews  Size_MBs Installs  Type   Price Content_Rating           Genres  \n",
       "0        0      8.70        0  Paid  $13.99           Teen           Social  \n",
       "1        0     33.00        0  Paid   $2.99       Everyone        Education  \n",
       "2        0      5.50        0  Paid   $1.49       Everyone  Personalization  \n",
       "3        0     19.00        0   NaN       0   Everyone 10+         Strategy  \n",
       "4        0     10.00        0  Free       0       Everyone         Business  "
      ]
     },
     "execution_count": 131,
     "metadata": {},
     "output_type": "execute_result"
    }
   ],
   "source": [
    "df_app_clean.head(5)"
   ]
  },
  {
   "cell_type": "code",
   "execution_count": 134,
   "metadata": {},
   "outputs": [
    {
     "data": {
      "text/html": [
       "<div>\n",
       "<style scoped>\n",
       "    .dataframe tbody tr th:only-of-type {\n",
       "        vertical-align: middle;\n",
       "    }\n",
       "\n",
       "    .dataframe tbody tr th {\n",
       "        vertical-align: top;\n",
       "    }\n",
       "\n",
       "    .dataframe thead th {\n",
       "        text-align: right;\n",
       "    }\n",
       "</style>\n",
       "<table border=\"1\" class=\"dataframe\">\n",
       "  <thead>\n",
       "    <tr style=\"text-align: right;\">\n",
       "      <th></th>\n",
       "      <th>App</th>\n",
       "      <th>Category</th>\n",
       "      <th>Rating</th>\n",
       "      <th>Reviews</th>\n",
       "      <th>Size_MBs</th>\n",
       "      <th>Installs</th>\n",
       "      <th>Type</th>\n",
       "      <th>Price</th>\n",
       "      <th>Content_Rating</th>\n",
       "      <th>Genres</th>\n",
       "    </tr>\n",
       "  </thead>\n",
       "  <tbody>\n",
       "    <tr>\n",
       "      <th>21</th>\n",
       "      <td>KBA-EZ Health Guide</td>\n",
       "      <td>MEDICAL</td>\n",
       "      <td>5.00</td>\n",
       "      <td>4</td>\n",
       "      <td>25.00</td>\n",
       "      <td>1</td>\n",
       "      <td>Free</td>\n",
       "      <td>0</td>\n",
       "      <td>Everyone</td>\n",
       "      <td>Medical</td>\n",
       "    </tr>\n",
       "    <tr>\n",
       "      <th>1573</th>\n",
       "      <td>FHR 5-Tier 2.0</td>\n",
       "      <td>MEDICAL</td>\n",
       "      <td>5.00</td>\n",
       "      <td>2</td>\n",
       "      <td>1.20</td>\n",
       "      <td>500</td>\n",
       "      <td>Paid</td>\n",
       "      <td>$2.99</td>\n",
       "      <td>Everyone</td>\n",
       "      <td>Medical</td>\n",
       "    </tr>\n",
       "    <tr>\n",
       "      <th>1096</th>\n",
       "      <td>BG Guide</td>\n",
       "      <td>TRAVEL_AND_LOCAL</td>\n",
       "      <td>5.00</td>\n",
       "      <td>3</td>\n",
       "      <td>2.40</td>\n",
       "      <td>100</td>\n",
       "      <td>Free</td>\n",
       "      <td>0</td>\n",
       "      <td>Everyone</td>\n",
       "      <td>Travel &amp; Local</td>\n",
       "    </tr>\n",
       "    <tr>\n",
       "      <th>1095</th>\n",
       "      <td>Morse Player</td>\n",
       "      <td>FAMILY</td>\n",
       "      <td>5.00</td>\n",
       "      <td>12</td>\n",
       "      <td>2.40</td>\n",
       "      <td>100</td>\n",
       "      <td>Paid</td>\n",
       "      <td>$1.99</td>\n",
       "      <td>Everyone</td>\n",
       "      <td>Education</td>\n",
       "    </tr>\n",
       "    <tr>\n",
       "      <th>1092</th>\n",
       "      <td>DG TV</td>\n",
       "      <td>NEWS_AND_MAGAZINES</td>\n",
       "      <td>5.00</td>\n",
       "      <td>3</td>\n",
       "      <td>5.70</td>\n",
       "      <td>100</td>\n",
       "      <td>Free</td>\n",
       "      <td>0</td>\n",
       "      <td>Everyone</td>\n",
       "      <td>News &amp; Magazines</td>\n",
       "    </tr>\n",
       "    <tr>\n",
       "      <th>1083</th>\n",
       "      <td>A-Y Collection</td>\n",
       "      <td>SHOPPING</td>\n",
       "      <td>5.00</td>\n",
       "      <td>2</td>\n",
       "      <td>2.90</td>\n",
       "      <td>100</td>\n",
       "      <td>Free</td>\n",
       "      <td>0</td>\n",
       "      <td>Teen</td>\n",
       "      <td>Shopping</td>\n",
       "    </tr>\n",
       "    <tr>\n",
       "      <th>1076</th>\n",
       "      <td>Spring flowers theme couleurs d t space</td>\n",
       "      <td>ART_AND_DESIGN</td>\n",
       "      <td>5.00</td>\n",
       "      <td>1</td>\n",
       "      <td>2.90</td>\n",
       "      <td>100</td>\n",
       "      <td>Free</td>\n",
       "      <td>0</td>\n",
       "      <td>Everyone</td>\n",
       "      <td>Art &amp; Design</td>\n",
       "    </tr>\n",
       "    <tr>\n",
       "      <th>1064</th>\n",
       "      <td>Fr. Mike Schmitz Audio Teachings</td>\n",
       "      <td>FAMILY</td>\n",
       "      <td>5.00</td>\n",
       "      <td>4</td>\n",
       "      <td>3.60</td>\n",
       "      <td>100</td>\n",
       "      <td>Free</td>\n",
       "      <td>0</td>\n",
       "      <td>Everyone</td>\n",
       "      <td>Education</td>\n",
       "    </tr>\n",
       "    <tr>\n",
       "      <th>1060</th>\n",
       "      <td>Free coupons and vouchers</td>\n",
       "      <td>FINANCE</td>\n",
       "      <td>5.00</td>\n",
       "      <td>4</td>\n",
       "      <td>5.90</td>\n",
       "      <td>100</td>\n",
       "      <td>Free</td>\n",
       "      <td>0</td>\n",
       "      <td>Everyone</td>\n",
       "      <td>Finance</td>\n",
       "    </tr>\n",
       "    <tr>\n",
       "      <th>1049</th>\n",
       "      <td>Helping BD</td>\n",
       "      <td>LIFESTYLE</td>\n",
       "      <td>5.00</td>\n",
       "      <td>15</td>\n",
       "      <td>4.50</td>\n",
       "      <td>100</td>\n",
       "      <td>Free</td>\n",
       "      <td>0</td>\n",
       "      <td>Everyone</td>\n",
       "      <td>Lifestyle</td>\n",
       "    </tr>\n",
       "    <tr>\n",
       "      <th>1100</th>\n",
       "      <td>Chenoweth AH</td>\n",
       "      <td>MEDICAL</td>\n",
       "      <td>5.00</td>\n",
       "      <td>1</td>\n",
       "      <td>27.00</td>\n",
       "      <td>100</td>\n",
       "      <td>Free</td>\n",
       "      <td>0</td>\n",
       "      <td>Everyone</td>\n",
       "      <td>Medical</td>\n",
       "    </tr>\n",
       "    <tr>\n",
       "      <th>2067</th>\n",
       "      <td>Accounting Quiz (AQ) Malaysia</td>\n",
       "      <td>FAMILY</td>\n",
       "      <td>5.00</td>\n",
       "      <td>25</td>\n",
       "      <td>19.00</td>\n",
       "      <td>1,000</td>\n",
       "      <td>Free</td>\n",
       "      <td>0</td>\n",
       "      <td>Everyone</td>\n",
       "      <td>Education</td>\n",
       "    </tr>\n",
       "    <tr>\n",
       "      <th>1044</th>\n",
       "      <td>BK Arogyam Task Track</td>\n",
       "      <td>BUSINESS</td>\n",
       "      <td>5.00</td>\n",
       "      <td>8</td>\n",
       "      <td>3.70</td>\n",
       "      <td>100</td>\n",
       "      <td>Free</td>\n",
       "      <td>0</td>\n",
       "      <td>Everyone</td>\n",
       "      <td>Business</td>\n",
       "    </tr>\n",
       "    <tr>\n",
       "      <th>2069</th>\n",
       "      <td>Master E.K</td>\n",
       "      <td>FAMILY</td>\n",
       "      <td>5.00</td>\n",
       "      <td>90</td>\n",
       "      <td>19.00</td>\n",
       "      <td>1,000</td>\n",
       "      <td>Free</td>\n",
       "      <td>0</td>\n",
       "      <td>Everyone</td>\n",
       "      <td>Education</td>\n",
       "    </tr>\n",
       "    <tr>\n",
       "      <th>3115</th>\n",
       "      <td>Oración CX</td>\n",
       "      <td>LIFESTYLE</td>\n",
       "      <td>5.00</td>\n",
       "      <td>103</td>\n",
       "      <td>3.80</td>\n",
       "      <td>5,000</td>\n",
       "      <td>Free</td>\n",
       "      <td>0</td>\n",
       "      <td>Everyone</td>\n",
       "      <td>Lifestyle</td>\n",
       "    </tr>\n",
       "  </tbody>\n",
       "</table>\n",
       "</div>"
      ],
      "text/plain": [
       "                                          App            Category  Rating  \\\n",
       "21                        KBA-EZ Health Guide             MEDICAL    5.00   \n",
       "1573                           FHR 5-Tier 2.0             MEDICAL    5.00   \n",
       "1096                                 BG Guide    TRAVEL_AND_LOCAL    5.00   \n",
       "1095                             Morse Player              FAMILY    5.00   \n",
       "1092                                    DG TV  NEWS_AND_MAGAZINES    5.00   \n",
       "1083                           A-Y Collection            SHOPPING    5.00   \n",
       "1076  Spring flowers theme couleurs d t space      ART_AND_DESIGN    5.00   \n",
       "1064         Fr. Mike Schmitz Audio Teachings              FAMILY    5.00   \n",
       "1060                Free coupons and vouchers             FINANCE    5.00   \n",
       "1049                               Helping BD           LIFESTYLE    5.00   \n",
       "1100                             Chenoweth AH             MEDICAL    5.00   \n",
       "2067            Accounting Quiz (AQ) Malaysia              FAMILY    5.00   \n",
       "1044                    BK Arogyam Task Track            BUSINESS    5.00   \n",
       "2069                               Master E.K              FAMILY    5.00   \n",
       "3115                               Oración CX           LIFESTYLE    5.00   \n",
       "\n",
       "      Reviews  Size_MBs Installs  Type  Price Content_Rating            Genres  \n",
       "21          4     25.00        1  Free      0       Everyone           Medical  \n",
       "1573        2      1.20      500  Paid  $2.99       Everyone           Medical  \n",
       "1096        3      2.40      100  Free      0       Everyone    Travel & Local  \n",
       "1095       12      2.40      100  Paid  $1.99       Everyone         Education  \n",
       "1092        3      5.70      100  Free      0       Everyone  News & Magazines  \n",
       "1083        2      2.90      100  Free      0           Teen          Shopping  \n",
       "1076        1      2.90      100  Free      0       Everyone      Art & Design  \n",
       "1064        4      3.60      100  Free      0       Everyone         Education  \n",
       "1060        4      5.90      100  Free      0       Everyone           Finance  \n",
       "1049       15      4.50      100  Free      0       Everyone         Lifestyle  \n",
       "1100        1     27.00      100  Free      0       Everyone           Medical  \n",
       "2067       25     19.00    1,000  Free      0       Everyone         Education  \n",
       "1044        8      3.70      100  Free      0       Everyone          Business  \n",
       "2069       90     19.00    1,000  Free      0       Everyone         Education  \n",
       "3115      103      3.80    5,000  Free      0       Everyone         Lifestyle  "
      ]
     },
     "execution_count": 134,
     "metadata": {},
     "output_type": "execute_result"
    }
   ],
   "source": [
    "sorrted_by_rating = df_app_clean.sort_values(\"Rating\" , ascending=False )\n",
    "sorrted_by_rating.head(15)"
   ]
  },
  {
   "cell_type": "code",
   "execution_count": 135,
   "metadata": {},
   "outputs": [
    {
     "data": {
      "text/html": [
       "<div>\n",
       "<style scoped>\n",
       "    .dataframe tbody tr th:only-of-type {\n",
       "        vertical-align: middle;\n",
       "    }\n",
       "\n",
       "    .dataframe tbody tr th {\n",
       "        vertical-align: top;\n",
       "    }\n",
       "\n",
       "    .dataframe thead th {\n",
       "        text-align: right;\n",
       "    }\n",
       "</style>\n",
       "<table border=\"1\" class=\"dataframe\">\n",
       "  <thead>\n",
       "    <tr style=\"text-align: right;\">\n",
       "      <th></th>\n",
       "      <th>App</th>\n",
       "      <th>Category</th>\n",
       "      <th>Rating</th>\n",
       "      <th>Reviews</th>\n",
       "      <th>Size_MBs</th>\n",
       "      <th>Installs</th>\n",
       "      <th>Type</th>\n",
       "      <th>Price</th>\n",
       "      <th>Content_Rating</th>\n",
       "      <th>Genres</th>\n",
       "    </tr>\n",
       "  </thead>\n",
       "  <tbody>\n",
       "    <tr>\n",
       "      <th>10295</th>\n",
       "      <td>SimCity BuildIt</td>\n",
       "      <td>FAMILY</td>\n",
       "      <td>4.50</td>\n",
       "      <td>4218587</td>\n",
       "      <td>100.00</td>\n",
       "      <td>50,000,000</td>\n",
       "      <td>Free</td>\n",
       "      <td>0</td>\n",
       "      <td>Everyone 10+</td>\n",
       "      <td>Simulation</td>\n",
       "    </tr>\n",
       "    <tr>\n",
       "      <th>9945</th>\n",
       "      <td>Ultimate Tennis</td>\n",
       "      <td>SPORTS</td>\n",
       "      <td>4.30</td>\n",
       "      <td>183004</td>\n",
       "      <td>100.00</td>\n",
       "      <td>10,000,000</td>\n",
       "      <td>Free</td>\n",
       "      <td>0</td>\n",
       "      <td>Everyone</td>\n",
       "      <td>Sports</td>\n",
       "    </tr>\n",
       "    <tr>\n",
       "      <th>10687</th>\n",
       "      <td>Hungry Shark Evolution</td>\n",
       "      <td>GAME</td>\n",
       "      <td>4.50</td>\n",
       "      <td>6074334</td>\n",
       "      <td>100.00</td>\n",
       "      <td>100,000,000</td>\n",
       "      <td>Free</td>\n",
       "      <td>0</td>\n",
       "      <td>Teen</td>\n",
       "      <td>Arcade</td>\n",
       "    </tr>\n",
       "    <tr>\n",
       "      <th>10688</th>\n",
       "      <td>Hungry Shark Evolution</td>\n",
       "      <td>GAME</td>\n",
       "      <td>4.50</td>\n",
       "      <td>6074627</td>\n",
       "      <td>100.00</td>\n",
       "      <td>100,000,000</td>\n",
       "      <td>Free</td>\n",
       "      <td>0</td>\n",
       "      <td>Teen</td>\n",
       "      <td>Arcade</td>\n",
       "    </tr>\n",
       "    <tr>\n",
       "      <th>3144</th>\n",
       "      <td>Vi Trainer</td>\n",
       "      <td>HEALTH_AND_FITNESS</td>\n",
       "      <td>3.60</td>\n",
       "      <td>124</td>\n",
       "      <td>100.00</td>\n",
       "      <td>5,000</td>\n",
       "      <td>Free</td>\n",
       "      <td>0</td>\n",
       "      <td>Everyone</td>\n",
       "      <td>Health &amp; Fitness</td>\n",
       "    </tr>\n",
       "  </tbody>\n",
       "</table>\n",
       "</div>"
      ],
      "text/plain": [
       "                          App            Category  Rating  Reviews  Size_MBs  \\\n",
       "10295         SimCity BuildIt              FAMILY    4.50  4218587    100.00   \n",
       "9945          Ultimate Tennis              SPORTS    4.30   183004    100.00   \n",
       "10687  Hungry Shark Evolution                GAME    4.50  6074334    100.00   \n",
       "10688  Hungry Shark Evolution                GAME    4.50  6074627    100.00   \n",
       "3144               Vi Trainer  HEALTH_AND_FITNESS    3.60      124    100.00   \n",
       "\n",
       "          Installs  Type Price Content_Rating            Genres  \n",
       "10295   50,000,000  Free     0   Everyone 10+        Simulation  \n",
       "9945    10,000,000  Free     0       Everyone            Sports  \n",
       "10687  100,000,000  Free     0           Teen            Arcade  \n",
       "10688  100,000,000  Free     0           Teen            Arcade  \n",
       "3144         5,000  Free     0       Everyone  Health & Fitness  "
      ]
     },
     "execution_count": 135,
     "metadata": {},
     "output_type": "execute_result"
    }
   ],
   "source": [
    "sorrted_by_size  = df_app_clean.sort_values(\"Size_MBs\" , ascending=False)\n",
    "sorrted_by_size.head()"
   ]
  },
  {
   "cell_type": "code",
   "execution_count": 149,
   "metadata": {},
   "outputs": [
    {
     "name": "stdout",
     "output_type": "stream",
     "text": [
      "                      App       Category  Rating   Reviews  Size_MBs  \\\n",
      "10805            Facebook         SOCIAL    4.10  78158306      5.30   \n",
      "10811            Facebook         SOCIAL    4.10  78128208      5.30   \n",
      "10785  WhatsApp Messenger  COMMUNICATION    4.40  69119316      3.50   \n",
      "10797  WhatsApp Messenger  COMMUNICATION    4.40  69109672      3.50   \n",
      "10808           Instagram         SOCIAL    4.50  66577446      5.30   \n",
      "\n",
      "            Installs  Type Price Content_Rating         Genres  \n",
      "10805  1,000,000,000  Free     0           Teen         Social  \n",
      "10811  1,000,000,000  Free     0           Teen         Social  \n",
      "10785  1,000,000,000  Free     0       Everyone  Communication  \n",
      "10797  1,000,000,000  Free     0       Everyone  Communication  \n",
      "10808  1,000,000,000  Free     0           Teen         Social  \n",
      "                                  App       Category  Rating   Reviews  \\\n",
      "10805                        Facebook         SOCIAL    4.10  78158306   \n",
      "10811                        Facebook         SOCIAL    4.10  78128208   \n",
      "10785              WhatsApp Messenger  COMMUNICATION    4.40  69119316   \n",
      "10797              WhatsApp Messenger  COMMUNICATION    4.40  69109672   \n",
      "10808                       Instagram         SOCIAL    4.50  66577446   \n",
      "...                               ...            ...     ...       ...   \n",
      "549                BI Barcode Scanner   PRODUCTIVITY     nan         0   \n",
      "548    ReDNAKET DB Normalization Tool          TOOLS     nan         0   \n",
      "545                   BS TRACK CLIENT          TOOLS     nan         0   \n",
      "542           4-T's Bar-BQ & Catering       SHOPPING     nan         0   \n",
      "0             Ak Parti Yardım Toplama         SOCIAL     nan         0   \n",
      "\n",
      "       Size_MBs       Installs  Type   Price Content_Rating         Genres  \n",
      "10805      5.30  1,000,000,000  Free       0           Teen         Social  \n",
      "10811      5.30  1,000,000,000  Free       0           Teen         Social  \n",
      "10785      3.50  1,000,000,000  Free       0       Everyone  Communication  \n",
      "10797      3.50  1,000,000,000  Free       0       Everyone  Communication  \n",
      "10808      5.30  1,000,000,000  Free       0           Teen         Social  \n",
      "...         ...            ...   ...     ...            ...            ...  \n",
      "549        0.46             10  Paid   $0.99       Everyone   Productivity  \n",
      "548        0.92             10  Paid   $0.99       Everyone          Tools  \n",
      "545        0.19             10  Free       0       Everyone          Tools  \n",
      "542        0.24             10  Free       0       Everyone       Shopping  \n",
      "0          8.70              0  Paid  $13.99           Teen         Social  \n",
      "\n",
      "[10356 rows x 10 columns]\n"
     ]
    },
    {
     "data": {
      "text/html": [
       "<div>\n",
       "<style scoped>\n",
       "    .dataframe tbody tr th:only-of-type {\n",
       "        vertical-align: middle;\n",
       "    }\n",
       "\n",
       "    .dataframe tbody tr th {\n",
       "        vertical-align: top;\n",
       "    }\n",
       "\n",
       "    .dataframe thead th {\n",
       "        text-align: right;\n",
       "    }\n",
       "</style>\n",
       "<table border=\"1\" class=\"dataframe\">\n",
       "  <thead>\n",
       "    <tr style=\"text-align: right;\">\n",
       "      <th></th>\n",
       "      <th>App</th>\n",
       "      <th>Category</th>\n",
       "      <th>Rating</th>\n",
       "      <th>Reviews</th>\n",
       "      <th>Size_MBs</th>\n",
       "      <th>Installs</th>\n",
       "      <th>Type</th>\n",
       "      <th>Price</th>\n",
       "      <th>Content_Rating</th>\n",
       "      <th>Genres</th>\n",
       "    </tr>\n",
       "  </thead>\n",
       "  <tbody>\n",
       "  </tbody>\n",
       "</table>\n",
       "</div>"
      ],
      "text/plain": [
       "Empty DataFrame\n",
       "Columns: [App, Category, Rating, Reviews, Size_MBs, Installs, Type, Price, Content_Rating, Genres]\n",
       "Index: []"
      ]
     },
     "execution_count": 149,
     "metadata": {},
     "output_type": "execute_result"
    }
   ],
   "source": [
    "# Very good exmaple of handling col to filter out records based on codition\n",
    "\n",
    "sorrted_by_reviews  = df_app_clean.sort_values(\"Reviews\" , ascending=False)\n",
    "print(sorrted_by_reviews.head())\n",
    "\n",
    "# check any rec with price > 0\n",
    "sorrted_by_reviews.loc[df_app_clean[\"Price\"].str.replace(\"$\" , \"\").astype(\"float\") > 0.0 ]\n",
    "print(sorrted_by_reviews)\n",
    "\n",
    "# check any top 50 reviewed rec with price >0 , i.e no \n",
    "\n",
    "sorrted_by_reviews.head(50).loc[ df_app_clean[\"Price\"].str.replace(\"$\" , \"\").astype(\"float\") > 0.0]\n"
   ]
  },
  {
   "cell_type": "code",
   "execution_count": null,
   "metadata": {},
   "outputs": [],
   "source": []
  },
  {
   "cell_type": "code",
   "execution_count": null,
   "metadata": {},
   "outputs": [],
   "source": []
  },
  {
   "cell_type": "code",
   "execution_count": null,
   "metadata": {},
   "outputs": [],
   "source": []
  },
  {
   "cell_type": "markdown",
   "metadata": {
    "id": "28o1Tro4diUi"
   },
   "source": [
    "# Find 5 Largest Apps in terms of Size (MBs)\n",
    "\n",
    "**Challenge**: What's the size in megabytes (MB) of the largest Android apps in the Google Play Store. Based on the data, do you think there could be limit in place or can developers make apps as large as they please? "
   ]
  },
  {
   "cell_type": "code",
   "execution_count": null,
   "metadata": {
    "id": "n5r0pJCOn9Vu"
   },
   "outputs": [],
   "source": []
  },
  {
   "cell_type": "markdown",
   "metadata": {
    "id": "C3gTckh7diUk"
   },
   "source": [
    "# Find the 5 App with Most Reviews\n",
    "\n",
    "**Challenge**: Which apps have the highest number of reviews? Are there any paid apps among the top 50?"
   ]
  },
  {
   "cell_type": "code",
   "execution_count": null,
   "metadata": {
    "id": "TLt98G0Sn_De"
   },
   "outputs": [],
   "source": []
  },
  {
   "cell_type": "markdown",
   "metadata": {
    "id": "BFoRqpezjebe"
   },
   "source": [
    "# Plotly Pie and Donut Charts - Visualise Categorical Data: Content Ratings"
   ]
  },
  {
   "cell_type": "code",
   "execution_count": null,
   "metadata": {
    "id": "c0IIxNGnoFKM"
   },
   "outputs": [],
   "source": []
  },
  {
   "cell_type": "code",
   "execution_count": null,
   "metadata": {
    "id": "TSiV6ZkjoFVg"
   },
   "outputs": [],
   "source": []
  },
  {
   "cell_type": "code",
   "execution_count": null,
   "metadata": {
    "id": "7kil2mdfoFOr"
   },
   "outputs": [],
   "source": []
  },
  {
   "cell_type": "code",
   "execution_count": null,
   "metadata": {
    "id": "6ZaHYNy2oFEE"
   },
   "outputs": [],
   "source": []
  },
  {
   "cell_type": "markdown",
   "metadata": {
    "id": "RoPpW37xdiUm"
   },
   "source": [
    "# Numeric Type Conversion: Examine the Number of Installs\n",
    "\n",
    "**Challenge**: How many apps had over 1 billion (that's right - BILLION) installations? How many apps just had a single install? \n",
    "\n",
    "Check the datatype of the Installs column.\n",
    "\n",
    "Count the number of apps at each level of installations. \n",
    "\n",
    "Convert the number of installations (the Installs column) to a numeric data type. Hint: this is a 2-step process. You'll have make sure you remove non-numeric characters first. "
   ]
  },
  {
   "cell_type": "code",
   "execution_count": 172,
   "metadata": {
    "scrolled": true
   },
   "outputs": [
    {
     "data": {
      "text/plain": [
       "<bound method DataFrame.info of                                                 App         Category  Rating  \\\n",
       "0                           Ak Parti Yardım Toplama           SOCIAL     nan   \n",
       "1                        Ain Arabic Kids Alif Ba ta           FAMILY     nan   \n",
       "2      Popsicle Launcher for Android P 9.0 launcher  PERSONALIZATION     nan   \n",
       "3                         Command & Conquer: Rivals           FAMILY     nan   \n",
       "4                                        CX Network         BUSINESS     nan   \n",
       "...                                             ...              ...     ...   \n",
       "10836                                Subway Surfers             GAME    4.50   \n",
       "10837                                Subway Surfers             GAME    4.50   \n",
       "10838                                Subway Surfers             GAME    4.50   \n",
       "10839                                Subway Surfers             GAME    4.50   \n",
       "10840                                Subway Surfers             GAME    4.50   \n",
       "\n",
       "        Reviews  Size_MBs       Installs  Type   Price Content_Rating  \\\n",
       "0             0      8.70              0  Paid  $13.99           Teen   \n",
       "1             0     33.00              0  Paid   $2.99       Everyone   \n",
       "2             0      5.50              0  Paid   $1.49       Everyone   \n",
       "3             0     19.00              0   NaN       0   Everyone 10+   \n",
       "4             0     10.00              0  Free       0       Everyone   \n",
       "...         ...       ...            ...   ...     ...            ...   \n",
       "10836  27723193     76.00  1,000,000,000  Free       0   Everyone 10+   \n",
       "10837  27724094     76.00  1,000,000,000  Free       0   Everyone 10+   \n",
       "10838  27725352     76.00  1,000,000,000  Free       0   Everyone 10+   \n",
       "10839  27725352     76.00  1,000,000,000  Free       0   Everyone 10+   \n",
       "10840  27711703     76.00  1,000,000,000  Free       0   Everyone 10+   \n",
       "\n",
       "                Genres  \n",
       "0               Social  \n",
       "1            Education  \n",
       "2      Personalization  \n",
       "3             Strategy  \n",
       "4             Business  \n",
       "...                ...  \n",
       "10836           Arcade  \n",
       "10837           Arcade  \n",
       "10838           Arcade  \n",
       "10839           Arcade  \n",
       "10840           Arcade  \n",
       "\n",
       "[10841 rows x 10 columns]>"
      ]
     },
     "execution_count": 172,
     "metadata": {},
     "output_type": "execute_result"
    }
   ],
   "source": [
    "df_app_clean[\"Installs\"].describe()\n",
    "#df_app_clean.info"
   ]
  },
  {
   "cell_type": "code",
   "execution_count": 205,
   "metadata": {},
   "outputs": [
    {
     "data": {
      "text/html": [
       "<div>\n",
       "<style scoped>\n",
       "    .dataframe tbody tr th:only-of-type {\n",
       "        vertical-align: middle;\n",
       "    }\n",
       "\n",
       "    .dataframe tbody tr th {\n",
       "        vertical-align: top;\n",
       "    }\n",
       "\n",
       "    .dataframe thead th {\n",
       "        text-align: right;\n",
       "    }\n",
       "</style>\n",
       "<table border=\"1\" class=\"dataframe\">\n",
       "  <thead>\n",
       "    <tr style=\"text-align: right;\">\n",
       "      <th></th>\n",
       "      <th>Installs</th>\n",
       "      <th>a</th>\n",
       "    </tr>\n",
       "  </thead>\n",
       "  <tbody>\n",
       "    <tr>\n",
       "      <th>0</th>\n",
       "      <td>0</td>\n",
       "      <td>0</td>\n",
       "    </tr>\n",
       "    <tr>\n",
       "      <th>1</th>\n",
       "      <td>0</td>\n",
       "      <td>0</td>\n",
       "    </tr>\n",
       "    <tr>\n",
       "      <th>2</th>\n",
       "      <td>0</td>\n",
       "      <td>0</td>\n",
       "    </tr>\n",
       "    <tr>\n",
       "      <th>3</th>\n",
       "      <td>0</td>\n",
       "      <td>0</td>\n",
       "    </tr>\n",
       "    <tr>\n",
       "      <th>4</th>\n",
       "      <td>0</td>\n",
       "      <td>0</td>\n",
       "    </tr>\n",
       "    <tr>\n",
       "      <th>...</th>\n",
       "      <td>...</td>\n",
       "      <td>...</td>\n",
       "    </tr>\n",
       "    <tr>\n",
       "      <th>10836</th>\n",
       "      <td>1000000000</td>\n",
       "      <td>1000000000</td>\n",
       "    </tr>\n",
       "    <tr>\n",
       "      <th>10837</th>\n",
       "      <td>1000000000</td>\n",
       "      <td>1000000000</td>\n",
       "    </tr>\n",
       "    <tr>\n",
       "      <th>10838</th>\n",
       "      <td>1000000000</td>\n",
       "      <td>1000000000</td>\n",
       "    </tr>\n",
       "    <tr>\n",
       "      <th>10839</th>\n",
       "      <td>1000000000</td>\n",
       "      <td>1000000000</td>\n",
       "    </tr>\n",
       "    <tr>\n",
       "      <th>10840</th>\n",
       "      <td>1000000000</td>\n",
       "      <td>1000000000</td>\n",
       "    </tr>\n",
       "  </tbody>\n",
       "</table>\n",
       "<p>10841 rows × 2 columns</p>\n",
       "</div>"
      ],
      "text/plain": [
       "         Installs           a\n",
       "0               0           0\n",
       "1               0           0\n",
       "2               0           0\n",
       "3               0           0\n",
       "4               0           0\n",
       "...           ...         ...\n",
       "10836  1000000000  1000000000\n",
       "10837  1000000000  1000000000\n",
       "10838  1000000000  1000000000\n",
       "10839  1000000000  1000000000\n",
       "10840  1000000000  1000000000\n",
       "\n",
       "[10841 rows x 2 columns]"
      ]
     },
     "execution_count": 205,
     "metadata": {},
     "output_type": "execute_result"
    }
   ],
   "source": [
    "df_app_clean[\"Installs\"] =  df_app_clean[\"Installs\"].astype(\"str\").replace(\",\" , \"\").astype(\"int\") \n",
    "df_app_clean[\"Installs\"] = pd.to_numeric(df_app_clean[\"Installs\"])\n",
    "#df_app_clean.groupby(by=[\"Installs\"]).count()\n",
    "df_app_clean[['App', 'Installs']].groupby('Installs').count()\n",
    "\n",
    "\n",
    " # we can add new col like this if required .\n",
    "\n",
    "# df_app_clean[\"a\"] = df_app_clean[\"Installs\"].astype(\"str\").replace(\",\" , \"\").astype(\"int\")\n",
    "# df_app_clean[ [\"Installs\" , \"a\"] ]"
   ]
  },
  {
   "cell_type": "code",
   "execution_count": 194,
   "metadata": {},
   "outputs": [
    {
     "data": {
      "text/html": [
       "<div>\n",
       "<style scoped>\n",
       "    .dataframe tbody tr th:only-of-type {\n",
       "        vertical-align: middle;\n",
       "    }\n",
       "\n",
       "    .dataframe tbody tr th {\n",
       "        vertical-align: top;\n",
       "    }\n",
       "\n",
       "    .dataframe thead th {\n",
       "        text-align: right;\n",
       "    }\n",
       "</style>\n",
       "<table border=\"1\" class=\"dataframe\">\n",
       "  <thead>\n",
       "    <tr style=\"text-align: right;\">\n",
       "      <th></th>\n",
       "      <th>App</th>\n",
       "    </tr>\n",
       "    <tr>\n",
       "      <th>Category</th>\n",
       "      <th></th>\n",
       "    </tr>\n",
       "  </thead>\n",
       "  <tbody>\n",
       "    <tr>\n",
       "      <th>FAMILY</th>\n",
       "      <td>1972</td>\n",
       "    </tr>\n",
       "    <tr>\n",
       "      <th>GAME</th>\n",
       "      <td>1144</td>\n",
       "    </tr>\n",
       "    <tr>\n",
       "      <th>TOOLS</th>\n",
       "      <td>843</td>\n",
       "    </tr>\n",
       "    <tr>\n",
       "      <th>MEDICAL</th>\n",
       "      <td>463</td>\n",
       "    </tr>\n",
       "    <tr>\n",
       "      <th>BUSINESS</th>\n",
       "      <td>460</td>\n",
       "    </tr>\n",
       "    <tr>\n",
       "      <th>PRODUCTIVITY</th>\n",
       "      <td>424</td>\n",
       "    </tr>\n",
       "    <tr>\n",
       "      <th>PERSONALIZATION</th>\n",
       "      <td>392</td>\n",
       "    </tr>\n",
       "    <tr>\n",
       "      <th>COMMUNICATION</th>\n",
       "      <td>387</td>\n",
       "    </tr>\n",
       "    <tr>\n",
       "      <th>SPORTS</th>\n",
       "      <td>384</td>\n",
       "    </tr>\n",
       "    <tr>\n",
       "      <th>LIFESTYLE</th>\n",
       "      <td>383</td>\n",
       "    </tr>\n",
       "    <tr>\n",
       "      <th>FINANCE</th>\n",
       "      <td>366</td>\n",
       "    </tr>\n",
       "    <tr>\n",
       "      <th>HEALTH_AND_FITNESS</th>\n",
       "      <td>341</td>\n",
       "    </tr>\n",
       "    <tr>\n",
       "      <th>PHOTOGRAPHY</th>\n",
       "      <td>335</td>\n",
       "    </tr>\n",
       "    <tr>\n",
       "      <th>SOCIAL</th>\n",
       "      <td>295</td>\n",
       "    </tr>\n",
       "    <tr>\n",
       "      <th>NEWS_AND_MAGAZINES</th>\n",
       "      <td>283</td>\n",
       "    </tr>\n",
       "    <tr>\n",
       "      <th>SHOPPING</th>\n",
       "      <td>260</td>\n",
       "    </tr>\n",
       "    <tr>\n",
       "      <th>TRAVEL_AND_LOCAL</th>\n",
       "      <td>258</td>\n",
       "    </tr>\n",
       "    <tr>\n",
       "      <th>DATING</th>\n",
       "      <td>234</td>\n",
       "    </tr>\n",
       "    <tr>\n",
       "      <th>BOOKS_AND_REFERENCE</th>\n",
       "      <td>231</td>\n",
       "    </tr>\n",
       "    <tr>\n",
       "      <th>VIDEO_PLAYERS</th>\n",
       "      <td>175</td>\n",
       "    </tr>\n",
       "    <tr>\n",
       "      <th>EDUCATION</th>\n",
       "      <td>156</td>\n",
       "    </tr>\n",
       "    <tr>\n",
       "      <th>ENTERTAINMENT</th>\n",
       "      <td>149</td>\n",
       "    </tr>\n",
       "    <tr>\n",
       "      <th>MAPS_AND_NAVIGATION</th>\n",
       "      <td>137</td>\n",
       "    </tr>\n",
       "    <tr>\n",
       "      <th>FOOD_AND_DRINK</th>\n",
       "      <td>127</td>\n",
       "    </tr>\n",
       "    <tr>\n",
       "      <th>HOUSE_AND_HOME</th>\n",
       "      <td>88</td>\n",
       "    </tr>\n",
       "    <tr>\n",
       "      <th>LIBRARIES_AND_DEMO</th>\n",
       "      <td>85</td>\n",
       "    </tr>\n",
       "    <tr>\n",
       "      <th>AUTO_AND_VEHICLES</th>\n",
       "      <td>85</td>\n",
       "    </tr>\n",
       "    <tr>\n",
       "      <th>WEATHER</th>\n",
       "      <td>82</td>\n",
       "    </tr>\n",
       "    <tr>\n",
       "      <th>ART_AND_DESIGN</th>\n",
       "      <td>65</td>\n",
       "    </tr>\n",
       "    <tr>\n",
       "      <th>EVENTS</th>\n",
       "      <td>64</td>\n",
       "    </tr>\n",
       "    <tr>\n",
       "      <th>PARENTING</th>\n",
       "      <td>60</td>\n",
       "    </tr>\n",
       "    <tr>\n",
       "      <th>COMICS</th>\n",
       "      <td>60</td>\n",
       "    </tr>\n",
       "    <tr>\n",
       "      <th>BEAUTY</th>\n",
       "      <td>53</td>\n",
       "    </tr>\n",
       "  </tbody>\n",
       "</table>\n",
       "</div>"
      ],
      "text/plain": [
       "                      App\n",
       "Category                 \n",
       "FAMILY               1972\n",
       "GAME                 1144\n",
       "TOOLS                 843\n",
       "MEDICAL               463\n",
       "BUSINESS              460\n",
       "PRODUCTIVITY          424\n",
       "PERSONALIZATION       392\n",
       "COMMUNICATION         387\n",
       "SPORTS                384\n",
       "LIFESTYLE             383\n",
       "FINANCE               366\n",
       "HEALTH_AND_FITNESS    341\n",
       "PHOTOGRAPHY           335\n",
       "SOCIAL                295\n",
       "NEWS_AND_MAGAZINES    283\n",
       "SHOPPING              260\n",
       "TRAVEL_AND_LOCAL      258\n",
       "DATING                234\n",
       "BOOKS_AND_REFERENCE   231\n",
       "VIDEO_PLAYERS         175\n",
       "EDUCATION             156\n",
       "ENTERTAINMENT         149\n",
       "MAPS_AND_NAVIGATION   137\n",
       "FOOD_AND_DRINK        127\n",
       "HOUSE_AND_HOME         88\n",
       "LIBRARIES_AND_DEMO     85\n",
       "AUTO_AND_VEHICLES      85\n",
       "WEATHER                82\n",
       "ART_AND_DESIGN         65\n",
       "EVENTS                 64\n",
       "PARENTING              60\n",
       "COMICS                 60\n",
       "BEAUTY                 53"
      ]
     },
     "execution_count": 194,
     "metadata": {},
     "output_type": "execute_result"
    }
   ],
   "source": [
    "category_installs = df_app_clean.groupby('Category').agg({'App': pd.Series.count}).sort_values(by=\"App\" , ascending=False)\n",
    "category_installs"
   ]
  },
  {
   "cell_type": "code",
   "execution_count": 199,
   "metadata": {},
   "outputs": [],
   "source": [
    "# import plotly.express as px\n",
    "# bar = px.bar(x = top10_category.index, # index = category name\n",
    "#              y = top10_category.values)\n",
    " \n",
    "# bar.show()\n",
    "\n",
    "# h_bar = px.bar(x = category_installs.Installs,\n",
    "#                y = category_installs.index,\n",
    "#                orientation='h')\n",
    " \n",
    "# h_bar.show()\n",
    "# h_bar = px.bar(x = category_installs.Installs,\n",
    "#                y = category_installs.index,\n",
    "#                orientation='h',\n",
    "#                title='Category Popularity')\n"
   ]
  },
  {
   "cell_type": "code",
   "execution_count": 169,
   "metadata": {
    "id": "uTNyWsPboJLq"
   },
   "outputs": [
    {
     "data": {
      "text/html": [
       "<div>\n",
       "<style scoped>\n",
       "    .dataframe tbody tr th:only-of-type {\n",
       "        vertical-align: middle;\n",
       "    }\n",
       "\n",
       "    .dataframe tbody tr th {\n",
       "        vertical-align: top;\n",
       "    }\n",
       "\n",
       "    .dataframe thead th {\n",
       "        text-align: right;\n",
       "    }\n",
       "</style>\n",
       "<table border=\"1\" class=\"dataframe\">\n",
       "  <thead>\n",
       "    <tr style=\"text-align: right;\">\n",
       "      <th></th>\n",
       "      <th>App</th>\n",
       "      <th>Category</th>\n",
       "      <th>Rating</th>\n",
       "      <th>Reviews</th>\n",
       "      <th>Size_MBs</th>\n",
       "      <th>Type</th>\n",
       "      <th>Price</th>\n",
       "      <th>Content_Rating</th>\n",
       "      <th>Genres</th>\n",
       "    </tr>\n",
       "    <tr>\n",
       "      <th>Installs</th>\n",
       "      <th></th>\n",
       "      <th></th>\n",
       "      <th></th>\n",
       "      <th></th>\n",
       "      <th></th>\n",
       "      <th></th>\n",
       "      <th></th>\n",
       "      <th></th>\n",
       "      <th></th>\n",
       "    </tr>\n",
       "  </thead>\n",
       "  <tbody>\n",
       "    <tr>\n",
       "      <th>1,000,000</th>\n",
       "      <td>1579</td>\n",
       "      <td>1579</td>\n",
       "      <td>1577</td>\n",
       "      <td>1579</td>\n",
       "      <td>1579</td>\n",
       "      <td>1579</td>\n",
       "      <td>1579</td>\n",
       "      <td>1579</td>\n",
       "      <td>1579</td>\n",
       "    </tr>\n",
       "    <tr>\n",
       "      <th>10,000,000</th>\n",
       "      <td>1252</td>\n",
       "      <td>1252</td>\n",
       "      <td>1252</td>\n",
       "      <td>1252</td>\n",
       "      <td>1252</td>\n",
       "      <td>1252</td>\n",
       "      <td>1252</td>\n",
       "      <td>1252</td>\n",
       "      <td>1252</td>\n",
       "    </tr>\n",
       "    <tr>\n",
       "      <th>100,000</th>\n",
       "      <td>1169</td>\n",
       "      <td>1169</td>\n",
       "      <td>1150</td>\n",
       "      <td>1169</td>\n",
       "      <td>1169</td>\n",
       "      <td>1169</td>\n",
       "      <td>1169</td>\n",
       "      <td>1169</td>\n",
       "      <td>1169</td>\n",
       "    </tr>\n",
       "    <tr>\n",
       "      <th>10,000</th>\n",
       "      <td>1054</td>\n",
       "      <td>1054</td>\n",
       "      <td>1010</td>\n",
       "      <td>1054</td>\n",
       "      <td>1054</td>\n",
       "      <td>1054</td>\n",
       "      <td>1054</td>\n",
       "      <td>1054</td>\n",
       "      <td>1054</td>\n",
       "    </tr>\n",
       "    <tr>\n",
       "      <th>1,000</th>\n",
       "      <td>908</td>\n",
       "      <td>908</td>\n",
       "      <td>714</td>\n",
       "      <td>908</td>\n",
       "      <td>908</td>\n",
       "      <td>908</td>\n",
       "      <td>908</td>\n",
       "      <td>908</td>\n",
       "      <td>908</td>\n",
       "    </tr>\n",
       "    <tr>\n",
       "      <th>5,000,000</th>\n",
       "      <td>752</td>\n",
       "      <td>752</td>\n",
       "      <td>752</td>\n",
       "      <td>752</td>\n",
       "      <td>752</td>\n",
       "      <td>752</td>\n",
       "      <td>752</td>\n",
       "      <td>752</td>\n",
       "      <td>752</td>\n",
       "    </tr>\n",
       "    <tr>\n",
       "      <th>100</th>\n",
       "      <td>719</td>\n",
       "      <td>719</td>\n",
       "      <td>309</td>\n",
       "      <td>719</td>\n",
       "      <td>719</td>\n",
       "      <td>719</td>\n",
       "      <td>719</td>\n",
       "      <td>719</td>\n",
       "      <td>719</td>\n",
       "    </tr>\n",
       "    <tr>\n",
       "      <th>500,000</th>\n",
       "      <td>539</td>\n",
       "      <td>539</td>\n",
       "      <td>538</td>\n",
       "      <td>539</td>\n",
       "      <td>539</td>\n",
       "      <td>539</td>\n",
       "      <td>539</td>\n",
       "      <td>539</td>\n",
       "      <td>539</td>\n",
       "    </tr>\n",
       "    <tr>\n",
       "      <th>50,000</th>\n",
       "      <td>479</td>\n",
       "      <td>479</td>\n",
       "      <td>467</td>\n",
       "      <td>479</td>\n",
       "      <td>479</td>\n",
       "      <td>479</td>\n",
       "      <td>479</td>\n",
       "      <td>479</td>\n",
       "      <td>479</td>\n",
       "    </tr>\n",
       "    <tr>\n",
       "      <th>5,000</th>\n",
       "      <td>477</td>\n",
       "      <td>477</td>\n",
       "      <td>432</td>\n",
       "      <td>477</td>\n",
       "      <td>477</td>\n",
       "      <td>477</td>\n",
       "      <td>477</td>\n",
       "      <td>477</td>\n",
       "      <td>477</td>\n",
       "    </tr>\n",
       "    <tr>\n",
       "      <th>100,000,000</th>\n",
       "      <td>409</td>\n",
       "      <td>409</td>\n",
       "      <td>409</td>\n",
       "      <td>409</td>\n",
       "      <td>409</td>\n",
       "      <td>409</td>\n",
       "      <td>409</td>\n",
       "      <td>409</td>\n",
       "      <td>409</td>\n",
       "    </tr>\n",
       "    <tr>\n",
       "      <th>10</th>\n",
       "      <td>386</td>\n",
       "      <td>386</td>\n",
       "      <td>69</td>\n",
       "      <td>386</td>\n",
       "      <td>386</td>\n",
       "      <td>386</td>\n",
       "      <td>386</td>\n",
       "      <td>386</td>\n",
       "      <td>386</td>\n",
       "    </tr>\n",
       "    <tr>\n",
       "      <th>500</th>\n",
       "      <td>330</td>\n",
       "      <td>330</td>\n",
       "      <td>201</td>\n",
       "      <td>330</td>\n",
       "      <td>330</td>\n",
       "      <td>330</td>\n",
       "      <td>330</td>\n",
       "      <td>330</td>\n",
       "      <td>330</td>\n",
       "    </tr>\n",
       "    <tr>\n",
       "      <th>50,000,000</th>\n",
       "      <td>289</td>\n",
       "      <td>289</td>\n",
       "      <td>289</td>\n",
       "      <td>289</td>\n",
       "      <td>289</td>\n",
       "      <td>289</td>\n",
       "      <td>289</td>\n",
       "      <td>289</td>\n",
       "      <td>289</td>\n",
       "    </tr>\n",
       "    <tr>\n",
       "      <th>50</th>\n",
       "      <td>205</td>\n",
       "      <td>205</td>\n",
       "      <td>56</td>\n",
       "      <td>205</td>\n",
       "      <td>205</td>\n",
       "      <td>205</td>\n",
       "      <td>205</td>\n",
       "      <td>205</td>\n",
       "      <td>205</td>\n",
       "    </tr>\n",
       "    <tr>\n",
       "      <th>5</th>\n",
       "      <td>82</td>\n",
       "      <td>82</td>\n",
       "      <td>9</td>\n",
       "      <td>82</td>\n",
       "      <td>82</td>\n",
       "      <td>82</td>\n",
       "      <td>82</td>\n",
       "      <td>82</td>\n",
       "      <td>82</td>\n",
       "    </tr>\n",
       "    <tr>\n",
       "      <th>500,000,000</th>\n",
       "      <td>72</td>\n",
       "      <td>72</td>\n",
       "      <td>72</td>\n",
       "      <td>72</td>\n",
       "      <td>72</td>\n",
       "      <td>72</td>\n",
       "      <td>72</td>\n",
       "      <td>72</td>\n",
       "      <td>72</td>\n",
       "    </tr>\n",
       "    <tr>\n",
       "      <th>1</th>\n",
       "      <td>67</td>\n",
       "      <td>67</td>\n",
       "      <td>3</td>\n",
       "      <td>67</td>\n",
       "      <td>67</td>\n",
       "      <td>67</td>\n",
       "      <td>67</td>\n",
       "      <td>67</td>\n",
       "      <td>67</td>\n",
       "    </tr>\n",
       "    <tr>\n",
       "      <th>1,000,000,000</th>\n",
       "      <td>58</td>\n",
       "      <td>58</td>\n",
       "      <td>58</td>\n",
       "      <td>58</td>\n",
       "      <td>58</td>\n",
       "      <td>58</td>\n",
       "      <td>58</td>\n",
       "      <td>58</td>\n",
       "      <td>58</td>\n",
       "    </tr>\n",
       "    <tr>\n",
       "      <th>0</th>\n",
       "      <td>15</td>\n",
       "      <td>15</td>\n",
       "      <td>0</td>\n",
       "      <td>15</td>\n",
       "      <td>15</td>\n",
       "      <td>14</td>\n",
       "      <td>15</td>\n",
       "      <td>15</td>\n",
       "      <td>15</td>\n",
       "    </tr>\n",
       "  </tbody>\n",
       "</table>\n",
       "</div>"
      ],
      "text/plain": [
       "                App  Category  Rating  Reviews  Size_MBs  Type  Price  \\\n",
       "Installs                                                                \n",
       "1,000,000      1579      1579    1577     1579      1579  1579   1579   \n",
       "10,000,000     1252      1252    1252     1252      1252  1252   1252   \n",
       "100,000        1169      1169    1150     1169      1169  1169   1169   \n",
       "10,000         1054      1054    1010     1054      1054  1054   1054   \n",
       "1,000           908       908     714      908       908   908    908   \n",
       "5,000,000       752       752     752      752       752   752    752   \n",
       "100             719       719     309      719       719   719    719   \n",
       "500,000         539       539     538      539       539   539    539   \n",
       "50,000          479       479     467      479       479   479    479   \n",
       "5,000           477       477     432      477       477   477    477   \n",
       "100,000,000     409       409     409      409       409   409    409   \n",
       "10              386       386      69      386       386   386    386   \n",
       "500             330       330     201      330       330   330    330   \n",
       "50,000,000      289       289     289      289       289   289    289   \n",
       "50              205       205      56      205       205   205    205   \n",
       "5                82        82       9       82        82    82     82   \n",
       "500,000,000      72        72      72       72        72    72     72   \n",
       "1                67        67       3       67        67    67     67   \n",
       "1,000,000,000    58        58      58       58        58    58     58   \n",
       "0                15        15       0       15        15    14     15   \n",
       "\n",
       "               Content_Rating  Genres  \n",
       "Installs                               \n",
       "1,000,000                1579    1579  \n",
       "10,000,000               1252    1252  \n",
       "100,000                  1169    1169  \n",
       "10,000                   1054    1054  \n",
       "1,000                     908     908  \n",
       "5,000,000                 752     752  \n",
       "100                       719     719  \n",
       "500,000                   539     539  \n",
       "50,000                    479     479  \n",
       "5,000                     477     477  \n",
       "100,000,000               409     409  \n",
       "10                        386     386  \n",
       "500                       330     330  \n",
       "50,000,000                289     289  \n",
       "50                        205     205  \n",
       "5                          82      82  \n",
       "500,000,000                72      72  \n",
       "1                          67      67  \n",
       "1,000,000,000              58      58  \n",
       "0                          15      15  "
      ]
     },
     "execution_count": 169,
     "metadata": {},
     "output_type": "execute_result"
    }
   ],
   "source": [
    "df_app_clean.groupby(by=\"Installs\").count().sort_values(by=\"App\" , ascending=False)"
   ]
  },
  {
   "cell_type": "markdown",
   "metadata": {
    "id": "yzR49fYcoJRI"
   },
   "source": [
    "## How many different types of genres are there? Can an app belong to more than one genre? Check what happens when you use .value_counts() on a column with nested values? See if you can work around this problem by using the .split() function and the DataFrame's .stack() method."
   ]
  },
  {
   "cell_type": "code",
   "execution_count": 203,
   "metadata": {
    "id": "cFjptR-JoJOE"
   },
   "outputs": [
    {
     "name": "stdout",
     "output_type": "stream",
     "text": [
      "0      0             Social\n",
      "1      0          Education\n",
      "2      0    Personalization\n",
      "3      0           Strategy\n",
      "4      0           Business\n",
      "                 ...       \n",
      "10836  0             Arcade\n",
      "10837  0             Arcade\n",
      "10838  0             Arcade\n",
      "10839  0             Arcade\n",
      "10840  0             Arcade\n",
      "Length: 11339, dtype: object\n",
      "We now have a single column with shape: (11339,)\n",
      "Number of genres: 53\n"
     ]
    }
   ],
   "source": [
    "stack = df_app_clean.Genres.str.split(';', expand=True).stack()\n",
    "print(stack)\n",
    "print(f'We now have a single column with shape: {stack.shape}')\n",
    "num_genres = stack.value_counts()\n",
    "print(f'Number of genres: {len(num_genres)}')"
   ]
  },
  {
   "cell_type": "code",
   "execution_count": null,
   "metadata": {
    "id": "8AMmxKHgoJGT"
   },
   "outputs": [],
   "source": []
  },
  {
   "cell_type": "markdown",
   "metadata": {
    "id": "7T4sfNpFdiUv"
   },
   "source": [
    "# Find the Most Expensive Apps, Filter out the Junk, and Calculate a (ballpark) Sales Revenue Estimate\n",
    "\n",
    "Let's examine the Price column more closely.\n",
    "\n",
    "**Challenge**: Convert the price column to numeric data. Then investigate the top 20 most expensive apps in the dataset.\n",
    "\n",
    "Remove all apps that cost more than $250 from the `df_apps_clean` DataFrame.\n",
    "\n",
    "Add a column called 'Revenue_Estimate' to the DataFrame. This column should hold the price of the app times the number of installs. What are the top 10 highest grossing paid apps according to this estimate? Out of the top 10 highest grossing paid apps, how many are games?\n"
   ]
  },
  {
   "cell_type": "code",
   "execution_count": null,
   "metadata": {
    "id": "CqhX2WCJoQEp"
   },
   "outputs": [],
   "source": []
  },
  {
   "cell_type": "markdown",
   "metadata": {
    "id": "Rgposh-CdiU4"
   },
   "source": [
    "### The most expensive apps sub $250"
   ]
  },
  {
   "cell_type": "code",
   "execution_count": null,
   "metadata": {
    "id": "c8_n8z8XoUML"
   },
   "outputs": [],
   "source": []
  },
  {
   "cell_type": "markdown",
   "metadata": {
    "id": "VGu85CLb4OOH"
   },
   "source": [
    "### Highest Grossing Paid Apps (ballpark estimate)"
   ]
  },
  {
   "cell_type": "code",
   "execution_count": null,
   "metadata": {
    "id": "3mDi45iIoVzE"
   },
   "outputs": [],
   "source": []
  },
  {
   "cell_type": "markdown",
   "metadata": {
    "dc": {
     "key": "18"
    },
    "id": "lvpM2MyTdiU6",
    "run_control": {
     "frozen": true
    },
    "tags": [
     "context"
    ]
   },
   "source": [
    "# Plotly Bar Charts & Scatter Plots: Analysing App Categories"
   ]
  },
  {
   "cell_type": "code",
   "execution_count": null,
   "metadata": {
    "id": "3L6hK0aLoYxY"
   },
   "outputs": [],
   "source": []
  },
  {
   "cell_type": "code",
   "execution_count": null,
   "metadata": {
    "id": "mg50Ts9joYz1"
   },
   "outputs": [],
   "source": []
  },
  {
   "cell_type": "code",
   "execution_count": null,
   "metadata": {
    "id": "WZZizlGjoYfn"
   },
   "outputs": [],
   "source": []
  },
  {
   "cell_type": "markdown",
   "metadata": {
    "id": "0tTurR7qdiU9"
   },
   "source": [
    "### Vertical Bar Chart - Highest Competition (Number of Apps)"
   ]
  },
  {
   "cell_type": "code",
   "execution_count": null,
   "metadata": {
    "id": "SFSMH00AoaMB"
   },
   "outputs": [],
   "source": []
  },
  {
   "cell_type": "markdown",
   "metadata": {
    "id": "57mowetLdiU_"
   },
   "source": [
    "### Horizontal Bar Chart - Most Popular Categories (Highest Downloads)"
   ]
  },
  {
   "cell_type": "code",
   "execution_count": null,
   "metadata": {
    "id": "zHO7eTJmocLm"
   },
   "outputs": [],
   "source": []
  },
  {
   "cell_type": "code",
   "execution_count": null,
   "metadata": {
    "id": "h7aUARLtocCy"
   },
   "outputs": [],
   "source": []
  },
  {
   "cell_type": "markdown",
   "metadata": {
    "id": "Uxk24qMk8vrz"
   },
   "source": [
    "### Category Concentration - Downloads vs. Competition\n",
    "\n",
    "**Challenge**: \n",
    "* First, create a DataFrame that has the number of apps in one column and the number of installs in another:\n",
    "\n",
    "<img src=https://imgur.com/uQRSlXi.png width=\"350\">\n",
    "\n",
    "* Then use the [plotly express examples from the documentation](https://plotly.com/python/line-and-scatter/) alongside the [.scatter() API reference](https://plotly.com/python-api-reference/generated/plotly.express.scatter.html)to create scatter plot that looks like this. \n",
    "\n",
    "<img src=https://imgur.com/cHsqh6a.png>\n",
    "\n",
    "*Hint*: Use the size, hover_name and color parameters in .scatter(). To scale the yaxis, call .update_layout() and specify that the yaxis should be on a log-scale like so: yaxis=dict(type='log') "
   ]
  },
  {
   "cell_type": "code",
   "execution_count": null,
   "metadata": {
    "id": "tVvGPDY7oe5A"
   },
   "outputs": [],
   "source": []
  },
  {
   "cell_type": "markdown",
   "metadata": {
    "id": "dmXDF75WdiVC"
   },
   "source": [
    "# Extracting Nested Data from a Column\n",
    "\n",
    "**Challenge**: How many different types of genres are there? Can an app belong to more than one genre? Check what happens when you use .value_counts() on a column with nested values? See if you can work around this problem by using the .split() function and the DataFrame's [.stack() method](https://pandas.pydata.org/pandas-docs/stable/reference/api/pandas.DataFrame.stack.html). \n"
   ]
  },
  {
   "cell_type": "code",
   "execution_count": null,
   "metadata": {
    "id": "3Lo69kS6ogdm"
   },
   "outputs": [],
   "source": []
  },
  {
   "cell_type": "markdown",
   "metadata": {
    "id": "F3zaKvfydiVI"
   },
   "source": [
    "# Colour Scales in Plotly Charts - Competition in Genres"
   ]
  },
  {
   "cell_type": "markdown",
   "metadata": {
    "id": "Ucw6RT59diVK"
   },
   "source": [
    "**Challenge**: Can you create this chart with the Series containing the genre data? \n",
    "\n",
    "<img src=https://imgur.com/DbcoQli.png width=400>\n",
    "\n",
    "Try experimenting with the built in colour scales in Plotly. You can find a full list [here](https://plotly.com/python/builtin-colorscales/). \n",
    "\n",
    "* Find a way to set the colour scale using the color_continuous_scale parameter. \n",
    "* Find a way to make the color axis disappear by using coloraxis_showscale. "
   ]
  },
  {
   "cell_type": "code",
   "execution_count": null,
   "metadata": {
    "id": "c5xbfMgxojoA"
   },
   "outputs": [],
   "source": []
  },
  {
   "cell_type": "markdown",
   "metadata": {
    "id": "BIWG_10PyIzL"
   },
   "source": [
    "# Grouped Bar Charts: Free vs. Paid Apps per Category"
   ]
  },
  {
   "cell_type": "code",
   "execution_count": null,
   "metadata": {
    "id": "ANMs7xywolDH"
   },
   "outputs": [],
   "source": []
  },
  {
   "cell_type": "markdown",
   "metadata": {
    "id": "wmRXm0TW1e_Z"
   },
   "source": [
    "**Challenge**: Use the plotly express bar [chart examples](https://plotly.com/python/bar-charts/#bar-chart-with-sorted-or-ordered-categories) and the [.bar() API reference](https://plotly.com/python-api-reference/generated/plotly.express.bar.html#plotly.express.bar) to create this bar chart: \n",
    "\n",
    "<img src=https://imgur.com/LE0XCxA.png>\n",
    "\n",
    "You'll want to use the `df_free_vs_paid` DataFrame that you created above that has the total number of free and paid apps per category. \n",
    "\n",
    "See if you can figure out how to get the look above by changing the `categoryorder` to 'total descending' as outlined in the documentation here [here](https://plotly.com/python/categorical-axes/#automatically-sorting-categories-by-name-or-total-value). "
   ]
  },
  {
   "cell_type": "code",
   "execution_count": null,
   "metadata": {
    "id": "tqOntrS7onGt"
   },
   "outputs": [],
   "source": []
  },
  {
   "cell_type": "markdown",
   "metadata": {
    "id": "nbYh2tU-VZ-i"
   },
   "source": [
    "# Plotly Box Plots: Lost Downloads for Paid Apps\n",
    "\n",
    "**Challenge**: Create a box plot that shows the number of Installs for free versus paid apps. How does the median number of installations compare? Is the difference large or small?\n",
    "\n",
    "Use the [Box Plots Guide](https://plotly.com/python/box-plots/) and the [.box API reference](https://plotly.com/python-api-reference/generated/plotly.express.box.html) to create the following chart. \n",
    "\n",
    "<img src=https://imgur.com/uVsECT3.png>\n"
   ]
  },
  {
   "cell_type": "code",
   "execution_count": null,
   "metadata": {
    "id": "Jip3hMZ7oqLS"
   },
   "outputs": [],
   "source": []
  },
  {
   "cell_type": "markdown",
   "metadata": {
    "id": "Xi2NaEBPVNrP"
   },
   "source": [
    "# Plotly Box Plots: Revenue by App Category\n",
    "\n",
    "**Challenge**: See if you can generate the chart below: \n",
    "\n",
    "<img src=https://imgur.com/v4CiNqX.png>\n",
    "\n",
    "Looking at the hover text, how much does the median app earn in the Tools category? If developing an Android app costs $30,000 or thereabouts, does the average photography app recoup its development costs?\n",
    "\n",
    "Hint: I've used 'min ascending' to sort the categories. "
   ]
  },
  {
   "cell_type": "code",
   "execution_count": null,
   "metadata": {
    "id": "W1iVoT8Dos7x"
   },
   "outputs": [],
   "source": []
  },
  {
   "cell_type": "markdown",
   "metadata": {
    "id": "uT32ylj4WS9B"
   },
   "source": [
    "# How Much Can You Charge? Examine Paid App Pricing Strategies by Category\n",
    "\n",
    "**Challenge**: What is the median price price for a paid app? Then compare pricing by category by creating another box plot. But this time examine the prices (instead of the revenue estimates) of the paid apps. I recommend using `{categoryorder':'max descending'}` to sort the categories."
   ]
  },
  {
   "cell_type": "code",
   "execution_count": null,
   "metadata": {
    "id": "AdBr0TUhouqs"
   },
   "outputs": [],
   "source": []
  },
  {
   "cell_type": "code",
   "execution_count": null,
   "metadata": {
    "id": "bJnABRw3ovwr"
   },
   "outputs": [],
   "source": []
  },
  {
   "cell_type": "code",
   "execution_count": null,
   "metadata": {
    "id": "zSXVSlVyQ4Kz"
   },
   "outputs": [],
   "source": []
  }
 ],
 "metadata": {
  "colab": {
   "name": "Google Play Store App Analytics (start).ipynb",
   "provenance": [],
   "toc_visible": true
  },
  "kernelspec": {
   "display_name": "Python 3",
   "language": "python",
   "name": "python3"
  },
  "language_info": {
   "codemirror_mode": {
    "name": "ipython",
    "version": 3
   },
   "file_extension": ".py",
   "mimetype": "text/x-python",
   "name": "python",
   "nbconvert_exporter": "python",
   "pygments_lexer": "ipython3",
   "version": "3.8.5"
  }
 },
 "nbformat": 4,
 "nbformat_minor": 1
}
