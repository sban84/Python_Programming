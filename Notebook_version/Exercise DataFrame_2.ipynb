{
 "cells": [
  {
   "cell_type": "code",
   "execution_count": 23,
   "metadata": {},
   "outputs": [
    {
     "name": "stdout",
     "output_type": "stream",
     "text": [
      "row_count = 1992 and col count = 3\n",
      "['POST']\n"
     ]
    }
   ],
   "source": [
    "import pandas as pd\n",
    "\n",
    "data = pd.read_csv(\"../data/QueryResults.csv\" ,names=[\"DATE\" , \"TAG\" , \"POST\"]  )\n",
    "\n",
    "data.head(10)\n",
    "row_count = data.shape[0]\n",
    "col_count = data.shape[1]\n",
    "print(f\"row_count = {row_count} and col count = {col_count}\")\n",
    "\n",
    "null_col = [col for col in data.columns if data[col].isnull().any()] \n",
    "\n",
    "print(null_col)"
   ]
  },
  {
   "cell_type": "code",
   "execution_count": null,
   "metadata": {},
   "outputs": [],
   "source": [
    "data.count() # wil exclude NA values in cols"
   ]
  }
 ],
 "metadata": {
  "kernelspec": {
   "display_name": "Python 3",
   "language": "python",
   "name": "python3"
  },
  "language_info": {
   "codemirror_mode": {
    "name": "ipython",
    "version": 3
   },
   "file_extension": ".py",
   "mimetype": "text/x-python",
   "name": "python",
   "nbconvert_exporter": "python",
   "pygments_lexer": "ipython3",
   "version": "3.8.5"
  }
 },
 "nbformat": 4,
 "nbformat_minor": 4
}
