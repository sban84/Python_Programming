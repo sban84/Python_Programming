{
 "cells": [
  {
   "cell_type": "code",
   "execution_count": 3,
   "metadata": {},
   "outputs": [
    {
     "name": "stdout",
     "output_type": "stream",
     "text": [
      "  set_num                        name  year  theme_id  num_parts\n",
      "0   001-1                       Gears  1965         1         43\n",
      "1  0011-2           Town Mini-Figures  1978        84         12\n",
      "2  0011-3  Castle 2 for 1 Bonus Offer  1987       199          0\n",
      "3  0012-1          Space Mini-Figures  1979       143         12\n",
      "4  0013-1          Space Mini-Figures  1979       143         12\n",
      "year\n",
      "1949      5\n",
      "1950      6\n",
      "1953      4\n",
      "1954     14\n",
      "1955     28\n",
      "       ... \n",
      "2017    786\n",
      "2018    816\n",
      "2019    840\n",
      "2020    674\n",
      "2021      3\n",
      "Name: set_num, Length: 71, dtype: int64\n"
     ]
    },
    {
     "data": {
      "text/plain": [
       "[<matplotlib.lines.Line2D at 0x7f8fdece43a0>]"
      ]
     },
     "execution_count": 3,
     "metadata": {},
     "output_type": "execute_result"
    },
    {
     "data": {
      "image/png": "[encoded data removed]",
      "text/plain": [
       "<Figure size 432x288 with 1 Axes>"
      ]
     },
     "metadata": {
      "needs_background": "light"
     },
     "output_type": "display_data"
    }
   ],
   "source": [
    "import pandas as pd\n",
    "\n",
    "import matplotlib.pyplot as plt\n",
    "\n",
    "\n",
    "pd.set_option('display.width', 400)\n",
    "pd.set_option('display.max_columns', 12)\n",
    "# data = pd.read_csv(\"../../data/sets.csv\" )\n",
    "# print(data.head())\n",
    "#\n",
    "# print(data.count())\n",
    "#print(data.loc[:, \"set_num\"])\n",
    "\n",
    "# Challenge 1 , get the unique colours\n",
    "# color = pd.read_csv(\"../../data/colors.csv\")\n",
    "# print(color.head(5))\n",
    "# uniq_name_count = len(color[\"name\"].unique())\n",
    "# print(uniq_name_count)\n",
    "# print(color[\"name\"].nunique())\n",
    "# # this wll give the each col and its count in series format\n",
    "# print(color[\"name\"].value_counts())\n",
    "\n",
    "## Challenge 2 # find the count for is_trans = t and =f separately\n",
    "#\n",
    "# t_cols = color.loc[ color[\"is_trans\"] == \"t\", :]\n",
    "# print(t_cols.count()[\"id\"])\n",
    "# f_cols = color.loc[ color[\"is_trans\"] == \"f\"]\n",
    "# print(f_cols.count()[\"id\"])\n",
    "#\n",
    "# print(color[\"is_trans\"].unique())\n",
    "#\n",
    "# using_grp = color.groupby(by=\"is_trans\").count()\n",
    "# print(using_grp)\n",
    "# using_grp_filterd = using_grp.loc[\"f\"][\"id\"]\n",
    "# print(using_grp_filterd)\n",
    "\n",
    "## Challenge 3 # find the In which year were the first LEGO sets released and what were these sets called?\n",
    "sets = pd.read_csv(\"../data/sets.csv\" )\n",
    "print(sets.head())\n",
    "sets_sorted_by_year = sets.sort_values(\"year\", ascending=True)\n",
    "\n",
    "#print(sets_sorted_by_year.head(10))\n",
    "## find out how many different products the company was selling in their first year since launch:\n",
    "# get_first_year = sets_sorted_by_year.head(1).loc[:, \"year\"]\n",
    "# print(get_first_year.values[0])\n",
    "# filter_by_first_year = sets_sorted_by_year.loc[ sets_sorted_by_year[\"year\"] == get_first_year.values[0]]\n",
    "# print(filter_by_first_year)\n",
    "# no_product_in_first_year =filter_by_first_year[\"set_num\"].nunique()\n",
    "# print(no_product_in_first_year)\n",
    "# names_of_these_prod = filter_by_first_year[\"set_num\"]\n",
    "# print(names_of_these_prod)\n",
    "\n",
    "\n",
    "## Challenge 4 : How many different products did the LEGO company sell in their first year of operation?\n",
    "# no_prod_first_year = first_year_set[\"set_num\"].nunique()\n",
    "# print(\"no_prod_first_year\" , no_prod_first_year)\n",
    "\n",
    "## Challenge 5 : What are the top 5 LEGO sets with the most number of parts?\n",
    "\n",
    "# top_sets = sets.sort_values(\"num_parts\" , ascending= False)\n",
    "# print(\"top LEGO with highest parts \" , top_sets.head(5))\n",
    "\n",
    "\n",
    "# Challenge 6 , sets/year\n",
    "sets_yearly = sets.groupby(\"year\").count()\n",
    "print(sets_yearly.loc[:,\"set_num\"])\n",
    "\n",
    "plt.plot(sets_yearly.index , sets_yearly.set_num)\n",
    "\n"
   ]
  },
  {
   "cell_type": "code",
   "execution_count": 7,
   "metadata": {},
   "outputs": [
    {
     "name": "stdout",
     "output_type": "stream",
     "text": [
      "      theme_id\n",
      "year          \n",
      "1949         2\n",
      "1950         1\n",
      "1953         2\n",
      "1954         2\n",
      "1955         4\n",
      "...        ...\n",
      "2017        89\n",
      "2018        93\n",
      "2019        78\n",
      "2020        82\n",
      "2021         1\n",
      "\n",
      "[71 rows x 1 columns]\n",
      "      theme_id\n",
      "year          \n",
      "1949         2\n",
      "1950         1\n",
      "1953         2\n",
      "1954         2\n",
      "1955         4\n",
      "...        ...\n",
      "2015        98\n",
      "2016        92\n",
      "2017        89\n",
      "2018        93\n",
      "2019        78\n",
      "\n",
      "[69 rows x 1 columns]\n"
     ]
    },
    {
     "data": {
      "text/plain": [
       "[<matplotlib.lines.Line2D at 0x7f8fddee8d00>]"
      ]
     },
     "execution_count": 7,
     "metadata": {},
     "output_type": "execute_result"
    },
    {
     "data": {
      "image/png": "[encoded data removed]",
      "text/plain": [
       "<Figure size 432x288 with 1 Axes>"
      ]
     },
     "metadata": {
      "needs_background": "light"
     },
     "output_type": "display_data"
    }
   ],
   "source": [
    "unique_themed_per_year = sets.groupby(by=\"year\").agg({ \"theme_id\" : pd.Series.nunique })\n",
    "print(unique_themed_per_year)\n",
    "filterd = unique_themed_per_year.iloc[:-2]\n",
    "print(filterd)\n",
    "plt.plot(filterd.index , filterd[\"theme_id\"])"
   ]
  },
  {
   "cell_type": "code",
   "execution_count": 14,
   "metadata": {},
   "outputs": [
    {
     "name": "stdout",
     "output_type": "stream",
     "text": [
      "     A  B  C\n",
      "0  foo  0  A\n",
      "1  foo  1  A\n",
      "2  foo  1  B\n",
      "3  bar  1  A\n",
      "4  bar  1  A\n",
      "     A  B  C\n",
      "0  foo  0  A\n",
      "1  foo  1  A\n",
      "2  foo  1  B\n",
      "3  bar  1  A\n"
     ]
    }
   ],
   "source": [
    "import pandas as pd\n",
    "df = pd.DataFrame({\"A\":[\"foo\", \"foo\", \"foo\", \"bar\" ,\"bar\"], \"B\":[0,1,1,1,1], \"C\":[\"A\",\"A\",\"B\",\"A\",\"A\"]})\n",
    "print(df)\n",
    "\n",
    "df.drop_duplicates(subset=['A', 'C'], keep=False)\n",
    "\n",
    "# row level duplicate remove \n",
    "\n",
    "uniq_row = df.drop_duplicates()\n",
    "print(uniq_row)"
   ]
  },
  {
   "cell_type": "code",
   "execution_count": 12,
   "metadata": {},
   "outputs": [
    {
     "data": {
      "text/html": [
       "<div>\n",
       "<style scoped>\n",
       "    .dataframe tbody tr th:only-of-type {\n",
       "        vertical-align: middle;\n",
       "    }\n",
       "\n",
       "    .dataframe tbody tr th {\n",
       "        vertical-align: top;\n",
       "    }\n",
       "\n",
       "    .dataframe thead th {\n",
       "        text-align: right;\n",
       "    }\n",
       "</style>\n",
       "<table border=\"1\" class=\"dataframe\">\n",
       "  <thead>\n",
       "    <tr style=\"text-align: right;\">\n",
       "      <th></th>\n",
       "      <th>Name</th>\n",
       "      <th>Age</th>\n",
       "      <th>Score</th>\n",
       "    </tr>\n",
       "  </thead>\n",
       "  <tbody>\n",
       "    <tr>\n",
       "      <th>1</th>\n",
       "      <td>Bobby</td>\n",
       "      <td>24</td>\n",
       "      <td>63</td>\n",
       "    </tr>\n",
       "    <tr>\n",
       "      <th>2</th>\n",
       "      <td>jodha</td>\n",
       "      <td>23</td>\n",
       "      <td>55</td>\n",
       "    </tr>\n",
       "    <tr>\n",
       "      <th>3</th>\n",
       "      <td>jack</td>\n",
       "      <td>22</td>\n",
       "      <td>74</td>\n",
       "    </tr>\n",
       "    <tr>\n",
       "      <th>4</th>\n",
       "      <td>raghu</td>\n",
       "      <td>23</td>\n",
       "      <td>31</td>\n",
       "    </tr>\n",
       "    <tr>\n",
       "      <th>5</th>\n",
       "      <td>Cathrine</td>\n",
       "      <td>24</td>\n",
       "      <td>77</td>\n",
       "    </tr>\n",
       "    <tr>\n",
       "      <th>7</th>\n",
       "      <td>Bobby</td>\n",
       "      <td>24</td>\n",
       "      <td>63</td>\n",
       "    </tr>\n",
       "    <tr>\n",
       "      <th>8</th>\n",
       "      <td>kumar</td>\n",
       "      <td>22</td>\n",
       "      <td>42</td>\n",
       "    </tr>\n",
       "    <tr>\n",
       "      <th>9</th>\n",
       "      <td>Alisa</td>\n",
       "      <td>23</td>\n",
       "      <td>62</td>\n",
       "    </tr>\n",
       "    <tr>\n",
       "      <th>10</th>\n",
       "      <td>Alex</td>\n",
       "      <td>24</td>\n",
       "      <td>89</td>\n",
       "    </tr>\n",
       "    <tr>\n",
       "      <th>11</th>\n",
       "      <td>Cathrine</td>\n",
       "      <td>24</td>\n",
       "      <td>77</td>\n",
       "    </tr>\n",
       "  </tbody>\n",
       "</table>\n",
       "</div>"
      ],
      "text/plain": [
       "        Name  Age  Score\n",
       "1      Bobby   24     63\n",
       "2      jodha   23     55\n",
       "3       jack   22     74\n",
       "4      raghu   23     31\n",
       "5   Cathrine   24     77\n",
       "7      Bobby   24     63\n",
       "8      kumar   22     42\n",
       "9      Alisa   23     62\n",
       "10      Alex   24     89\n",
       "11  Cathrine   24     77"
      ]
     },
     "execution_count": 12,
     "metadata": {},
     "output_type": "execute_result"
    }
   ],
   "source": [
    "def filter_fn(row):\n",
    "    if row['Name'] == 'Alisa' and row['Age'] > 24:\n",
    "        return False\n",
    "    else:\n",
    "        return True\n",
    "d = {\n",
    "    'Name': ['Alisa', 'Bobby', 'jodha', 'jack', 'raghu', 'Cathrine',\n",
    "             'Alisa', 'Bobby', 'kumar', 'Alisa', 'Alex', 'Cathrine'],\n",
    "    'Age': [26, 24, 23, 22, 23, 24, 26, 24, 22, 23, 24, 24],\n",
    "\n",
    "    'Score': [85, 63, 55, 74, 31, 77, 85, 63, 42, 62, 89, 77]}\n",
    "\n",
    "df = pd.DataFrame(d, columns=['Name', 'Age', 'Score'])\n",
    "df = pd.DataFrame(d, columns=['Name', 'Age', 'Score'])\n",
    "m = df.apply(filter_fn, axis=1)\n",
    "df[m]"
   ]
  },
  {
   "cell_type": "code",
   "execution_count": null,
   "metadata": {},
   "outputs": [],
   "source": []
  }
 ],
 "metadata": {
  "kernelspec": {
   "display_name": "Python 3",
   "language": "python",
   "name": "python3"
  },
  "language_info": {
   "codemirror_mode": {
    "name": "ipython",
    "version": 3
   },
   "file_extension": ".py",
   "mimetype": "text/x-python",
   "name": "python",
   "nbconvert_exporter": "python",
   "pygments_lexer": "ipython3",
   "version": "3.8.5"
  }
 },
 "nbformat": 4,
 "nbformat_minor": 4
}
